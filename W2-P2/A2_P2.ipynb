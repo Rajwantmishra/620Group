{
 "cells": [
  {
   "cell_type": "markdown",
   "metadata": {},
   "source": [
    "## Week 2 Part 2 :  Assignment Centrality Measures \n",
    "\n",
    "### Team Info \n",
    "* Rajwant Mishra\n",
    "* Md. Jalal Uddin\n",
    "* Sarah Wigodsky\n",
    "* Brian Liles\n"
   ]
  },
  {
   "cell_type": "markdown",
   "metadata": {},
   "source": [
    "<hr>\n",
    "<center> <h3> Implementation </h3> </center>\n",
    "<hr>"
   ]
  },
  {
   "cell_type": "markdown",
   "metadata": {},
   "source": [
    "### Data Collection\n",
    "\n",
    "A data set of political blogs available from the website http://www-personal.umich.edu/~mejn/netdata/ will be used to explore social networks.  The data set was compiled in 2005 by Lada Adamic and Natalie Glance and shared in Proceedings of the WWW-2005 Workshop on the Weblogging Ecosystem (2005).  The blog posts are from the time of the 2004 presidential election.  The nodes in the data set have attributes to designate bloggers as being liberal (0) or conservative (1)."
   ]
  },
  {
   "cell_type": "markdown",
   "metadata": {},
   "source": [
    "### File Format\n",
    "\n",
    "The data set is stored in a gml file.  The file lists nodes and edges for each blogger.  The source of the blog, website, and political leaning of the blogger is included.  The data set can be downloaded from the link shared above and loaded into python using the networkx command read_gml.  "
   ]
  },
  {
   "cell_type": "markdown",
   "metadata": {},
   "source": [
    "## Analysis \n",
    "\n",
    "\n",
    "We are curious about connections between bloggers:\n",
    "+ We would like to use <b> centrality measures  </b> to determine whether some bloggers have more influence than others.  \n",
    "+ A larger centrality measure would indicate a greater influence and a positive outcome for that node.  \n",
    "+ Do a small percentage of bloggers have most of the influence or is the influence spread out evenly amongst the bloggers?  \n",
    "+ Are bloggers of similar political leanings more connected to each other than to bloggers of different political opinions?\n",
    "+ Are the most influential bloggers liberal or conservative?  \n",
    "+ Comparing degree centrality across liberal and conservative bloggers would enable us to answer these questions."
   ]
  }
 ],
 "metadata": {
  "kernelspec": {
   "display_name": "Python 3",
   "language": "python",
   "name": "python3"
  },
  "language_info": {
   "codemirror_mode": {
    "name": "ipython",
    "version": 3
   },
   "file_extension": ".py",
   "mimetype": "text/x-python",
   "name": "python",
   "nbconvert_exporter": "python",
   "pygments_lexer": "ipython3",
   "version": "3.7.3"
  }
 },
 "nbformat": 4,
 "nbformat_minor": 2
}
