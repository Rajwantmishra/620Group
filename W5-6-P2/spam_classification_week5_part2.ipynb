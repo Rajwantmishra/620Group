{
 "cells": [
  {
   "cell_type": "markdown",
   "metadata": {},
   "source": [
    "## Week 5 - Part 2 - Spam Classification\n",
    "### DATA 620 - Web Analytics\n",
    "### Group 3\n",
    "+ Rajwant Mishra\n",
    "+ Md. Jalal Uddin\n",
    "+ Sarah Wigodsky\n",
    "\n",
    "YouTube : [here](http://youtu.be/ZiFBX5gbQY8?hd=1) "
   ]
  },
  {
   "cell_type": "markdown",
   "metadata": {},
   "source": [
    "#### Dataset\n",
    "\n",
    "The dataset consists of a list of characteristics from emails and was generated from June-July 1999.\n",
    "Creators: Mark Hopkins, Erik Reeber, George Forman, Jaap Suermondt\n",
    "        Hewlett-Packard Labs, 1501 Page Mill Rd., Palo Alto, CA 94304\n",
    "Donor: George Forman (gforman at nospam hpl.hp.com)  650-857-7835\n",
    "\n",
    "The dataset and documentation can be found from the UCI Machine Learning Repository at http://archive.ics.uci.edu/ml/datasets/Spambase\n",
    "\n",
    "There are 57 attributes and 1 target variable, listing emails as spam (1) or not spam (0).\n",
    "\n",
    "There are 48 attributes of word frequency.  This gives the percentage that a particular word appears in comparison with the total number of words in the email. \n",
    "\n",
    "There are 6 attributes of character frequency.  This gives the percentage that a character appears in comparison the total number of characters in the email.\n",
    "\n",
    "There is 1 variable that lists the averate length of uninterupred capital letters.\n",
    "\n",
    "There is 1 variable that lists the length of the longest sequence of uninterupted captial letters.\n",
    "\n",
    "There is 1 variable that lists the total number of capital letters in the email."
   ]
  },
  {
   "cell_type": "code",
   "execution_count": 63,
   "metadata": {},
   "outputs": [],
   "source": [
    "#import libraries\n",
    "import pandas as pd\n",
    "from xgboost import XGBClassifier\n",
    "from sklearn import tree\n",
    "from sklearn.model_selection import train_test_split\n",
    "from sklearn.metrics import accuracy_score\n",
    "from sklearn.ensemble import RandomForestClassifier\n",
    "from sklearn.metrics import confusion_matrix\n",
    "from sklearn.svm import LinearSVC\n",
    "from sklearn.metrics import f1_score\n",
    "import matplotlib.pyplot as plt\n",
    "from sklearn.model_selection import cross_val_score\n",
    "import numpy as np"
   ]
  },
  {
   "cell_type": "code",
   "execution_count": 24,
   "metadata": {},
   "outputs": [
    {
     "data": {
      "text/html": [
       "<div>\n",
       "<style scoped>\n",
       "    .dataframe tbody tr th:only-of-type {\n",
       "        vertical-align: middle;\n",
       "    }\n",
       "\n",
       "    .dataframe tbody tr th {\n",
       "        vertical-align: top;\n",
       "    }\n",
       "\n",
       "    .dataframe thead th {\n",
       "        text-align: right;\n",
       "    }\n",
       "</style>\n",
       "<table border=\"1\" class=\"dataframe\">\n",
       "  <thead>\n",
       "    <tr style=\"text-align: right;\">\n",
       "      <th>attributes</th>\n",
       "      <th>word_freq_make</th>\n",
       "      <th>word_freq_address</th>\n",
       "      <th>word_freq_all</th>\n",
       "      <th>word_freq_3d</th>\n",
       "      <th>word_freq_our</th>\n",
       "      <th>word_freq_over</th>\n",
       "      <th>word_freq_remove</th>\n",
       "      <th>word_freq_internet</th>\n",
       "      <th>word_freq_order</th>\n",
       "      <th>word_freq_mail</th>\n",
       "      <th>...</th>\n",
       "      <th>char_freq_;</th>\n",
       "      <th>char_freq_(</th>\n",
       "      <th>char_freq_[</th>\n",
       "      <th>char_freq_!</th>\n",
       "      <th>char_freq_$</th>\n",
       "      <th>char_freq_#</th>\n",
       "      <th>capital_run_length_average</th>\n",
       "      <th>capital_run_length_longest</th>\n",
       "      <th>capital_run_length_total</th>\n",
       "      <th>target</th>\n",
       "    </tr>\n",
       "  </thead>\n",
       "  <tbody>\n",
       "    <tr>\n",
       "      <th>0</th>\n",
       "      <td>0.00</td>\n",
       "      <td>0.64</td>\n",
       "      <td>0.64</td>\n",
       "      <td>0.0</td>\n",
       "      <td>0.32</td>\n",
       "      <td>0.00</td>\n",
       "      <td>0.00</td>\n",
       "      <td>0.00</td>\n",
       "      <td>0.00</td>\n",
       "      <td>0.00</td>\n",
       "      <td>...</td>\n",
       "      <td>0.00</td>\n",
       "      <td>0.000</td>\n",
       "      <td>0.0</td>\n",
       "      <td>0.778</td>\n",
       "      <td>0.000</td>\n",
       "      <td>0.000</td>\n",
       "      <td>3.756</td>\n",
       "      <td>61</td>\n",
       "      <td>278</td>\n",
       "      <td>1</td>\n",
       "    </tr>\n",
       "    <tr>\n",
       "      <th>1</th>\n",
       "      <td>0.21</td>\n",
       "      <td>0.28</td>\n",
       "      <td>0.50</td>\n",
       "      <td>0.0</td>\n",
       "      <td>0.14</td>\n",
       "      <td>0.28</td>\n",
       "      <td>0.21</td>\n",
       "      <td>0.07</td>\n",
       "      <td>0.00</td>\n",
       "      <td>0.94</td>\n",
       "      <td>...</td>\n",
       "      <td>0.00</td>\n",
       "      <td>0.132</td>\n",
       "      <td>0.0</td>\n",
       "      <td>0.372</td>\n",
       "      <td>0.180</td>\n",
       "      <td>0.048</td>\n",
       "      <td>5.114</td>\n",
       "      <td>101</td>\n",
       "      <td>1028</td>\n",
       "      <td>1</td>\n",
       "    </tr>\n",
       "    <tr>\n",
       "      <th>2</th>\n",
       "      <td>0.06</td>\n",
       "      <td>0.00</td>\n",
       "      <td>0.71</td>\n",
       "      <td>0.0</td>\n",
       "      <td>1.23</td>\n",
       "      <td>0.19</td>\n",
       "      <td>0.19</td>\n",
       "      <td>0.12</td>\n",
       "      <td>0.64</td>\n",
       "      <td>0.25</td>\n",
       "      <td>...</td>\n",
       "      <td>0.01</td>\n",
       "      <td>0.143</td>\n",
       "      <td>0.0</td>\n",
       "      <td>0.276</td>\n",
       "      <td>0.184</td>\n",
       "      <td>0.010</td>\n",
       "      <td>9.821</td>\n",
       "      <td>485</td>\n",
       "      <td>2259</td>\n",
       "      <td>1</td>\n",
       "    </tr>\n",
       "    <tr>\n",
       "      <th>3</th>\n",
       "      <td>0.00</td>\n",
       "      <td>0.00</td>\n",
       "      <td>0.00</td>\n",
       "      <td>0.0</td>\n",
       "      <td>0.63</td>\n",
       "      <td>0.00</td>\n",
       "      <td>0.31</td>\n",
       "      <td>0.63</td>\n",
       "      <td>0.31</td>\n",
       "      <td>0.63</td>\n",
       "      <td>...</td>\n",
       "      <td>0.00</td>\n",
       "      <td>0.137</td>\n",
       "      <td>0.0</td>\n",
       "      <td>0.137</td>\n",
       "      <td>0.000</td>\n",
       "      <td>0.000</td>\n",
       "      <td>3.537</td>\n",
       "      <td>40</td>\n",
       "      <td>191</td>\n",
       "      <td>1</td>\n",
       "    </tr>\n",
       "    <tr>\n",
       "      <th>4</th>\n",
       "      <td>0.00</td>\n",
       "      <td>0.00</td>\n",
       "      <td>0.00</td>\n",
       "      <td>0.0</td>\n",
       "      <td>0.63</td>\n",
       "      <td>0.00</td>\n",
       "      <td>0.31</td>\n",
       "      <td>0.63</td>\n",
       "      <td>0.31</td>\n",
       "      <td>0.63</td>\n",
       "      <td>...</td>\n",
       "      <td>0.00</td>\n",
       "      <td>0.135</td>\n",
       "      <td>0.0</td>\n",
       "      <td>0.135</td>\n",
       "      <td>0.000</td>\n",
       "      <td>0.000</td>\n",
       "      <td>3.537</td>\n",
       "      <td>40</td>\n",
       "      <td>191</td>\n",
       "      <td>1</td>\n",
       "    </tr>\n",
       "  </tbody>\n",
       "</table>\n",
       "<p>5 rows × 58 columns</p>\n",
       "</div>"
      ],
      "text/plain": [
       "attributes  word_freq_make  word_freq_address  word_freq_all  word_freq_3d  \\\n",
       "0                     0.00               0.64           0.64           0.0   \n",
       "1                     0.21               0.28           0.50           0.0   \n",
       "2                     0.06               0.00           0.71           0.0   \n",
       "3                     0.00               0.00           0.00           0.0   \n",
       "4                     0.00               0.00           0.00           0.0   \n",
       "\n",
       "attributes  word_freq_our  word_freq_over  word_freq_remove  \\\n",
       "0                    0.32            0.00              0.00   \n",
       "1                    0.14            0.28              0.21   \n",
       "2                    1.23            0.19              0.19   \n",
       "3                    0.63            0.00              0.31   \n",
       "4                    0.63            0.00              0.31   \n",
       "\n",
       "attributes  word_freq_internet  word_freq_order  word_freq_mail   ...    \\\n",
       "0                         0.00             0.00            0.00   ...     \n",
       "1                         0.07             0.00            0.94   ...     \n",
       "2                         0.12             0.64            0.25   ...     \n",
       "3                         0.63             0.31            0.63   ...     \n",
       "4                         0.63             0.31            0.63   ...     \n",
       "\n",
       "attributes  char_freq_;  char_freq_(  char_freq_[  char_freq_!  char_freq_$  \\\n",
       "0                  0.00        0.000          0.0        0.778        0.000   \n",
       "1                  0.00        0.132          0.0        0.372        0.180   \n",
       "2                  0.01        0.143          0.0        0.276        0.184   \n",
       "3                  0.00        0.137          0.0        0.137        0.000   \n",
       "4                  0.00        0.135          0.0        0.135        0.000   \n",
       "\n",
       "attributes  char_freq_#  capital_run_length_average  \\\n",
       "0                 0.000                       3.756   \n",
       "1                 0.048                       5.114   \n",
       "2                 0.010                       9.821   \n",
       "3                 0.000                       3.537   \n",
       "4                 0.000                       3.537   \n",
       "\n",
       "attributes  capital_run_length_longest  capital_run_length_total  target  \n",
       "0                                   61                       278       1  \n",
       "1                                  101                      1028       1  \n",
       "2                                  485                      2259       1  \n",
       "3                                   40                       191       1  \n",
       "4                                   40                       191       1  \n",
       "\n",
       "[5 rows x 58 columns]"
      ]
     },
     "execution_count": 24,
     "metadata": {},
     "output_type": "execute_result"
    }
   ],
   "source": [
    "#load data\n",
    "spam = pd.read_csv('spam.csv', header=None)\n",
    "\n",
    "#load column titles\n",
    "col_titles = pd.read_csv('spam_column_names.csv', header=None)\n",
    "col_titles.columns = ['attributes']\n",
    "spam.columns = col_titles['attributes']\n",
    "\n",
    "spam.head()"
   ]
  },
  {
   "cell_type": "code",
   "execution_count": 31,
   "metadata": {},
   "outputs": [
    {
     "data": {
      "text/plain": [
       "0    2788\n",
       "1    1813\n",
       "Name: target, dtype: int64"
      ]
     },
     "execution_count": 31,
     "metadata": {},
     "output_type": "execute_result"
    }
   ],
   "source": [
    "# counting number of spam and not spam emails\n",
    "spam['target'].value_counts()"
   ]
  },
  {
   "cell_type": "markdown",
   "metadata": {},
   "source": [
    "The dataset contains 2,788 emails that are not spam and 1,813 emails that are spam."
   ]
  },
  {
   "cell_type": "markdown",
   "metadata": {},
   "source": [
    "#### Creating a Test Set and Training Set"
   ]
  },
  {
   "cell_type": "code",
   "execution_count": 38,
   "metadata": {},
   "outputs": [],
   "source": [
    "#test set will be 30% of data and set a seed\n",
    "test_size = 0.3\n",
    "random_state = 512\n",
    "\n",
    "#separate the target variable from the input variables\n",
    "X = spam.loc[:,spam.columns != 'target']\n",
    "y = spam.loc[:,spam.columns == 'target']\n",
    "\n",
    "#split data set into training and testing\n",
    "X_train, X_test, y_train, y_test = train_test_split(X, y, test_size=test_size, random_state=random_state)"
   ]
  },
  {
   "cell_type": "markdown",
   "metadata": {},
   "source": [
    "#### Run Models"
   ]
  },
  {
   "cell_type": "markdown",
   "metadata": {},
   "source": [
    "##### Model 1: Decision Tree\n",
    "\n",
    "A decision tree is a model that is built based on sets of binary decisions."
   ]
  },
  {
   "cell_type": "code",
   "execution_count": 41,
   "metadata": {},
   "outputs": [
    {
     "name": "stdout",
     "output_type": "stream",
     "text": [
      "Training Set Accuracy:  0.9996894409937889\n",
      "Test Set Accuracy:  0.9196234612599565\n",
      "F1 Score:  0.8939828080229226\n",
      "Confusion Matrix \n",
      " [[802  74]\n",
      " [ 37 468]]\n"
     ]
    }
   ],
   "source": [
    "model_dt = tree.DecisionTreeClassifier()\n",
    "trained_dt = model_dt.fit(X_train, y_train)\n",
    "pred_dt = trained_dt.predict(X_test)\n",
    "\n",
    "print('Training Set Accuracy: ', accuracy_score(y_train, trained_dt.predict(X_train)))\n",
    "print('Test Set Accuracy: ', accuracy_score(y_test, pred_dt))\n",
    "print('F1 Score: ', f1_score(y_test, pred_dt))\n",
    "print('Confusion Matrix \\n', confusion_matrix(y_test, pred_dt))"
   ]
  },
  {
   "cell_type": "markdown",
   "metadata": {},
   "source": [
    "The decision tree model has an accurancy of 0.92 for the test set.  That means that 92% of the predictions were correct.  The F1 score, which is the harmonic mean of the recall and precision, is 0.89. "
   ]
  },
  {
   "cell_type": "markdown",
   "metadata": {},
   "source": [
    "##### Model 2: Random Forest\n",
    "A random forest model is built using many decision trees.  The result of the random forest model is determined by averaging the results of each decision tree in the forest."
   ]
  },
  {
   "cell_type": "code",
   "execution_count": 42,
   "metadata": {},
   "outputs": [
    {
     "name": "stdout",
     "output_type": "stream",
     "text": [
      "Training Set Accuracy:  0.9953416149068323\n",
      "Test Set Accuracy:  0.9543808834178131\n",
      "F1 Score:  0.9374379344587885\n",
      "Confusion Matrix \n",
      " [[846  30]\n",
      " [ 33 472]]\n"
     ]
    },
    {
     "name": "stderr",
     "output_type": "stream",
     "text": [
      "C:\\Users\\Swigo\\Anaconda3\\lib\\site-packages\\ipykernel_launcher.py:2: DataConversionWarning: A column-vector y was passed when a 1d array was expected. Please change the shape of y to (n_samples,), for example using ravel().\n",
      "  \n"
     ]
    }
   ],
   "source": [
    "model_rf = RandomForestClassifier()\n",
    "trained_rf = model_rf.fit(X_train, y_train)\n",
    "pred_rf = trained_rf.predict(X_test)\n",
    "\n",
    "print('Training Set Accuracy: ', accuracy_score(y_train, trained_rf.predict(X_train)))\n",
    "print('Test Set Accuracy: ', accuracy_score(y_test, pred_rf))\n",
    "print('F1 Score: ', f1_score(y_test, pred_rf))\n",
    "print('Confusion Matrix \\n', confusion_matrix(y_test, pred_rf))"
   ]
  },
  {
   "cell_type": "markdown",
   "metadata": {},
   "source": [
    "The random forest model was more successful than the decision tree model.  The test set has an accuracy of 0.95 and the F1 score is 0.94."
   ]
  },
  {
   "cell_type": "markdown",
   "metadata": {},
   "source": [
    "##### Model 3: Support Vector Machine\n",
    "\n",
    "A Support Vector Machine, SVM, is built by creating a series of linear separations between the variables in order to create model to predict the target variable."
   ]
  },
  {
   "cell_type": "code",
   "execution_count": 43,
   "metadata": {},
   "outputs": [
    {
     "name": "stderr",
     "output_type": "stream",
     "text": [
      "C:\\Users\\Swigo\\Anaconda3\\lib\\site-packages\\sklearn\\utils\\validation.py:578: DataConversionWarning: A column-vector y was passed when a 1d array was expected. Please change the shape of y to (n_samples, ), for example using ravel().\n",
      "  y = column_or_1d(y, warn=True)\n"
     ]
    },
    {
     "name": "stdout",
     "output_type": "stream",
     "text": [
      "Training Set Accuracy:  0.84472049689441\n",
      "Test Set Accuracy:  0.833454018826937\n",
      "F1 Score:  0.8070469798657717\n",
      "Confusion Matrix \n",
      " [[670 206]\n",
      " [ 24 481]]\n"
     ]
    }
   ],
   "source": [
    "model_svm = LinearSVC()\n",
    "trained_svm = model_svm.fit(X_train, y_train)\n",
    "pred_svm = trained_svm.predict(X_test)\n",
    "\n",
    "print('Training Set Accuracy: ', accuracy_score(y_train, trained_svm.predict(X_train)))\n",
    "print('Test Set Accuracy: ', accuracy_score(y_test, pred_svm))\n",
    "print('F1 Score: ', f1_score(y_test, pred_svm))\n",
    "print('Confusion Matrix \\n', confusion_matrix(y_test, pred_svm))"
   ]
  },
  {
   "cell_type": "markdown",
   "metadata": {},
   "source": [
    "The SVM model has an accuracy of 0.83 and an F1 score of 0.81."
   ]
  },
  {
   "cell_type": "markdown",
   "metadata": {},
   "source": [
    "##### Model 4: Extreme Gradient Boosting (xgboost)\n",
    "\n",
    "xgboost builds a decision tree and then modifies that decision tree based on its errors.  A learning rate is used to scale the contribution of the new decision tree that is built.  A series of decision trees get built based on the errors from the previous tree.  And each new tree contributes to the model."
   ]
  },
  {
   "cell_type": "code",
   "execution_count": 53,
   "metadata": {},
   "outputs": [
    {
     "name": "stderr",
     "output_type": "stream",
     "text": [
      "C:\\Users\\Swigo\\Anaconda3\\lib\\site-packages\\pandas\\core\\frame.py:3781: SettingWithCopyWarning: \n",
      "A value is trying to be set on a copy of a slice from a DataFrame\n",
      "\n",
      "See the caveats in the documentation: http://pandas.pydata.org/pandas-docs/stable/indexing.html#indexing-view-versus-copy\n",
      "  return super(DataFrame, self).rename(**kwargs)\n",
      "C:\\Users\\Swigo\\Anaconda3\\lib\\site-packages\\sklearn\\preprocessing\\label.py:95: DataConversionWarning: A column-vector y was passed when a 1d array was expected. Please change the shape of y to (n_samples, ), for example using ravel().\n",
      "  y = column_or_1d(y, warn=True)\n",
      "C:\\Users\\Swigo\\Anaconda3\\lib\\site-packages\\sklearn\\preprocessing\\label.py:128: DataConversionWarning: A column-vector y was passed when a 1d array was expected. Please change the shape of y to (n_samples, ), for example using ravel().\n",
      "  y = column_or_1d(y, warn=True)\n"
     ]
    },
    {
     "name": "stdout",
     "output_type": "stream",
     "text": [
      "Training Set Accuracy:  0.962111801242236\n",
      "Test Set Accuracy:  0.9522085445329471\n",
      "F1 Score:  0.9339999999999999\n",
      "Confusion Matrix \n",
      " [[848  28]\n",
      " [ 38 467]]\n"
     ]
    },
    {
     "name": "stderr",
     "output_type": "stream",
     "text": [
      "C:\\Users\\Swigo\\Anaconda3\\lib\\site-packages\\sklearn\\preprocessing\\label.py:151: DeprecationWarning: The truth value of an empty array is ambiguous. Returning False, but in future this will result in an error. Use `array.size > 0` to check that an array is not empty.\n",
      "  if diff:\n",
      "C:\\Users\\Swigo\\Anaconda3\\lib\\site-packages\\sklearn\\preprocessing\\label.py:151: DeprecationWarning: The truth value of an empty array is ambiguous. Returning False, but in future this will result in an error. Use `array.size > 0` to check that an array is not empty.\n",
      "  if diff:\n"
     ]
    }
   ],
   "source": [
    "#xgboost model does not allow feature names to include commas\n",
    "X_train.rename(columns={'char_freq_;' : 'char_freq_semicolon',\n",
    "                        'char_freq_!' : 'char_freq_exclam',\n",
    "                        'char_freq_$' : 'char_freq_dollar',\n",
    "                        'char_freq_(' : 'char_freq_paren',\n",
    "                        'char_freq_[' : 'char_freq_bracket',\n",
    "                        'char_freq_#' : 'char_freq_pound',\n",
    "                        'char_freq_[' : 'char_freq_bracket'}, inplace=True)\n",
    "X_test.rename(columns={'char_freq_;' : 'char_freq_semicolon',\n",
    "                        'char_freq_!' : 'char_freq_exclam',\n",
    "                        'char_freq_$' : 'char_freq_dollar',\n",
    "                        'char_freq_(' : 'char_freq_paren',\n",
    "                        'char_freq_[' : 'char_freq_bracket',\n",
    "                        'char_freq_#' : 'char_freq_pound',\n",
    "                        'char_freq_[' : 'char_freq_bracket'}, inplace=True)\n",
    "\n",
    "model_xgb = XGBClassifier()\n",
    "trained_xgb = model_xgb.fit(X_train, y_train)\n",
    "pred_xgb = trained_xgb.predict(X_test)\n",
    "\n",
    "print('Training Set Accuracy: ', accuracy_score(y_train, trained_xgb.predict(X_train)))\n",
    "print('Test Set Accuracy: ', accuracy_score(y_test, pred_xgb))\n",
    "print('F1 Score: ', f1_score(y_test, pred_xgb))\n",
    "print('Confusion Matrix \\n', confusion_matrix(y_test, pred_xgb))"
   ]
  },
  {
   "cell_type": "markdown",
   "metadata": {},
   "source": [
    "The accuracy in making predictions for the test set is 0.95 and the F1 score is 0.93."
   ]
  },
  {
   "cell_type": "markdown",
   "metadata": {},
   "source": [
    "#### Model Selection\n",
    "The best model was the random forest model.  \n",
    "Let's describe the model:"
   ]
  },
  {
   "cell_type": "code",
   "execution_count": 55,
   "metadata": {},
   "outputs": [
    {
     "data": {
      "text/plain": [
       "RandomForestClassifier(bootstrap=True, class_weight=None, criterion='gini',\n",
       "            max_depth=None, max_features='auto', max_leaf_nodes=None,\n",
       "            min_impurity_decrease=0.0, min_impurity_split=None,\n",
       "            min_samples_leaf=1, min_samples_split=2,\n",
       "            min_weight_fraction_leaf=0.0, n_estimators=10, n_jobs=1,\n",
       "            oob_score=False, random_state=None, verbose=0,\n",
       "            warm_start=False)"
      ]
     },
     "execution_count": 55,
     "metadata": {},
     "output_type": "execute_result"
    }
   ],
   "source": [
    "model_rf"
   ]
  },
  {
   "cell_type": "markdown",
   "metadata": {},
   "source": [
    "##### Feature Importance\n",
    "The following are the 10 most significant variables being used in the random forest model.\n"
   ]
  },
  {
   "cell_type": "code",
   "execution_count": 60,
   "metadata": {},
   "outputs": [
    {
     "data": {
      "image/png": "[encoded data removed]",
      "text/plain": [
       "<matplotlib.figure.Figure at 0x236b96e36a0>"
      ]
     },
     "metadata": {
      "needs_background": "light"
     },
     "output_type": "display_data"
    }
   ],
   "source": [
    "#feature importance\n",
    "feature_importances = pd.DataFrame(model_rf.feature_importances_,\n",
    "                                  index=X_train.columns,\n",
    "                                  columns=['importance']).sort_values('importance', ascending=False)\n",
    "feature_importances = feature_importances[:10]\n",
    "feature_importances.plot(kind='barh')\n",
    "plt.title('Feature Importances')\n",
    "plt.show()"
   ]
  },
  {
   "cell_type": "markdown",
   "metadata": {},
   "source": [
    "The most important variables to determine whether an email is spam are:\n",
    "+ the frequency of exclamation points\n",
    "+ the frequency of dollar signs\n",
    "+ the longest word madeup of capital letters\n",
    "+ the average length of words madeup entirely of capital letters\n",
    "+ the frequency of the word 'your'\n",
    "+ the frequency of the word 'free'\n",
    "+ the frequency of the word 'remove'\n",
    "+ the frequency of the word 'hp'\n",
    "+ the total number of capital letters\n",
    "+ the frequency of the word 'money'"
   ]
  },
  {
   "cell_type": "markdown",
   "metadata": {},
   "source": [
    "To validate this result, we will choose a different seed for splitting the training and testing set and rerun the model."
   ]
  },
  {
   "cell_type": "code",
   "execution_count": 61,
   "metadata": {},
   "outputs": [
    {
     "name": "stdout",
     "output_type": "stream",
     "text": [
      "Training Set Accuracy:  0.9947204968944099\n",
      "Test Set Accuracy:  0.946415640839971\n",
      "F1 Score:  0.9309701492537314\n",
      "Confusion Matrix \n",
      " [[808  19]\n",
      " [ 55 499]]\n"
     ]
    },
    {
     "name": "stderr",
     "output_type": "stream",
     "text": [
      "C:\\Users\\Swigo\\Anaconda3\\lib\\site-packages\\ipykernel_launcher.py:13: DataConversionWarning: A column-vector y was passed when a 1d array was expected. Please change the shape of y to (n_samples,), for example using ravel().\n",
      "  del sys.path[0]\n"
     ]
    }
   ],
   "source": [
    "#test set will be 30% of data and set a seed\n",
    "test_size = 0.3\n",
    "random_state = 44\n",
    "\n",
    "#separate the target variable from the input variables\n",
    "X = spam.loc[:,spam.columns != 'target']\n",
    "y = spam.loc[:,spam.columns == 'target']\n",
    "\n",
    "#split data set into training and testing\n",
    "X_train, X_test, y_train, y_test = train_test_split(X, y, test_size=test_size, random_state=random_state)\n",
    "\n",
    "model_rf = RandomForestClassifier()\n",
    "trained_rf = model_rf.fit(X_train, y_train)\n",
    "pred_rf = trained_rf.predict(X_test)\n",
    "\n",
    "print('Training Set Accuracy: ', accuracy_score(y_train, trained_rf.predict(X_train)))\n",
    "print('Test Set Accuracy: ', accuracy_score(y_test, pred_rf))\n",
    "print('F1 Score: ', f1_score(y_test, pred_rf))\n",
    "print('Confusion Matrix \\n', confusion_matrix(y_test, pred_rf))"
   ]
  },
  {
   "cell_type": "markdown",
   "metadata": {},
   "source": [
    "This model gives a slightly worse result, but it is still fairly close to the result of the initial random forest model.  This tells us that the ability of the random forest model to accurately predict whether and email is spam or not is robust."
   ]
  }
 ],
 "metadata": {
  "kernelspec": {
   "display_name": "Python 3",
   "language": "python",
   "name": "python3"
  },
  "language_info": {
   "codemirror_mode": {
    "name": "ipython",
    "version": 3
   },
   "file_extension": ".py",
   "mimetype": "text/x-python",
   "name": "python",
   "nbconvert_exporter": "python",
   "pygments_lexer": "ipython3",
   "version": "3.6.4"
  }
 },
 "nbformat": 4,
 "nbformat_minor": 2
}
