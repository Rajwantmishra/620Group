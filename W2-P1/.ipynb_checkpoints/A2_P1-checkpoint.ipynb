{
 "cells": [
  {
   "cell_type": "markdown",
   "metadata": {},
   "source": [
    "## Week 2 Part 1\n",
    "### Team Info \n",
    "* Rajwant Mishra\n",
    "* Md. Jalal Uddin\n",
    "* Sarah Wigodsky\n",
    "* Brian Liles\n",
    "\n",
    "*Video*: [Youtube ](https://www.youtube.com/watch?v=XMDxpIXh-as)\n"
   ]
  },
  {
   "cell_type": "markdown",
   "metadata": {},
   "source": [
    "This week's assignment is to:\n",
    "1. Load a graph database of your choosing from a text file or other source. If you take a\n",
    "large network dataset from the web (such as from https://snap.stanford.edu/data/), please\n",
    "feel free at this point to load just a small subset of the nodes and edges.\n",
    "2. Create basic analysis on the graph, including the graph’s diameter, and at least one other\n",
    "metric of your choosing. You may either code the functions by hand (to build your\n",
    "intuition and insight), or use functions in an existing package.\n",
    "3. Use a visualization tool of your choice (Neo4j, Gephi, etc.) to display information.\n",
    "4. Please record a short video (~ 5 minutes), and submit a link to the video as part of your\n",
    "homework submission. "
   ]
  },
  {
   "cell_type": "markdown",
   "metadata": {},
   "source": [
    "<hr>\n",
    "<center> <h3> Guided Implementation </h3> </center>\n",
    "<hr>"
   ]
  },
  {
   "cell_type": "code",
   "execution_count": 207,
   "metadata": {},
   "outputs": [],
   "source": [
    "import networkx as nx\n",
    "import pandas as pd\n",
    "import matplotlib.pyplot as plt\n",
    "\n",
    "%matplotlib inline\n"
   ]
  },
  {
   "cell_type": "markdown",
   "metadata": {},
   "source": [
    "### About Data Source \n",
    "We are going to read data from \"https://snap.stanford.edu/data/\" <br>\n",
    "This dataset consists of 'circles' (or 'friends lists') from Facebook. Facebook data was collected from survey participants using this Facebook app. The dataset includes node features (profiles), circles, and ego networks. \n",
    "<table id=\"datatab\" summary=\"Dataset statistics\">\n",
    "  <tbody><tr> <th colspan=\"2\">Dataset statistics</th> </tr>\n",
    "  <tr><td>Nodes</td> <td>4039</td></tr>\n",
    "  <tr><td>Edges</td> <td>88234</td></tr>\n",
    "  <tr><td>Nodes in largest WCC</td> <td>4039 (1.000)</td></tr>\n",
    "  <tr><td>Edges in largest WCC</td> <td>88234 (1.000)</td></tr>\n",
    "  <tr><td>Nodes in largest SCC</td> <td>4039 (1.000)</td></tr>\n",
    "  <tr><td>Edges in largest SCC</td> <td>88234 (1.000)</td></tr>\n",
    "  <tr><td>Average clustering coefficient</td> <td>0.6055</td></tr>\n",
    "  <tr><td>Number of triangles</td> <td>1612010</td></tr>\n",
    "  <tr><td>Fraction of closed triangles</td> <td>0.2647</td></tr>\n",
    "  <tr><td>Diameter (longest shortest path)</td> <td>8</td></tr>\n",
    "  <tr><td>90-percentile effective diameter</td> <td>4.7</td></tr>\n",
    "</tbody></table>"
   ]
  },
  {
   "cell_type": "markdown",
   "metadata": {},
   "source": [
    "### About Data format \n",
    "Edge List\n",
    "The edge list is a simple data structure that you'll use to create the graph. Each row represents a single edge of the graph with some edge attributes. \n",
    "node1 & node2: names of the nodes connected.\n",
    "\n",
    "This data is in the format of Edgelist which can be simply presented as Edges information in the flat file. Sample Example :\n",
    "<table id=\"datatabEdgeList\" summary=\"Edge List \">\n",
    "  <tbody><tr> <th colspan=\"2\">Edgelist for Facebook</th> </tr>\n",
    "  <tr><th>Start from Nodes</th> <th> To Node</th></tr>\n",
    "      <tr><td>0</td> <td>1</td></tr>\n",
    "      <tr><td>0</td> <td>2</td></tr>\n",
    "      <tr><td>0</td> <td>4</td></tr>\n",
    "      <tr><td>0</td> <td>5</td></tr>\n",
    "      <tr><td>1</td> <td>0</td></tr>\n",
    "      <tr><td>2</td> <td>48</td></tr>\n",
    "      <tr><td>2</td> <td>68</td></tr>\n",
    "      <tr><td>1</td> <td>102</td></tr>\n",
    "      <tr><td>2</td> <td>13</td></tr>\n",
    "      <tr><td>2</td> <td>19</td></tr>\n",
    "      <tr><td>2</td> <td>37</td></tr>\n",
    "</tbody></table>\n",
    "\n"
   ]
  },
  {
   "cell_type": "markdown",
   "metadata": {},
   "source": [
    "## Load Data \n",
    "We will write methed to load the data by passing the Edgelist file. We are using netwrokx's `read_edgelist` method to read edgelist from facebook_combined.txt file. This function retrun <b> Graph object ('networkx.classes.graph.Graph') </b> which can be used to work regualr netwrokx graph object. "
   ]
  },
  {
   "cell_type": "code",
   "execution_count": 208,
   "metadata": {},
   "outputs": [],
   "source": [
    "def dataGraph(path):\n",
    "    edgeGraph = nx.read_edgelist(path)    \n",
    "    return edgeGraph\n",
    "    "
   ]
  },
  {
   "cell_type": "code",
   "execution_count": 228,
   "metadata": {},
   "outputs": [
    {
     "name": "stdout",
     "output_type": "stream",
     "text": [
      "Converted Graph's file type is:  <class 'networkx.classes.graph.Graph'>\n"
     ]
    }
   ],
   "source": [
    "# Setting the path for edgelist file from Facebook\n",
    "facePath = 'data/facebook_combined.txt'\n",
    "faceGraph  = dataGraph(facePath)\n",
    "type (faceGraph)\n",
    "print(\"Converted Graph's file type is: \", type(faceGraph))"
   ]
  },
  {
   "cell_type": "markdown",
   "metadata": {},
   "source": [
    "`nx.info(G)` method returns the graph info, which can be very well check against the file property from soruce `https://snap.stanford.edu/data/ego-Facebook.html`."
   ]
  },
  {
   "cell_type": "code",
   "execution_count": 229,
   "metadata": {},
   "outputs": [
    {
     "name": "stdout",
     "output_type": "stream",
     "text": [
      "Name: \n",
      "Type: Graph\n",
      "Number of nodes: 4039\n",
      "Number of edges: 88234\n",
      "Average degree:  43.6910\n"
     ]
    }
   ],
   "source": [
    "print( nx.info(faceGraph))"
   ]
  },
  {
   "cell_type": "code",
   "execution_count": 227,
   "metadata": {},
   "outputs": [
    {
     "name": "stdout",
     "output_type": "stream",
     "text": [
      "Diameter of the Graph Network :  8\n"
     ]
    }
   ],
   "source": [
    "# This Block will tkae very long time give the data size. \n",
    "print(\"Diameter of the Graph Network : \", nx.diameter(faceGraph))"
   ]
  },
  {
   "cell_type": "markdown",
   "metadata": {},
   "source": [
    "#### Diameter of the Graph Network :  8"
   ]
  },
  {
   "cell_type": "markdown",
   "metadata": {},
   "source": [
    "Here we are saying that its Graph type of Object , and \n",
    "Number of Nodes in the Graph = 4039, with total number of edges = 88234 , and Average degree of the graph ~ 44 . \n",
    ">This indicates that in the graph data collected on avergare we have ~43 frinds for each user. "
   ]
  },
  {
   "cell_type": "code",
   "execution_count": 232,
   "metadata": {},
   "outputs": [
    {
     "data": {
      "text/plain": [
       "88234"
      ]
     },
     "execution_count": 232,
     "metadata": {},
     "output_type": "execute_result"
    }
   ],
   "source": [
    "# We can user simple method to check the same info\n",
    "nx.number_of_edges(faceGraph)"
   ]
  },
  {
   "cell_type": "markdown",
   "metadata": {},
   "source": [
    "### Using Panda to Read Edgelist and Build Degree Distribution "
   ]
  },
  {
   "cell_type": "code",
   "execution_count": 235,
   "metadata": {},
   "outputs": [
    {
     "data": {
      "text/html": [
       "<div>\n",
       "<style scoped>\n",
       "    .dataframe tbody tr th:only-of-type {\n",
       "        vertical-align: middle;\n",
       "    }\n",
       "\n",
       "    .dataframe tbody tr th {\n",
       "        vertical-align: top;\n",
       "    }\n",
       "\n",
       "    .dataframe thead th {\n",
       "        text-align: right;\n",
       "    }\n",
       "</style>\n",
       "<table border=\"1\" class=\"dataframe\">\n",
       "  <thead>\n",
       "    <tr style=\"text-align: right;\">\n",
       "      <th></th>\n",
       "      <th>0</th>\n",
       "      <th>1</th>\n",
       "    </tr>\n",
       "  </thead>\n",
       "  <tbody>\n",
       "    <tr>\n",
       "      <th>0</th>\n",
       "      <td>0</td>\n",
       "      <td>1</td>\n",
       "    </tr>\n",
       "    <tr>\n",
       "      <th>1</th>\n",
       "      <td>0</td>\n",
       "      <td>2</td>\n",
       "    </tr>\n",
       "    <tr>\n",
       "      <th>2</th>\n",
       "      <td>0</td>\n",
       "      <td>3</td>\n",
       "    </tr>\n",
       "    <tr>\n",
       "      <th>3</th>\n",
       "      <td>0</td>\n",
       "      <td>4</td>\n",
       "    </tr>\n",
       "    <tr>\n",
       "      <th>4</th>\n",
       "      <td>0</td>\n",
       "      <td>5</td>\n",
       "    </tr>\n",
       "  </tbody>\n",
       "</table>\n",
       "</div>"
      ],
      "text/plain": [
       "   0  1\n",
       "0  0  1\n",
       "1  0  2\n",
       "2  0  3\n",
       "3  0  4\n",
       "4  0  5"
      ]
     },
     "execution_count": 235,
     "metadata": {},
     "output_type": "execute_result"
    }
   ],
   "source": [
    "# using Panda to read \n",
    "pdEdgeList = pd.read_csv(facePath, sep=\" \", header=None)\n",
    "pdEdgeList.head(5)"
   ]
  },
  {
   "cell_type": "markdown",
   "metadata": {},
   "source": [
    "#### Create a Graph object\n",
    "\n",
    "Loop through the rows of the edge list and add each edge a graph gpd. "
   ]
  },
  {
   "cell_type": "code",
   "execution_count": 234,
   "metadata": {},
   "outputs": [],
   "source": [
    "gpd = nx.Graph()  # Create Graph object\n",
    "\n",
    "# Add edgeslist to Graph\n",
    "for i, elrow in pdEdgeList.iterrows():\n",
    "    gpd.add_edge(elrow[0], elrow[1])\n",
    "    "
   ]
  },
  {
   "cell_type": "code",
   "execution_count": 236,
   "metadata": {},
   "outputs": [],
   "source": [
    "# Function to Calcuate Degree of the Graph\n",
    "\n",
    "def calcualte_degree(G,n = 0):\n",
    "    fmdegree = []\n",
    "    fmNode = []\n",
    "    for node in G.nodes():\n",
    "        tempD = G.degree(node)\n",
    "        if tempD >= n : fmdegree.append(tempD),fmNode.append(node)\n",
    "            \n",
    "    return fmdegree,fmNode\n",
    "            "
   ]
  },
  {
   "cell_type": "code",
   "execution_count": 237,
   "metadata": {},
   "outputs": [],
   "source": [
    "gpdDegree , gpdNode = calcualte_degree(gpd,0)"
   ]
  },
  {
   "cell_type": "markdown",
   "metadata": {},
   "source": [
    " > Maximum Degree of the Node in the Netwrok  `1045` and minimum degree of the node is `1`"
   ]
  },
  {
   "cell_type": "code",
   "execution_count": 238,
   "metadata": {},
   "outputs": [
    {
     "data": {
      "text/plain": [
       "1045"
      ]
     },
     "execution_count": 238,
     "metadata": {},
     "output_type": "execute_result"
    }
   ],
   "source": [
    "# Maximum Degree of the Node in the Netwrok\n",
    "max(gpdDegree)"
   ]
  },
  {
   "cell_type": "code",
   "execution_count": 239,
   "metadata": {},
   "outputs": [
    {
     "data": {
      "text/plain": [
       "1"
      ]
     },
     "execution_count": 239,
     "metadata": {},
     "output_type": "execute_result"
    }
   ],
   "source": [
    "# # Minimum  Degree of the Node in the Netwrok \n",
    "min(gpdDegree)"
   ]
  },
  {
   "cell_type": "markdown",
   "metadata": {},
   "source": [
    "Converting our node and Degree info into a dataframe, which we can use it latter in the analysis."
   ]
  },
  {
   "cell_type": "code",
   "execution_count": 240,
   "metadata": {},
   "outputs": [
    {
     "data": {
      "text/html": [
       "<div>\n",
       "<style scoped>\n",
       "    .dataframe tbody tr th:only-of-type {\n",
       "        vertical-align: middle;\n",
       "    }\n",
       "\n",
       "    .dataframe tbody tr th {\n",
       "        vertical-align: top;\n",
       "    }\n",
       "\n",
       "    .dataframe thead th {\n",
       "        text-align: right;\n",
       "    }\n",
       "</style>\n",
       "<table border=\"1\" class=\"dataframe\">\n",
       "  <thead>\n",
       "    <tr style=\"text-align: right;\">\n",
       "      <th></th>\n",
       "      <th>Node</th>\n",
       "      <th>Degree</th>\n",
       "    </tr>\n",
       "  </thead>\n",
       "  <tbody>\n",
       "    <tr>\n",
       "      <th>0</th>\n",
       "      <td>0</td>\n",
       "      <td>347</td>\n",
       "    </tr>\n",
       "    <tr>\n",
       "      <th>1</th>\n",
       "      <td>1</td>\n",
       "      <td>17</td>\n",
       "    </tr>\n",
       "    <tr>\n",
       "      <th>2</th>\n",
       "      <td>2</td>\n",
       "      <td>10</td>\n",
       "    </tr>\n",
       "    <tr>\n",
       "      <th>3</th>\n",
       "      <td>3</td>\n",
       "      <td>17</td>\n",
       "    </tr>\n",
       "    <tr>\n",
       "      <th>4</th>\n",
       "      <td>4</td>\n",
       "      <td>10</td>\n",
       "    </tr>\n",
       "  </tbody>\n",
       "</table>\n",
       "</div>"
      ],
      "text/plain": [
       "   Node  Degree\n",
       "0     0     347\n",
       "1     1      17\n",
       "2     2      10\n",
       "3     3      17\n",
       "4     4      10"
      ]
     },
     "execution_count": 240,
     "metadata": {},
     "output_type": "execute_result"
    }
   ],
   "source": [
    "data = {'Node': gpdNode, \n",
    "        'Degree': gpdDegree}\n",
    "\n",
    "df_NodeDegree = pd.DataFrame( data)\n",
    "df_NodeDegree.head()"
   ]
  },
  {
   "cell_type": "markdown",
   "metadata": {},
   "source": [
    "We can see to unsorted data of the Degree of each nodes. size "
   ]
  },
  {
   "cell_type": "code",
   "execution_count": 241,
   "metadata": {},
   "outputs": [
    {
     "data": {
      "text/plain": [
       "4039"
      ]
     },
     "execution_count": 241,
     "metadata": {},
     "output_type": "execute_result"
    }
   ],
   "source": [
    "df_NodeDegree.Degree.size"
   ]
  },
  {
   "cell_type": "markdown",
   "metadata": {},
   "source": [
    "We can pass the node info to graph object and it will return the Dict of neighbours and Edge weight. here we are passing node `1` to Graph object `gpd` , lets check the output."
   ]
  },
  {
   "cell_type": "code",
   "execution_count": 242,
   "metadata": {},
   "outputs": [
    {
     "data": {
      "text/plain": [
       "AtlasView({0: {}, 48: {}, 53: {}, 54: {}, 73: {}, 88: {}, 92: {}, 119: {}, 126: {}, 133: {}, 194: {}, 236: {}, 280: {}, 299: {}, 315: {}, 322: {}, 346: {}})"
      ]
     },
     "execution_count": 242,
     "metadata": {},
     "output_type": "execute_result"
    }
   ],
   "source": [
    "gpd[1]"
   ]
  },
  {
   "cell_type": "markdown",
   "metadata": {},
   "source": [
    "Since the graph is so dense its not making much sense, but we can see there are close to 8 very compact group in the netwrok of facebook with very few nodes in between the group. "
   ]
  },
  {
   "cell_type": "code",
   "execution_count": 221,
   "metadata": {},
   "outputs": [
    {
     "name": "stderr",
     "output_type": "stream",
     "text": [
      "C:\\ProgramData\\Anaconda3\\lib\\site-packages\\networkx\\drawing\\nx_pylab.py:611: MatplotlibDeprecationWarning: isinstance(..., numbers.Number)\n",
      "  if cb.is_numlike(alpha):\n"
     ]
    },
    {
     "data": {
      "image/png": "[encoded data removed]",
      "text/plain": [
       "<Figure size 432x288 with 1 Axes>"
      ]
     },
     "metadata": {},
     "output_type": "display_data"
    }
   ],
   "source": [
    "# Would take 5 min to Run \n",
    "nx.draw(gpd)\n",
    "plt.show()"
   ]
  },
  {
   "cell_type": "markdown",
   "metadata": {},
   "source": [
    "Degree of Distribution is the how many Degrees are in the given nodes. Above we create a ]  `df_NodeDegree` dataframe which hold the Node and Degree of the nodes in the key value pair. \n",
    "\n",
    "Degree distribution is the number of Degree and nodes representation\n",
    "\n",
    "| No.Of Node | Degree |\n",
    "| ----------- | -------- |\n",
    "|4    | 10|\n",
    "|8    | 20|\n",
    "|4    | 10|"
   ]
  },
  {
   "cell_type": "code",
   "execution_count": 243,
   "metadata": {},
   "outputs": [
    {
     "data": {
      "text/html": [
       "<div>\n",
       "<style scoped>\n",
       "    .dataframe tbody tr th:only-of-type {\n",
       "        vertical-align: middle;\n",
       "    }\n",
       "\n",
       "    .dataframe tbody tr th {\n",
       "        vertical-align: top;\n",
       "    }\n",
       "\n",
       "    .dataframe thead th {\n",
       "        text-align: right;\n",
       "    }\n",
       "</style>\n",
       "<table border=\"1\" class=\"dataframe\">\n",
       "  <thead>\n",
       "    <tr style=\"text-align: right;\">\n",
       "      <th></th>\n",
       "      <th>Node</th>\n",
       "      <th>Degree</th>\n",
       "    </tr>\n",
       "  </thead>\n",
       "  <tbody>\n",
       "    <tr>\n",
       "      <th>0</th>\n",
       "      <td>0</td>\n",
       "      <td>347</td>\n",
       "    </tr>\n",
       "    <tr>\n",
       "      <th>1</th>\n",
       "      <td>1</td>\n",
       "      <td>17</td>\n",
       "    </tr>\n",
       "    <tr>\n",
       "      <th>2</th>\n",
       "      <td>2</td>\n",
       "      <td>10</td>\n",
       "    </tr>\n",
       "    <tr>\n",
       "      <th>3</th>\n",
       "      <td>3</td>\n",
       "      <td>17</td>\n",
       "    </tr>\n",
       "    <tr>\n",
       "      <th>4</th>\n",
       "      <td>4</td>\n",
       "      <td>10</td>\n",
       "    </tr>\n",
       "  </tbody>\n",
       "</table>\n",
       "</div>"
      ],
      "text/plain": [
       "   Node  Degree\n",
       "0     0     347\n",
       "1     1      17\n",
       "2     2      10\n",
       "3     3      17\n",
       "4     4      10"
      ]
     },
     "execution_count": 243,
     "metadata": {},
     "output_type": "execute_result"
    }
   ],
   "source": [
    "df_NodeDegree.head()"
   ]
  },
  {
   "cell_type": "markdown",
   "metadata": {},
   "source": [
    "Below is the <i><u> top 5 Nodes </u></i> with Degree of node in Decresing order:"
   ]
  },
  {
   "cell_type": "code",
   "execution_count": 251,
   "metadata": {},
   "outputs": [
    {
     "data": {
      "text/html": [
       "<div>\n",
       "<style scoped>\n",
       "    .dataframe tbody tr th:only-of-type {\n",
       "        vertical-align: middle;\n",
       "    }\n",
       "\n",
       "    .dataframe tbody tr th {\n",
       "        vertical-align: top;\n",
       "    }\n",
       "\n",
       "    .dataframe thead th {\n",
       "        text-align: right;\n",
       "    }\n",
       "</style>\n",
       "<table border=\"1\" class=\"dataframe\">\n",
       "  <thead>\n",
       "    <tr style=\"text-align: right;\">\n",
       "      <th></th>\n",
       "      <th>Node</th>\n",
       "      <th>Degree</th>\n",
       "    </tr>\n",
       "  </thead>\n",
       "  <tbody>\n",
       "    <tr>\n",
       "      <th>107</th>\n",
       "      <td>107</td>\n",
       "      <td>1045</td>\n",
       "    </tr>\n",
       "    <tr>\n",
       "      <th>351</th>\n",
       "      <td>1684</td>\n",
       "      <td>792</td>\n",
       "    </tr>\n",
       "    <tr>\n",
       "      <th>352</th>\n",
       "      <td>1912</td>\n",
       "      <td>755</td>\n",
       "    </tr>\n",
       "    <tr>\n",
       "      <th>1821</th>\n",
       "      <td>3437</td>\n",
       "      <td>547</td>\n",
       "    </tr>\n",
       "    <tr>\n",
       "      <th>0</th>\n",
       "      <td>0</td>\n",
       "      <td>347</td>\n",
       "    </tr>\n",
       "  </tbody>\n",
       "</table>\n",
       "</div>"
      ],
      "text/plain": [
       "      Node  Degree\n",
       "107    107    1045\n",
       "351   1684     792\n",
       "352   1912     755\n",
       "1821  3437     547\n",
       "0        0     347"
      ]
     },
     "execution_count": 251,
     "metadata": {},
     "output_type": "execute_result"
    }
   ],
   "source": [
    "# df_NodeDegree['Degree'].hist(bins=4000)\n",
    "df_NodeDegree.sort_values(by=['Degree'],ascending= False).head()"
   ]
  },
  {
   "cell_type": "code",
   "execution_count": 246,
   "metadata": {},
   "outputs": [
    {
     "data": {
      "image/png": "[encoded data removed]",
      "text/plain": [
       "<Figure size 432x288 with 1 Axes>"
      ]
     },
     "metadata": {
      "needs_background": "light"
     },
     "output_type": "display_data"
    }
   ],
   "source": [
    "\n",
    "plt.figure() \n",
    "plt.hist(df_NodeDegree['Degree'],3500)\n",
    "plt.xlabel('Degree') \n",
    "plt.ylabel('Number of nodes') \n",
    "plt.title('Degree Distribution') \n",
    "plt.savefig('Degree_Dis.png') \n",
    "plt.show()\n",
    "plt.close()\n",
    "\n"
   ]
  },
  {
   "cell_type": "markdown",
   "metadata": {},
   "source": [
    "From the Degree dsitribution we can see that more that 80 people in the network have Degree close to 0-10. and very few are having degree more than 200 , and very more more than 700. On the Chats they are not visible due to size of the graph. "
   ]
  },
  {
   "cell_type": "code",
   "execution_count": 255,
   "metadata": {},
   "outputs": [
    {
     "data": {
      "image/png": "[encoded data removed]",
      "text/plain": [
       "<Figure size 432x288 with 1 Axes>"
      ]
     },
     "metadata": {
      "needs_background": "light"
     },
     "output_type": "display_data"
    }
   ],
   "source": [
    "plt.boxplot(df_NodeDegree['Degree'])\n",
    "plt.xlabel('Degree') \n",
    "plt.ylabel('Number of nodes') \n",
    "plt.title('Degree Distribution') \n",
    "plt.savefig('Degree_Box.png') \n",
    "plt.show()\n",
    "plt.close()\n"
   ]
  },
  {
   "cell_type": "markdown",
   "metadata": {},
   "source": [
    "#### Lets list the Nodes with Degree greater than 500."
   ]
  },
  {
   "cell_type": "code",
   "execution_count": 259,
   "metadata": {},
   "outputs": [
    {
     "data": {
      "text/html": [
       "<div>\n",
       "<style scoped>\n",
       "    .dataframe tbody tr th:only-of-type {\n",
       "        vertical-align: middle;\n",
       "    }\n",
       "\n",
       "    .dataframe tbody tr th {\n",
       "        vertical-align: top;\n",
       "    }\n",
       "\n",
       "    .dataframe thead th {\n",
       "        text-align: right;\n",
       "    }\n",
       "</style>\n",
       "<table border=\"1\" class=\"dataframe\">\n",
       "  <thead>\n",
       "    <tr style=\"text-align: right;\">\n",
       "      <th></th>\n",
       "      <th>Node</th>\n",
       "      <th>Degree</th>\n",
       "    </tr>\n",
       "  </thead>\n",
       "  <tbody>\n",
       "    <tr>\n",
       "      <th>107</th>\n",
       "      <td>107</td>\n",
       "      <td>1045</td>\n",
       "    </tr>\n",
       "    <tr>\n",
       "      <th>351</th>\n",
       "      <td>1684</td>\n",
       "      <td>792</td>\n",
       "    </tr>\n",
       "    <tr>\n",
       "      <th>352</th>\n",
       "      <td>1912</td>\n",
       "      <td>755</td>\n",
       "    </tr>\n",
       "    <tr>\n",
       "      <th>1821</th>\n",
       "      <td>3437</td>\n",
       "      <td>547</td>\n",
       "    </tr>\n",
       "  </tbody>\n",
       "</table>\n",
       "</div>"
      ],
      "text/plain": [
       "      Node  Degree\n",
       "107    107    1045\n",
       "351   1684     792\n",
       "352   1912     755\n",
       "1821  3437     547"
      ]
     },
     "execution_count": 259,
     "metadata": {},
     "output_type": "execute_result"
    }
   ],
   "source": [
    "df_NodeDegree[df_NodeDegree.Degree>=500]"
   ]
  },
  {
   "cell_type": "markdown",
   "metadata": {},
   "source": [
    "> Below pictures shows here are the connection between nodes in facebook data. The nodes are connected to almost everyone but they are cluested with few groups which are more densly connected. \n"
   ]
  },
  {
   "cell_type": "markdown",
   "metadata": {},
   "source": [
    "![Gephi1.PNG](https://raw.githubusercontent.com/Rajwantmishra/620Group/master/W2-P1/Gephi2.PNG)"
   ]
  }
 ],
 "metadata": {
  "kernelspec": {
   "display_name": "Python 3",
   "language": "python",
   "name": "python3"
  },
  "language_info": {
   "codemirror_mode": {
    "name": "ipython",
    "version": 3
   },
   "file_extension": ".py",
   "mimetype": "text/x-python",
   "name": "python",
   "nbconvert_exporter": "python",
   "pygments_lexer": "ipython3",
   "version": "3.7.3"
  }
 },
 "nbformat": 4,
 "nbformat_minor": 2
}
