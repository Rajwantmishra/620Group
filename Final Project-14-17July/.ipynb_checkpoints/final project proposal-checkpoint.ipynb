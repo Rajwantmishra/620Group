{
 "cells": [
  {
   "cell_type": "markdown",
   "metadata": {},
   "source": [
    "## DATA 620 - Web Analytics\n",
    "## Final Project Proposal\n",
    "Team 3\n",
    "\n",
    "+ Rajwant Mishra\n",
    "+ Md. Jalal Uddin\n",
    "+ Sarah Wigodsky"
   ]
  },
  {
   "cell_type": "markdown",
   "metadata": {},
   "source": [
    "Assignment Instructions:  \n",
    "Your proposal should describe at a high level what you’re seeking to accomplish, and your motivation for performing this \n",
    "analysis.  A guiding question or hypothesis to test is one good way to start.  If you are going to work in a small group \n",
    "(encouraged!), you should also list your partners’ names. \n",
    "You should briefly describe your data sources, plan for doing the work, and up front concerns.  \n",
    "If you are working in a group, please describe the roles and responsibilities of each group member.\n"
   ]
  },
  {
   "cell_type": "markdown",
   "metadata": {},
   "source": [
    "+ Is there a relationship between political books bought by the same buyers and the political views of the book?\n",
    "+ Is there a relationship between political books bought by the same buyers and the sentiment of the book title?\n",
    "+ Is there a relationship between the political views in political books and the sentiment of the book title?"
   ]
  },
  {
   "cell_type": "markdown",
   "metadata": {},
   "source": [
    "<b> Motivation and Description of the Project </b>\n",
    "\n",
    "We are interested in learning more about the types of political books users buy to determine if there are trends between the sentiment of the title or the political views shared in the book and the types of books a user tends to purchase.  This knowledge would be beneficial to online book sellers who are in a position of recommending books to their users.  \n",
    "\n",
    "We will use a dataset of books about US politics that were published around the 2004 presidential election and sold by Amazon.  The dataset is a gml file that contains the names of the books and lists links between books that were bought by the same buyer.  The data set designates each book as being liberal, neutral or conservative.  We will analyze relationships between books bought by the same buyers to identify relationships based on the political sentiment of the book. In addition, we will conduct sentiment analysis to analyze the title of each book to determine if the title is positive or negative.  We will aim to determine if there is a relationship between the political leaning of the book and whether its title is positive or negative.  We will also look for trends amongst buyers of books to see if they cluster by sentiment.  "
   ]
  },
  {
   "cell_type": "markdown",
   "metadata": {},
   "source": [
    "<b> Roles and Responsibilities </b>\n",
    "\n",
    "1. sentiment analysis of book titles (or summary of books)\n",
    "\n",
    "2.\tCollect Data from WEB about Books , Scrapping or other sources\n",
    "    \n",
    "3.\tStatistical Analysis:\n",
    "    \n",
    "---\tIdentify top 5 Books with high Degree (Undirected graph ) \n",
    "    \n",
    "---\tIdentify bottom 5 Books\n",
    "    \n",
    "---\tIdentify the Term Frequency for each Category \n",
    "    \n",
    "---\tTag words as Positive and Negative and check frequency in the of these words by Category\n",
    "    \n",
    "4.\tsentiment analysis of book titles and summary (data from web scraping) of books \n",
    "    \n",
    "---\tBuild the terms for each book aggerate the data by Category of Group known for the book\n",
    "    \n",
    "---\tFind if Books with similar Category writes same terms , what is similarity between them \n",
    "    \n",
    "5.\tsocial network analysis to identify relationship between books bought by the same buyers and political leaning of book -\n",
    "    \n",
    "    e.g.Book A – TAG1\n",
    "    \n",
    "    Book B – TAG2\n",
    "    \n",
    "---\tIdentify if user has always bought one Tag or Multi tag book. \n",
    "    \n",
    "6.\tanalysis comparing political views of books and sentiment of titles . ( HOW ?)   \n",
    "    \n"
   ]
  },
  {
   "cell_type": "markdown",
   "metadata": {},
   "source": [
    "<b> Dataset </b>\n",
    "\n",
    "http://www-personal.umich.edu/~mejn/netdata/\n",
    "\n",
    "Books about US politics\n",
    "Compiled by Valdis Krebs\n",
    "\n",
    "Nodes represent books about US politics sold by the online bookseller Amazon.com.  Edges represent frequent co-purchasing of books by the same buyers, as indicated by the \"customers who bought this book also bought these other books\" feature on Amazon.\n",
    "\n",
    "Nodes have been given values \"l\", \"n\", or \"c\" to indicate whether they are \"liberal\", \"neutral\", or \"conservative\".  These alignments were assigned separately by Mark Newman based on a reading of the descriptions and reviews of the books posted on Amazon.\n",
    "\n",
    "These data should be cited as V. Krebs, unpublished, http://www.orgnet.com/."
   ]
  }
 ],
 "metadata": {
  "kernelspec": {
   "display_name": "Python 3",
   "language": "python",
   "name": "python3"
  },
  "language_info": {
   "codemirror_mode": {
    "name": "ipython",
    "version": 3
   },
   "file_extension": ".py",
   "mimetype": "text/x-python",
   "name": "python",
   "nbconvert_exporter": "python",
   "pygments_lexer": "ipython3",
   "version": "3.7.3"
  }
 },
 "nbformat": 4,
 "nbformat_minor": 2
}
