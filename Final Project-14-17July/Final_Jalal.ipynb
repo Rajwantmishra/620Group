{
 "cells": [
  {
   "cell_type": "markdown",
   "metadata": {},
   "source": [
    "# Prediction Engine:"
   ]
  },
  {
   "cell_type": "markdown",
   "metadata": {},
   "source": [
    "I am importing require libraries to find some relationship between book name and book types based on some features."
   ]
  },
  {
   "cell_type": "code",
   "execution_count": 60,
   "metadata": {},
   "outputs": [],
   "source": [
    "import networkx as nx\n",
    "import matplotlib.pyplot as plot\n",
    "import pandas as pd\n",
    "import numpy as np\n",
    "from nltk.corpus import stopwords as sw\n",
    "import matplotlib.pyplot as plt\n",
    "import urllib.request\n",
    "import warnings\n",
    "import codecs\n",
    "import nltk\n",
    "import string\n",
    "from textblob import TextBlob\n",
    "import nltk.classify.util\n",
    "from nltk.classify import NaiveBayesClassifier\n",
    "from nltk.corpus import names\n",
    "from nltk.sentiment.vader import SentimentIntensityAnalyzer \n",
    "import re\n",
    "from decimal import Decimal, ROUND_HALF_EVEN\n",
    "warnings.simplefilter(action='ignore', category=FutureWarning)\n",
    "import pickle # For storing our data object in file system for latter use\n",
    "pd.set_option('display.max_colwidth',100)"
   ]
  },
  {
   "cell_type": "code",
   "execution_count": 61,
   "metadata": {},
   "outputs": [],
   "source": [
    "import seaborn as sns\n",
    "import random\n",
    "from nltk.classify import apply_features\n",
    "import plotly.plotly as py\n",
    "import plotly.graph_objs as go"
   ]
  },
  {
   "cell_type": "markdown",
   "metadata": {},
   "source": [
    "Loading the data with book title and the occorence of first letters, last letters, and first two letters of the book titles and values. "
   ]
  },
  {
   "cell_type": "code",
   "execution_count": 62,
   "metadata": {},
   "outputs": [
    {
     "data": {
      "text/html": [
       "<div>\n",
       "<style scoped>\n",
       "    .dataframe tbody tr th:only-of-type {\n",
       "        vertical-align: middle;\n",
       "    }\n",
       "\n",
       "    .dataframe tbody tr th {\n",
       "        vertical-align: top;\n",
       "    }\n",
       "\n",
       "    .dataframe thead th {\n",
       "        text-align: right;\n",
       "    }\n",
       "</style>\n",
       "<table border=\"1\" class=\"dataframe\">\n",
       "  <thead>\n",
       "    <tr style=\"text-align: right;\">\n",
       "      <th></th>\n",
       "      <th>Label</th>\n",
       "      <th>Value</th>\n",
       "      <th>first_letter</th>\n",
       "      <th>Last_letter</th>\n",
       "      <th>first_two</th>\n",
       "      <th>last_two</th>\n",
       "    </tr>\n",
       "  </thead>\n",
       "  <tbody>\n",
       "    <tr>\n",
       "      <th>0</th>\n",
       "      <td>1000 Years for Revenge</td>\n",
       "      <td>n</td>\n",
       "      <td>1</td>\n",
       "      <td>e</td>\n",
       "      <td>10</td>\n",
       "      <td>ge</td>\n",
       "    </tr>\n",
       "    <tr>\n",
       "      <th>1</th>\n",
       "      <td>Bush vs. the Beltway</td>\n",
       "      <td>c</td>\n",
       "      <td>b</td>\n",
       "      <td>y</td>\n",
       "      <td>bu</td>\n",
       "      <td>ay</td>\n",
       "    </tr>\n",
       "    <tr>\n",
       "      <th>2</th>\n",
       "      <td>Charlie Wilson's War</td>\n",
       "      <td>c</td>\n",
       "      <td>c</td>\n",
       "      <td>r</td>\n",
       "      <td>ch</td>\n",
       "      <td>ar</td>\n",
       "    </tr>\n",
       "    <tr>\n",
       "      <th>3</th>\n",
       "      <td>Losing Bin Laden</td>\n",
       "      <td>c</td>\n",
       "      <td>l</td>\n",
       "      <td>n</td>\n",
       "      <td>lo</td>\n",
       "      <td>en</td>\n",
       "    </tr>\n",
       "    <tr>\n",
       "      <th>4</th>\n",
       "      <td>Sleeping With the Devil</td>\n",
       "      <td>n</td>\n",
       "      <td>s</td>\n",
       "      <td>l</td>\n",
       "      <td>sl</td>\n",
       "      <td>il</td>\n",
       "    </tr>\n",
       "  </tbody>\n",
       "</table>\n",
       "</div>"
      ],
      "text/plain": [
       "                     Label Value first_letter Last_letter first_two last_two\n",
       "0   1000 Years for Revenge     n            1           e        10       ge\n",
       "1     Bush vs. the Beltway     c            b           y        bu       ay\n",
       "2     Charlie Wilson's War     c            c           r        ch       ar\n",
       "3         Losing Bin Laden     c            l           n        lo       en\n",
       "4  Sleeping With the Devil     n            s           l        sl       il"
      ]
     },
     "execution_count": 62,
     "metadata": {},
     "output_type": "execute_result"
    }
   ],
   "source": [
    "#load data with book\n",
    "First_df = pd.read_csv('Book_first.csv', encoding = 'unicode_escape')\n",
    "First_df = pd.DataFrame(First_df)\n",
    "First_df.head()"
   ]
  },
  {
   "cell_type": "markdown",
   "metadata": {},
   "source": [
    "Creating bargraph of liberal, conservative, and neutral books appeared on the first letters to find the patterns of which letters shows more apperance on which types of books. "
   ]
  },
  {
   "cell_type": "code",
   "execution_count": 63,
   "metadata": {},
   "outputs": [
    {
     "name": "stderr",
     "output_type": "stream",
     "text": [
      "C:\\ProgramData\\Anaconda3\\lib\\site-packages\\IPython\\core\\display.py:689: UserWarning:\n",
      "\n",
      "Consider using IPython.display.IFrame instead\n",
      "\n"
     ]
    },
    {
     "data": {
      "text/html": [
       "<iframe id=\"igraph\" scrolling=\"no\" style=\"border:none;\" seamless=\"seamless\" src=\"https://plot.ly/~uddinmdj1983/24.embed\" height=\"525px\" width=\"100%\"></iframe>"
      ],
      "text/plain": [
       "<plotly.tools.PlotlyDisplay object>"
      ]
     },
     "execution_count": 63,
     "metadata": {},
     "output_type": "execute_result"
    }
   ],
   "source": [
    "liberal = First_df[First_df['Value']=='l']\n",
    "conservative = First_df[First_df['Value']=='c']\n",
    "neutral = First_df[First_df['Value']=='n']\n",
    "\n",
    "liberal = liberal.groupby('first_letter').count().reset_index(drop=False)\n",
    "liberal['percent'] = liberal['Value']*100/105\n",
    "liberal = pd.DataFrame(liberal)\n",
    "liberal = liberal.iloc[1:,:]\n",
    "\n",
    "conservative = conservative.groupby('first_letter').count().reset_index(drop=False)\n",
    "conservative['percent'] = conservative['Value']*100/105\n",
    "conservative = pd.DataFrame(conservative)\n",
    "\n",
    "\n",
    "neutral = neutral.groupby('first_letter').count().reset_index(drop=False)\n",
    "neutral['percent'] = neutral['Value']*100/105\n",
    "neutral = pd.DataFrame(neutral)\n",
    "\n",
    "data_l = go.Bar(\n",
    "            x=liberal['first_letter'],\n",
    "            y=liberal['percent'],\n",
    "            name='liberal'\n",
    "    )\n",
    "\n",
    "\n",
    "\n",
    "data_c = go.Bar(\n",
    "            x=conservative['first_letter'],\n",
    "            y=conservative['percent'],\n",
    "            name='conservative'\n",
    ")\n",
    "\n",
    "data_n = go.Bar(\n",
    "            x=neutral['first_letter'],\n",
    "            y=neutral['percent'],\n",
    "            name='neutral'\n",
    "    )\n",
    "\n",
    "data = [data_l, data_c, data_n]\n",
    "layout = go.Layout(\n",
    "    title='Percentage of first Letters in Book Names',\n",
    "    barmode='group'\n",
    ")\n",
    "\n",
    "fig = go.Figure(data=data, layout=layout)\n",
    "\n",
    "py.iplot(fig, filename='grouped-bar')\n"
   ]
  },
  {
   "cell_type": "markdown",
   "metadata": {},
   "source": [
    "The graph above showed here the letter 't' appeared most in the first letter of the leberal book names. Also, the letter 'b' and 'w' appered second most in the liberal books. Similarly, the letter 't' appeared most also in the first letter of the conservative book names. And the letter 'b' appeared second most of the conservative book names. Letter 'p', 's', and 't' appered most in neutral books. "
   ]
  },
  {
   "cell_type": "markdown",
   "metadata": {},
   "source": [
    "Creating bargraph of liberal, conservative, and neutral books to show which last letter appeared most to the names of the books. "
   ]
  },
  {
   "cell_type": "code",
   "execution_count": 64,
   "metadata": {},
   "outputs": [
    {
     "name": "stderr",
     "output_type": "stream",
     "text": [
      "C:\\ProgramData\\Anaconda3\\lib\\site-packages\\IPython\\core\\display.py:689: UserWarning:\n",
      "\n",
      "Consider using IPython.display.IFrame instead\n",
      "\n"
     ]
    },
    {
     "data": {
      "text/html": [
       "<iframe id=\"igraph\" scrolling=\"no\" style=\"border:none;\" seamless=\"seamless\" src=\"https://plot.ly/~uddinmdj1983/24.embed\" height=\"525px\" width=\"100%\"></iframe>"
      ],
      "text/plain": [
       "<plotly.tools.PlotlyDisplay object>"
      ]
     },
     "execution_count": 64,
     "metadata": {},
     "output_type": "execute_result"
    }
   ],
   "source": [
    "liberal = First_df[First_df['Value']=='l']\n",
    "conservative = First_df[First_df['Value']=='c']\n",
    "neutral = First_df[First_df['Value']=='n']\n",
    "\n",
    "liberal = liberal.groupby('Last_letter').count().reset_index(drop=False)\n",
    "liberal['percent'] = liberal['Value']*100/105\n",
    "liberal = pd.DataFrame(liberal)\n",
    "liberal = liberal.iloc[1:,:]\n",
    "\n",
    "conservative = conservative.groupby('Last_letter').count().reset_index(drop=False)\n",
    "conservative['percent'] = conservative['Value']*100/105\n",
    "conservative = pd.DataFrame(conservative)\n",
    "\n",
    "\n",
    "neutral = neutral.groupby('Last_letter').count().reset_index(drop=False)\n",
    "neutral['percent'] = neutral['Value']*100/105\n",
    "neutral = pd.DataFrame(neutral)\n",
    "\n",
    "data_l = go.Bar(\n",
    "            x=liberal['Last_letter'],\n",
    "            y=liberal['percent'],\n",
    "            name='liberal'\n",
    "    )\n",
    "\n",
    "\n",
    "\n",
    "data_c = go.Bar(\n",
    "            x=conservative['Last_letter'],\n",
    "            y=conservative['percent'],\n",
    "            name='conservative'\n",
    ")\n",
    "\n",
    "data_n = go.Bar(\n",
    "            x=neutral['Last_letter'],\n",
    "            y=neutral['percent'],\n",
    "            name='neutral'\n",
    "    )\n",
    "\n",
    "data = [data_l, data_c, data_n]\n",
    "layout = go.Layout(\n",
    "    title='Percentage of Last Letters in Book Names',\n",
    "    barmode='group'\n",
    ")\n",
    "\n",
    "fig = go.Figure(data=data, layout=layout)\n",
    "\n",
    "py.iplot(fig, filename='grouped-bar')"
   ]
  },
  {
   "cell_type": "markdown",
   "metadata": {},
   "source": [
    "The graph above showed here that the letter 's' appeared most in the last letter of the conservative book names. Also, the letter 'n', 'r', and 'y' appered second most in the conservative books. Similarly, the letter 's' appeared most also in the last letter of the liberal book names. And the letter 'y' appeared second most of the last letter of the conservative book names. Letter 'e' appered most in neutral books. "
   ]
  },
  {
   "cell_type": "markdown",
   "metadata": {},
   "source": [
    "Creating bargraph of liberal, conservative, and neutral books appeared on the first two letters to find the patterns of which letters shows more apperance on which types of books. "
   ]
  },
  {
   "cell_type": "code",
   "execution_count": 65,
   "metadata": {},
   "outputs": [
    {
     "name": "stderr",
     "output_type": "stream",
     "text": [
      "C:\\ProgramData\\Anaconda3\\lib\\site-packages\\IPython\\core\\display.py:689: UserWarning:\n",
      "\n",
      "Consider using IPython.display.IFrame instead\n",
      "\n"
     ]
    },
    {
     "data": {
      "text/html": [
       "<iframe id=\"igraph\" scrolling=\"no\" style=\"border:none;\" seamless=\"seamless\" src=\"https://plot.ly/~uddinmdj1983/24.embed\" height=\"525px\" width=\"100%\"></iframe>"
      ],
      "text/plain": [
       "<plotly.tools.PlotlyDisplay object>"
      ]
     },
     "execution_count": 65,
     "metadata": {},
     "output_type": "execute_result"
    }
   ],
   "source": [
    "liberal = First_df[First_df['Value']=='l']\n",
    "conservative = First_df[First_df['Value']=='c']\n",
    "neutral = First_df[First_df['Value']=='n']\n",
    "\n",
    "liberal = liberal.groupby('first_two').count().reset_index(drop=False)\n",
    "liberal['percent'] = liberal['Value']*100/105\n",
    "liberal = pd.DataFrame(liberal)\n",
    "liberal = liberal.iloc[1:,:]\n",
    "\n",
    "conservative = conservative.groupby('first_two').count().reset_index(drop=False)\n",
    "conservative['percent'] = conservative['Value']*100/105\n",
    "conservative = pd.DataFrame(conservative)\n",
    "\n",
    "\n",
    "neutral = neutral.groupby('first_two').count().reset_index(drop=False)\n",
    "neutral['percent'] = neutral['Value']*100/105\n",
    "neutral = pd.DataFrame(neutral)\n",
    "\n",
    "data_l = go.Bar(\n",
    "            x=liberal['first_two'],\n",
    "            y=liberal['percent'],\n",
    "            name='liberal'\n",
    "    )\n",
    "\n",
    "\n",
    "\n",
    "data_c = go.Bar(\n",
    "            x=conservative['first_two'],\n",
    "            y=conservative['percent'],\n",
    "            name='conservative'\n",
    ")\n",
    "\n",
    "data_n = go.Bar(\n",
    "            x=neutral['first_two'],\n",
    "            y=neutral['percent'],\n",
    "            name='neutral'\n",
    "    )\n",
    "\n",
    "data = [data_l, data_c, data_n]\n",
    "layout = go.Layout(\n",
    "    title='Percentage of First two Letters in Book Names',\n",
    "    barmode='group'\n",
    ")\n",
    "\n",
    "fig = go.Figure(data=data, layout=layout)\n",
    "\n",
    "py.iplot(fig, filename='grouped-bar')"
   ]
  },
  {
   "cell_type": "markdown",
   "metadata": {},
   "source": [
    "The graph above showed that the letter 'th' appeared most in the first two letter of the conservative book names. Also, the letter 'bu' appered second most in the conservative books. Similarly, the letter 'th' appeared most also in the first two letter of the liberal book names. And the letter 'bu' appeared second most of the first two letter of the conservative book names. Letter 'th' appered most in neutral books. "
   ]
  },
  {
   "cell_type": "code",
   "execution_count": 66,
   "metadata": {},
   "outputs": [
    {
     "name": "stderr",
     "output_type": "stream",
     "text": [
      "C:\\ProgramData\\Anaconda3\\lib\\site-packages\\IPython\\core\\display.py:689: UserWarning:\n",
      "\n",
      "Consider using IPython.display.IFrame instead\n",
      "\n"
     ]
    },
    {
     "data": {
      "text/html": [
       "<iframe id=\"igraph\" scrolling=\"no\" style=\"border:none;\" seamless=\"seamless\" src=\"https://plot.ly/~uddinmdj1983/24.embed\" height=\"525px\" width=\"100%\"></iframe>"
      ],
      "text/plain": [
       "<plotly.tools.PlotlyDisplay object>"
      ]
     },
     "execution_count": 66,
     "metadata": {},
     "output_type": "execute_result"
    }
   ],
   "source": [
    "liberal = First_df[First_df['Value']=='l']\n",
    "conservative = First_df[First_df['Value']=='c']\n",
    "neutral = First_df[First_df['Value']=='n']\n",
    "\n",
    "liberal = liberal.groupby('last_two').count().reset_index(drop=False)\n",
    "liberal['percent'] = liberal['Value']*100/105\n",
    "liberal = pd.DataFrame(liberal)\n",
    "liberal = liberal.iloc[1:,:]\n",
    "\n",
    "conservative = conservative.groupby('last_two').count().reset_index(drop=False)\n",
    "conservative['percent'] = conservative['Value']*100/105\n",
    "conservative = pd.DataFrame(conservative)\n",
    "\n",
    "\n",
    "neutral = neutral.groupby('last_two').count().reset_index(drop=False)\n",
    "neutral['percent'] = neutral['Value']*100/105\n",
    "neutral = pd.DataFrame(neutral)\n",
    "\n",
    "data_l = go.Bar(\n",
    "            x=liberal['last_two'],\n",
    "            y=liberal['percent'],\n",
    "            name='liberal'\n",
    "    )\n",
    "\n",
    "\n",
    "\n",
    "data_c = go.Bar(\n",
    "            x=conservative['last_two'],\n",
    "            y=conservative['percent'],\n",
    "            name='conservative'\n",
    ")\n",
    "\n",
    "data_n = go.Bar(\n",
    "            x=neutral['last_two'],\n",
    "            y=neutral['percent'],\n",
    "            name='neutral'\n",
    "    )\n",
    "\n",
    "data = [data_l, data_c, data_n]\n",
    "layout = go.Layout(\n",
    "    title='Percentage of Last two Letters in the Book Names',\n",
    "    barmode='group'\n",
    ")\n",
    "\n",
    "fig = go.Figure(data=data, layout=layout)\n",
    "\n",
    "py.iplot(fig, filename='grouped-bar')"
   ]
  },
  {
   "cell_type": "markdown",
   "metadata": {},
   "source": [
    "The graph above showed that the letter 'ca' appeared most in the last letter of the conservative book names. Also, the letter 'ar','cy', and 'ng' appered second most in the conservative books. On the other hand, the letter 'es', 'rs', and 'ry' appeared most in the last letter of the liberal book names. And the letter 'al', 'en', 'ng','on', and 'ty' appeared second most of the last two letter of the conservative book names. Letter 'ce', 'en', 're', 'rs' and others nine last two letters appered most in neutral books."
   ]
  },
  {
   "cell_type": "code",
   "execution_count": null,
   "metadata": {},
   "outputs": [],
   "source": []
  }
 ],
 "metadata": {
  "kernelspec": {
   "display_name": "Python 3",
   "language": "python",
   "name": "python3"
  },
  "language_info": {
   "codemirror_mode": {
    "name": "ipython",
    "version": 3
   },
   "file_extension": ".py",
   "mimetype": "text/x-python",
   "name": "python",
   "nbconvert_exporter": "python",
   "pygments_lexer": "ipython3",
   "version": "3.7.3"
  }
 },
 "nbformat": 4,
 "nbformat_minor": 2
}
