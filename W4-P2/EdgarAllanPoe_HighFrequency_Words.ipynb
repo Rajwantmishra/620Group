{
 "cells": [
  {
   "cell_type": "markdown",
   "metadata": {},
   "source": [
    "### DATA 620 - Web Analytics\n",
    "### Week 4 Part 2\n",
    "\n",
    "### Team 3\n",
    "+ Brian Liles\n",
    "+ Rajwant Mishra\n",
    "+ Md. Jalal Uddin\n",
    "+ Sarah Wigodsky\n",
    "\n",
    "#### Vidoe: [Youtube](https://www.youtube.com/embed/1txS5y0agVM)\n",
    "<iframe width=\"560\" height=\"315\" src=\"https://www.youtube.com/embed/1txS5y0agVM\" frameborder=\"0\" allow=\"accelerometer; autoplay; encrypted-media; gyroscope; picture-in-picture\" allowfullscreen></iframe>\n",
    "\n",
    "### Works of Edgar Allan Poe - Volume 1\n",
    "Project Gutenberg\n",
    "https://www.gutenberg.org/files/2147/2147-0.txt"
   ]
  },
  {
   "cell_type": "code",
   "execution_count": 232,
   "metadata": {},
   "outputs": [],
   "source": [
    "#import libraries\n",
    "from urllib.request import urlopen\n",
    "import nltk\n",
    "import re\n",
    "import pprint\n",
    "import seaborn as sn\n",
    "from nltk.corpus import stopwords as sw\n",
    "import matplotlib.pyplot as plt\n",
    "import pandas as pd\n",
    "import string\n",
    "from wordcloud import WordCloud\n",
    "pd.set_option('display.max_colwidth',100)"
   ]
  },
  {
   "cell_type": "code",
   "execution_count": 233,
   "metadata": {},
   "outputs": [],
   "source": [
    "#download works for Edgar Allan Poe volume 1 from Project Gutenberg\n",
    "#text defaults to bytes- it needs to be set to utf-8\n",
    "url = \"https://www.gutenberg.org/files/2147/2147-0.txt\"\n",
    "raw=''\n",
    "with urlopen(url) as response:\n",
    "     for line in response:\n",
    "         line = line.decode('utf-8')  # Decoding the binary data to text.\n",
    "         raw = raw + line"
   ]
  },
  {
   "cell_type": "code",
   "execution_count": 234,
   "metadata": {},
   "outputs": [
    {
     "name": "stdout",
     "output_type": "stream",
     "text": [
      "<class 'str'>\n",
      "550334\n"
     ]
    },
    {
     "data": {
      "text/plain": [
       "'\\ufeffProject Gutenberg’s The Works of Edgar Allan Poe, by Edgar Allan Poe\\r\\n\\r\\nThis eBook is for the use of anyone anywhere at no cost and with\\r\\nalmost no restrictions whatsoever.  You may copy it, give it away or\\r\\nre-use it under the terms of the Project Gutenberg License included\\r\\nwith this eBook or online at www.gutenberg.org\\r\\n\\r\\n\\r\\nTitle: The Works of Edgar Allan Poe\\r\\n       Volume 1 (of 5) of the Rav'"
      ]
     },
     "execution_count": 234,
     "metadata": {},
     "output_type": "execute_result"
    }
   ],
   "source": [
    "print(type(raw))\n",
    "#prints number of characters\n",
    "print(len(raw))\n",
    "# Print the beginning of raw data\n",
    "raw[0:400]"
   ]
  },
  {
   "cell_type": "markdown",
   "metadata": {},
   "source": [
    "There are 550,334 characters.  This includes spaces, characters to indicate new lines and punctuation."
   ]
  },
  {
   "cell_type": "code",
   "execution_count": 235,
   "metadata": {},
   "outputs": [
    {
     "name": "stdout",
     "output_type": "stream",
     "text": [
      "51526-51572: THE UNPARALLELED ADVENTURES OF ONE HANS PFAALL\n",
      "531257-531260: END\n",
      "548509-548512: END\n"
     ]
    },
    {
     "data": {
      "text/plain": [
       "548509"
      ]
     },
     "execution_count": 235,
     "metadata": {},
     "output_type": "execute_result"
    }
   ],
   "source": [
    "#Alternate ways to find start and end of Book text \n",
    "for m in re.finditer(r\"THE UNPARALLELED ADVENTURES OF ONE HANS PFAALL|END\", raw):\n",
    "    print ('%02d-%02d: %s' % (m.start(), m.end(), m.group(0)))\n",
    "\n",
    "raw.find(\"THE UNPARALLELED ADVENTURES OF ONE HANS PFAALL\")\n",
    "raw.rfind(\"END\")"
   ]
  },
  {
   "cell_type": "code",
   "execution_count": 236,
   "metadata": {},
   "outputs": [],
   "source": [
    "#There is a long introduction about Edgar Allan Poe before the story begins.  \n",
    "#The string will be sliced so that it only includes Poe's writing.  This was determined by inspecting the text.\n",
    "raw.find(\"THE UNPARALLELED ADVENTURES OF ONE HANS PFAALL\")\n",
    "raw.rfind(\"END\")\n",
    "raw = raw[51526:531158]"
   ]
  },
  {
   "cell_type": "code",
   "execution_count": 237,
   "metadata": {},
   "outputs": [],
   "source": [
    "parsedData = raw.replace('\\r\\n', '\\n').split('\\n')\n",
    "parsedData[0:5]\n",
    "fullCorpus = pd.DataFrame({\n",
    "      'book_data': parsedData[:]\n",
    "})"
   ]
  },
  {
   "cell_type": "code",
   "execution_count": 238,
   "metadata": {},
   "outputs": [],
   "source": [
    "fullCorpus = fullCorpus[fullCorpus['book_data']!=\"\"]"
   ]
  },
  {
   "cell_type": "code",
   "execution_count": 239,
   "metadata": {},
   "outputs": [
    {
     "name": "stdout",
     "output_type": "stream",
     "text": [
      "7107\n",
      "Total Book has 7107 rows\n"
     ]
    }
   ],
   "source": [
    "print(len(fullCorpus.book_data))\n",
    "# How many Rows are there?\n",
    "\n",
    "print(\"Total Book has {} rows\".format(len(fullCorpus)))"
   ]
  },
  {
   "cell_type": "markdown",
   "metadata": {},
   "source": [
    "Pre-processing text data\n",
    "Cleaning (or pre-processing) the data typically consists of a number of steps:\n",
    "\n",
    "+ Remove punctuation\n",
    "+ Tokenization\n",
    "+ Remove stopwords"
   ]
  },
  {
   "cell_type": "code",
   "execution_count": 240,
   "metadata": {},
   "outputs": [
    {
     "data": {
      "text/html": [
       "<div>\n",
       "<style scoped>\n",
       "    .dataframe tbody tr th:only-of-type {\n",
       "        vertical-align: middle;\n",
       "    }\n",
       "\n",
       "    .dataframe tbody tr th {\n",
       "        vertical-align: top;\n",
       "    }\n",
       "\n",
       "    .dataframe thead th {\n",
       "        text-align: right;\n",
       "    }\n",
       "</style>\n",
       "<table border=\"1\" class=\"dataframe\">\n",
       "  <thead>\n",
       "    <tr style=\"text-align: right;\">\n",
       "      <th></th>\n",
       "      <th>book_data</th>\n",
       "    </tr>\n",
       "  </thead>\n",
       "  <tbody>\n",
       "    <tr>\n",
       "      <th>0</th>\n",
       "      <td>THE UNPARALLELED ADVENTURES OF ONE HANS PFAALL (*1)</td>\n",
       "    </tr>\n",
       "    <tr>\n",
       "      <th>2</th>\n",
       "      <td>BY late accounts from Rotterdam, that city seems to be in a high state</td>\n",
       "    </tr>\n",
       "    <tr>\n",
       "      <th>3</th>\n",
       "      <td>of philosophical excitement. Indeed, phenomena have there occurred of</td>\n",
       "    </tr>\n",
       "    <tr>\n",
       "      <th>4</th>\n",
       "      <td>a nature so completely unexpected--so entirely novel--so utterly at</td>\n",
       "    </tr>\n",
       "    <tr>\n",
       "      <th>5</th>\n",
       "      <td>variance with preconceived opinions--as to leave no doubt on my mind</td>\n",
       "    </tr>\n",
       "  </tbody>\n",
       "</table>\n",
       "</div>"
      ],
      "text/plain": [
       "                                                                book_data\n",
       "0                     THE UNPARALLELED ADVENTURES OF ONE HANS PFAALL (*1)\n",
       "2  BY late accounts from Rotterdam, that city seems to be in a high state\n",
       "3   of philosophical excitement. Indeed, phenomena have there occurred of\n",
       "4     a nature so completely unexpected--so entirely novel--so utterly at\n",
       "5    variance with preconceived opinions--as to leave no doubt on my mind"
      ]
     },
     "execution_count": 240,
     "metadata": {},
     "output_type": "execute_result"
    }
   ],
   "source": [
    "fullCorpus.head()"
   ]
  },
  {
   "cell_type": "markdown",
   "metadata": {},
   "source": [
    "### Remove punctuation"
   ]
  },
  {
   "cell_type": "code",
   "execution_count": 241,
   "metadata": {},
   "outputs": [
    {
     "data": {
      "text/plain": [
       "'!\"#$%&\\'()*+,-./:;<=>?@[\\\\]^_`{|}~'"
      ]
     },
     "execution_count": 241,
     "metadata": {},
     "output_type": "execute_result"
    }
   ],
   "source": [
    "string.punctuation"
   ]
  },
  {
   "cell_type": "code",
   "execution_count": 242,
   "metadata": {},
   "outputs": [
    {
     "data": {
      "text/html": [
       "<div>\n",
       "<style scoped>\n",
       "    .dataframe tbody tr th:only-of-type {\n",
       "        vertical-align: middle;\n",
       "    }\n",
       "\n",
       "    .dataframe tbody tr th {\n",
       "        vertical-align: top;\n",
       "    }\n",
       "\n",
       "    .dataframe thead th {\n",
       "        text-align: right;\n",
       "    }\n",
       "</style>\n",
       "<table border=\"1\" class=\"dataframe\">\n",
       "  <thead>\n",
       "    <tr style=\"text-align: right;\">\n",
       "      <th></th>\n",
       "      <th>book_data</th>\n",
       "      <th>book_data_clean</th>\n",
       "    </tr>\n",
       "  </thead>\n",
       "  <tbody>\n",
       "    <tr>\n",
       "      <th>0</th>\n",
       "      <td>THE UNPARALLELED ADVENTURES OF ONE HANS PFAALL (*1)</td>\n",
       "      <td>THE UNPARALLELED ADVENTURES OF ONE HANS PFAALL 1</td>\n",
       "    </tr>\n",
       "    <tr>\n",
       "      <th>2</th>\n",
       "      <td>BY late accounts from Rotterdam, that city seems to be in a high state</td>\n",
       "      <td>BY late accounts from Rotterdam that city seems to be in a high state</td>\n",
       "    </tr>\n",
       "    <tr>\n",
       "      <th>3</th>\n",
       "      <td>of philosophical excitement. Indeed, phenomena have there occurred of</td>\n",
       "      <td>of philosophical excitement Indeed phenomena have there occurred of</td>\n",
       "    </tr>\n",
       "    <tr>\n",
       "      <th>4</th>\n",
       "      <td>a nature so completely unexpected--so entirely novel--so utterly at</td>\n",
       "      <td>a nature so completely unexpectedso entirely novelso utterly at</td>\n",
       "    </tr>\n",
       "    <tr>\n",
       "      <th>5</th>\n",
       "      <td>variance with preconceived opinions--as to leave no doubt on my mind</td>\n",
       "      <td>variance with preconceived opinionsas to leave no doubt on my mind</td>\n",
       "    </tr>\n",
       "  </tbody>\n",
       "</table>\n",
       "</div>"
      ],
      "text/plain": [
       "                                                                book_data  \\\n",
       "0                     THE UNPARALLELED ADVENTURES OF ONE HANS PFAALL (*1)   \n",
       "2  BY late accounts from Rotterdam, that city seems to be in a high state   \n",
       "3   of philosophical excitement. Indeed, phenomena have there occurred of   \n",
       "4     a nature so completely unexpected--so entirely novel--so utterly at   \n",
       "5    variance with preconceived opinions--as to leave no doubt on my mind   \n",
       "\n",
       "                                                         book_data_clean  \n",
       "0                       THE UNPARALLELED ADVENTURES OF ONE HANS PFAALL 1  \n",
       "2  BY late accounts from Rotterdam that city seems to be in a high state  \n",
       "3    of philosophical excitement Indeed phenomena have there occurred of  \n",
       "4        a nature so completely unexpectedso entirely novelso utterly at  \n",
       "5     variance with preconceived opinionsas to leave no doubt on my mind  "
      ]
     },
     "execution_count": 242,
     "metadata": {},
     "output_type": "execute_result"
    }
   ],
   "source": [
    "def remove_punct(text):\n",
    "    text_nopunct = \"\".join([char for char in text if char not in string.punctuation])\n",
    "    return text_nopunct\n",
    "\n",
    "fullCorpus['book_data_clean'] = fullCorpus['book_data'].apply(lambda x: remove_punct(x))\n",
    "\n",
    "fullCorpus.head()"
   ]
  },
  {
   "cell_type": "markdown",
   "metadata": {},
   "source": [
    "### Tokenization"
   ]
  },
  {
   "cell_type": "code",
   "execution_count": 243,
   "metadata": {},
   "outputs": [
    {
     "data": {
      "text/html": [
       "<div>\n",
       "<style scoped>\n",
       "    .dataframe tbody tr th:only-of-type {\n",
       "        vertical-align: middle;\n",
       "    }\n",
       "\n",
       "    .dataframe tbody tr th {\n",
       "        vertical-align: top;\n",
       "    }\n",
       "\n",
       "    .dataframe thead th {\n",
       "        text-align: right;\n",
       "    }\n",
       "</style>\n",
       "<table border=\"1\" class=\"dataframe\">\n",
       "  <thead>\n",
       "    <tr style=\"text-align: right;\">\n",
       "      <th></th>\n",
       "      <th>book_data</th>\n",
       "      <th>book_data_clean</th>\n",
       "      <th>book_data_tokenized</th>\n",
       "    </tr>\n",
       "  </thead>\n",
       "  <tbody>\n",
       "    <tr>\n",
       "      <th>0</th>\n",
       "      <td>THE UNPARALLELED ADVENTURES OF ONE HANS PFAALL (*1)</td>\n",
       "      <td>THE UNPARALLELED ADVENTURES OF ONE HANS PFAALL 1</td>\n",
       "      <td>[THE, UNPARALLELED, ADVENTURES, OF, ONE, HANS, PFAALL, 1, ]</td>\n",
       "    </tr>\n",
       "    <tr>\n",
       "      <th>2</th>\n",
       "      <td>BY late accounts from Rotterdam, that city seems to be in a high state</td>\n",
       "      <td>BY late accounts from Rotterdam that city seems to be in a high state</td>\n",
       "      <td>[BY, late, accounts, from, Rotterdam, that, city, seems, to, be, in, a, high, state]</td>\n",
       "    </tr>\n",
       "    <tr>\n",
       "      <th>3</th>\n",
       "      <td>of philosophical excitement. Indeed, phenomena have there occurred of</td>\n",
       "      <td>of philosophical excitement Indeed phenomena have there occurred of</td>\n",
       "      <td>[of, philosophical, excitement, Indeed, phenomena, have, there, occurred, of]</td>\n",
       "    </tr>\n",
       "    <tr>\n",
       "      <th>4</th>\n",
       "      <td>a nature so completely unexpected--so entirely novel--so utterly at</td>\n",
       "      <td>a nature so completely unexpectedso entirely novelso utterly at</td>\n",
       "      <td>[a, nature, so, completely, unexpected, so, entirely, novel, so, utterly, at]</td>\n",
       "    </tr>\n",
       "    <tr>\n",
       "      <th>5</th>\n",
       "      <td>variance with preconceived opinions--as to leave no doubt on my mind</td>\n",
       "      <td>variance with preconceived opinionsas to leave no doubt on my mind</td>\n",
       "      <td>[variance, with, preconceived, opinions, as, to, leave, no, doubt, on, my, mind]</td>\n",
       "    </tr>\n",
       "  </tbody>\n",
       "</table>\n",
       "</div>"
      ],
      "text/plain": [
       "                                                                book_data  \\\n",
       "0                     THE UNPARALLELED ADVENTURES OF ONE HANS PFAALL (*1)   \n",
       "2  BY late accounts from Rotterdam, that city seems to be in a high state   \n",
       "3   of philosophical excitement. Indeed, phenomena have there occurred of   \n",
       "4     a nature so completely unexpected--so entirely novel--so utterly at   \n",
       "5    variance with preconceived opinions--as to leave no doubt on my mind   \n",
       "\n",
       "                                                         book_data_clean  \\\n",
       "0                       THE UNPARALLELED ADVENTURES OF ONE HANS PFAALL 1   \n",
       "2  BY late accounts from Rotterdam that city seems to be in a high state   \n",
       "3    of philosophical excitement Indeed phenomena have there occurred of   \n",
       "4        a nature so completely unexpectedso entirely novelso utterly at   \n",
       "5     variance with preconceived opinionsas to leave no doubt on my mind   \n",
       "\n",
       "                                                                    book_data_tokenized  \n",
       "0                           [THE, UNPARALLELED, ADVENTURES, OF, ONE, HANS, PFAALL, 1, ]  \n",
       "2  [BY, late, accounts, from, Rotterdam, that, city, seems, to, be, in, a, high, state]  \n",
       "3         [of, philosophical, excitement, Indeed, phenomena, have, there, occurred, of]  \n",
       "4         [a, nature, so, completely, unexpected, so, entirely, novel, so, utterly, at]  \n",
       "5      [variance, with, preconceived, opinions, as, to, leave, no, doubt, on, my, mind]  "
      ]
     },
     "execution_count": 243,
     "metadata": {},
     "output_type": "execute_result"
    }
   ],
   "source": [
    "def tokenize(text):\n",
    "    tokens = re.split('\\W+', text)\n",
    "    return tokens\n",
    "\n",
    "fullCorpus['book_data_tokenized'] = fullCorpus['book_data'].apply(lambda x: tokenize(x))\n",
    "\n",
    "fullCorpus.head()"
   ]
  },
  {
   "cell_type": "code",
   "execution_count": 244,
   "metadata": {},
   "outputs": [
    {
     "data": {
      "text/html": [
       "<div>\n",
       "<style scoped>\n",
       "    .dataframe tbody tr th:only-of-type {\n",
       "        vertical-align: middle;\n",
       "    }\n",
       "\n",
       "    .dataframe tbody tr th {\n",
       "        vertical-align: top;\n",
       "    }\n",
       "\n",
       "    .dataframe thead th {\n",
       "        text-align: right;\n",
       "    }\n",
       "</style>\n",
       "<table border=\"1\" class=\"dataframe\">\n",
       "  <thead>\n",
       "    <tr style=\"text-align: right;\">\n",
       "      <th></th>\n",
       "      <th>book_data</th>\n",
       "      <th>book_data_clean</th>\n",
       "      <th>book_data_tokenized</th>\n",
       "    </tr>\n",
       "  </thead>\n",
       "  <tbody>\n",
       "    <tr>\n",
       "      <th>0</th>\n",
       "      <td>THE UNPARALLELED ADVENTURES OF ONE HANS PFAALL (*1)</td>\n",
       "      <td>THE UNPARALLELED ADVENTURES OF ONE HANS PFAALL 1</td>\n",
       "      <td>[the, unparalleled, adventures, of, one, hans, pfaall, 1]</td>\n",
       "    </tr>\n",
       "    <tr>\n",
       "      <th>2</th>\n",
       "      <td>BY late accounts from Rotterdam, that city seems to be in a high state</td>\n",
       "      <td>BY late accounts from Rotterdam that city seems to be in a high state</td>\n",
       "      <td>[by, late, accounts, from, rotterdam, that, city, seems, to, be, in, a, high, state]</td>\n",
       "    </tr>\n",
       "    <tr>\n",
       "      <th>3</th>\n",
       "      <td>of philosophical excitement. Indeed, phenomena have there occurred of</td>\n",
       "      <td>of philosophical excitement Indeed phenomena have there occurred of</td>\n",
       "      <td>[of, philosophical, excitement, indeed, phenomena, have, there, occurred, of]</td>\n",
       "    </tr>\n",
       "    <tr>\n",
       "      <th>4</th>\n",
       "      <td>a nature so completely unexpected--so entirely novel--so utterly at</td>\n",
       "      <td>a nature so completely unexpectedso entirely novelso utterly at</td>\n",
       "      <td>[a, nature, so, completely, unexpectedso, entirely, novelso, utterly, at]</td>\n",
       "    </tr>\n",
       "    <tr>\n",
       "      <th>5</th>\n",
       "      <td>variance with preconceived opinions--as to leave no doubt on my mind</td>\n",
       "      <td>variance with preconceived opinionsas to leave no doubt on my mind</td>\n",
       "      <td>[variance, with, preconceived, opinionsas, to, leave, no, doubt, on, my, mind]</td>\n",
       "    </tr>\n",
       "  </tbody>\n",
       "</table>\n",
       "</div>"
      ],
      "text/plain": [
       "                                                                book_data  \\\n",
       "0                     THE UNPARALLELED ADVENTURES OF ONE HANS PFAALL (*1)   \n",
       "2  BY late accounts from Rotterdam, that city seems to be in a high state   \n",
       "3   of philosophical excitement. Indeed, phenomena have there occurred of   \n",
       "4     a nature so completely unexpected--so entirely novel--so utterly at   \n",
       "5    variance with preconceived opinions--as to leave no doubt on my mind   \n",
       "\n",
       "                                                         book_data_clean  \\\n",
       "0                       THE UNPARALLELED ADVENTURES OF ONE HANS PFAALL 1   \n",
       "2  BY late accounts from Rotterdam that city seems to be in a high state   \n",
       "3    of philosophical excitement Indeed phenomena have there occurred of   \n",
       "4        a nature so completely unexpectedso entirely novelso utterly at   \n",
       "5     variance with preconceived opinionsas to leave no doubt on my mind   \n",
       "\n",
       "                                                                    book_data_tokenized  \n",
       "0                             [the, unparalleled, adventures, of, one, hans, pfaall, 1]  \n",
       "2  [by, late, accounts, from, rotterdam, that, city, seems, to, be, in, a, high, state]  \n",
       "3         [of, philosophical, excitement, indeed, phenomena, have, there, occurred, of]  \n",
       "4             [a, nature, so, completely, unexpectedso, entirely, novelso, utterly, at]  \n",
       "5        [variance, with, preconceived, opinionsas, to, leave, no, doubt, on, my, mind]  "
      ]
     },
     "execution_count": 244,
     "metadata": {},
     "output_type": "execute_result"
    }
   ],
   "source": [
    "fullCorpus['book_data_tokenized'] = fullCorpus['book_data_clean'].apply(lambda x: tokenize(x.lower()))\n",
    "\n",
    "fullCorpus.head()"
   ]
  },
  {
   "cell_type": "code",
   "execution_count": 245,
   "metadata": {},
   "outputs": [
    {
     "data": {
      "text/html": [
       "<div>\n",
       "<style scoped>\n",
       "    .dataframe tbody tr th:only-of-type {\n",
       "        vertical-align: middle;\n",
       "    }\n",
       "\n",
       "    .dataframe tbody tr th {\n",
       "        vertical-align: top;\n",
       "    }\n",
       "\n",
       "    .dataframe thead th {\n",
       "        text-align: right;\n",
       "    }\n",
       "</style>\n",
       "<table border=\"1\" class=\"dataframe\">\n",
       "  <thead>\n",
       "    <tr style=\"text-align: right;\">\n",
       "      <th></th>\n",
       "      <th>book_data</th>\n",
       "      <th>book_data_clean</th>\n",
       "      <th>book_data_tokenized</th>\n",
       "      <th>book_data_tokenized_nlkt</th>\n",
       "    </tr>\n",
       "  </thead>\n",
       "  <tbody>\n",
       "    <tr>\n",
       "      <th>0</th>\n",
       "      <td>THE UNPARALLELED ADVENTURES OF ONE HANS PFAALL (*1)</td>\n",
       "      <td>THE UNPARALLELED ADVENTURES OF ONE HANS PFAALL 1</td>\n",
       "      <td>[the, unparalleled, adventures, of, one, hans, pfaall, 1]</td>\n",
       "      <td>[the, unparalleled, adventures, of, one, hans, pfaall, 1]</td>\n",
       "    </tr>\n",
       "    <tr>\n",
       "      <th>2</th>\n",
       "      <td>BY late accounts from Rotterdam, that city seems to be in a high state</td>\n",
       "      <td>BY late accounts from Rotterdam that city seems to be in a high state</td>\n",
       "      <td>[by, late, accounts, from, rotterdam, that, city, seems, to, be, in, a, high, state]</td>\n",
       "      <td>[by, late, accounts, from, rotterdam, that, city, seems, to, be, in, a, high, state]</td>\n",
       "    </tr>\n",
       "    <tr>\n",
       "      <th>3</th>\n",
       "      <td>of philosophical excitement. Indeed, phenomena have there occurred of</td>\n",
       "      <td>of philosophical excitement Indeed phenomena have there occurred of</td>\n",
       "      <td>[of, philosophical, excitement, indeed, phenomena, have, there, occurred, of]</td>\n",
       "      <td>[of, philosophical, excitement, indeed, phenomena, have, there, occurred, of]</td>\n",
       "    </tr>\n",
       "    <tr>\n",
       "      <th>4</th>\n",
       "      <td>a nature so completely unexpected--so entirely novel--so utterly at</td>\n",
       "      <td>a nature so completely unexpectedso entirely novelso utterly at</td>\n",
       "      <td>[a, nature, so, completely, unexpectedso, entirely, novelso, utterly, at]</td>\n",
       "      <td>[a, nature, so, completely, unexpectedso, entirely, novelso, utterly, at]</td>\n",
       "    </tr>\n",
       "    <tr>\n",
       "      <th>5</th>\n",
       "      <td>variance with preconceived opinions--as to leave no doubt on my mind</td>\n",
       "      <td>variance with preconceived opinionsas to leave no doubt on my mind</td>\n",
       "      <td>[variance, with, preconceived, opinionsas, to, leave, no, doubt, on, my, mind]</td>\n",
       "      <td>[variance, with, preconceived, opinionsas, to, leave, no, doubt, on, my, mind]</td>\n",
       "    </tr>\n",
       "    <tr>\n",
       "      <th>6</th>\n",
       "      <td>that long ere this all Europe is in an uproar, all physics in a ferment,</td>\n",
       "      <td>that long ere this all Europe is in an uproar all physics in a ferment</td>\n",
       "      <td>[that, long, ere, this, all, europe, is, in, an, uproar, all, physics, in, a, ferment]</td>\n",
       "      <td>[that, long, ere, this, all, europe, is, in, an, uproar, all, physics, in, a, ferment]</td>\n",
       "    </tr>\n",
       "    <tr>\n",
       "      <th>7</th>\n",
       "      <td>all reason and astronomy together by the ears.</td>\n",
       "      <td>all reason and astronomy together by the ears</td>\n",
       "      <td>[all, reason, and, astronomy, together, by, the, ears]</td>\n",
       "      <td>[all, reason, and, astronomy, together, by, the, ears]</td>\n",
       "    </tr>\n",
       "    <tr>\n",
       "      <th>9</th>\n",
       "      <td>It appears that on the---- day of---- (I am not positive about the</td>\n",
       "      <td>It appears that on the day of I am not positive about the</td>\n",
       "      <td>[it, appears, that, on, the, day, of, i, am, not, positive, about, the]</td>\n",
       "      <td>[it, appears, that, on, the, day, of, i, am, not, positive, about, the]</td>\n",
       "    </tr>\n",
       "    <tr>\n",
       "      <th>10</th>\n",
       "      <td>date), a vast crowd of people, for purposes not specifically</td>\n",
       "      <td>date a vast crowd of people for purposes not specifically</td>\n",
       "      <td>[date, a, vast, crowd, of, people, for, purposes, not, specifically]</td>\n",
       "      <td>[date, a, vast, crowd, of, people, for, purposes, not, specifically]</td>\n",
       "    </tr>\n",
       "    <tr>\n",
       "      <th>11</th>\n",
       "      <td>mentioned, were assembled in the great square of the Exchange in the</td>\n",
       "      <td>mentioned were assembled in the great square of the Exchange in the</td>\n",
       "      <td>[mentioned, were, assembled, in, the, great, square, of, the, exchange, in, the]</td>\n",
       "      <td>[mentioned, were, assembled, in, the, great, square, of, the, exchange, in, the]</td>\n",
       "    </tr>\n",
       "  </tbody>\n",
       "</table>\n",
       "</div>"
      ],
      "text/plain": [
       "                                                                   book_data  \\\n",
       "0                        THE UNPARALLELED ADVENTURES OF ONE HANS PFAALL (*1)   \n",
       "2     BY late accounts from Rotterdam, that city seems to be in a high state   \n",
       "3      of philosophical excitement. Indeed, phenomena have there occurred of   \n",
       "4        a nature so completely unexpected--so entirely novel--so utterly at   \n",
       "5       variance with preconceived opinions--as to leave no doubt on my mind   \n",
       "6   that long ere this all Europe is in an uproar, all physics in a ferment,   \n",
       "7                             all reason and astronomy together by the ears.   \n",
       "9         It appears that on the---- day of---- (I am not positive about the   \n",
       "10              date), a vast crowd of people, for purposes not specifically   \n",
       "11      mentioned, were assembled in the great square of the Exchange in the   \n",
       "\n",
       "                                                           book_data_clean  \\\n",
       "0                         THE UNPARALLELED ADVENTURES OF ONE HANS PFAALL 1   \n",
       "2    BY late accounts from Rotterdam that city seems to be in a high state   \n",
       "3      of philosophical excitement Indeed phenomena have there occurred of   \n",
       "4          a nature so completely unexpectedso entirely novelso utterly at   \n",
       "5       variance with preconceived opinionsas to leave no doubt on my mind   \n",
       "6   that long ere this all Europe is in an uproar all physics in a ferment   \n",
       "7                            all reason and astronomy together by the ears   \n",
       "9                It appears that on the day of I am not positive about the   \n",
       "10               date a vast crowd of people for purposes not specifically   \n",
       "11     mentioned were assembled in the great square of the Exchange in the   \n",
       "\n",
       "                                                                       book_data_tokenized  \\\n",
       "0                                [the, unparalleled, adventures, of, one, hans, pfaall, 1]   \n",
       "2     [by, late, accounts, from, rotterdam, that, city, seems, to, be, in, a, high, state]   \n",
       "3            [of, philosophical, excitement, indeed, phenomena, have, there, occurred, of]   \n",
       "4                [a, nature, so, completely, unexpectedso, entirely, novelso, utterly, at]   \n",
       "5           [variance, with, preconceived, opinionsas, to, leave, no, doubt, on, my, mind]   \n",
       "6   [that, long, ere, this, all, europe, is, in, an, uproar, all, physics, in, a, ferment]   \n",
       "7                                   [all, reason, and, astronomy, together, by, the, ears]   \n",
       "9                  [it, appears, that, on, the, day, of, i, am, not, positive, about, the]   \n",
       "10                    [date, a, vast, crowd, of, people, for, purposes, not, specifically]   \n",
       "11        [mentioned, were, assembled, in, the, great, square, of, the, exchange, in, the]   \n",
       "\n",
       "                                                                  book_data_tokenized_nlkt  \n",
       "0                                [the, unparalleled, adventures, of, one, hans, pfaall, 1]  \n",
       "2     [by, late, accounts, from, rotterdam, that, city, seems, to, be, in, a, high, state]  \n",
       "3            [of, philosophical, excitement, indeed, phenomena, have, there, occurred, of]  \n",
       "4                [a, nature, so, completely, unexpectedso, entirely, novelso, utterly, at]  \n",
       "5           [variance, with, preconceived, opinionsas, to, leave, no, doubt, on, my, mind]  \n",
       "6   [that, long, ere, this, all, europe, is, in, an, uproar, all, physics, in, a, ferment]  \n",
       "7                                   [all, reason, and, astronomy, together, by, the, ears]  \n",
       "9                  [it, appears, that, on, the, day, of, i, am, not, positive, about, the]  \n",
       "10                    [date, a, vast, crowd, of, people, for, purposes, not, specifically]  \n",
       "11        [mentioned, were, assembled, in, the, great, square, of, the, exchange, in, the]  "
      ]
     },
     "execution_count": 245,
     "metadata": {},
     "output_type": "execute_result"
    }
   ],
   "source": [
    "fullCorpus['book_data_tokenized_nlkt'] = fullCorpus['book_data_clean'].apply(lambda x: nltk.word_tokenize(x.lower()))\n",
    "\n",
    "fullCorpus.head(10)"
   ]
  },
  {
   "cell_type": "markdown",
   "metadata": {},
   "source": [
    "### Remove stopwords"
   ]
  },
  {
   "cell_type": "code",
   "execution_count": 246,
   "metadata": {},
   "outputs": [
    {
     "data": {
      "text/plain": [
       "['me', 'my', 'myself', 'we', 'our', 'ours', 'ourselves', 'you', \"you're\"]"
      ]
     },
     "execution_count": 246,
     "metadata": {},
     "output_type": "execute_result"
    }
   ],
   "source": [
    "stopword = nltk.corpus.stopwords.words('english')\n",
    "stopword.append('upon')\n",
    "stopword.append('would')\n",
    "stopword.append('us')\n",
    "stopword.append('would')\n",
    "stopword.append('could')\n",
    "stopword.append('much')\n",
    "stopword.append('great')\n",
    "stopword[1:10]"
   ]
  },
  {
   "cell_type": "code",
   "execution_count": 247,
   "metadata": {},
   "outputs": [
    {
     "data": {
      "text/html": [
       "<div>\n",
       "<style scoped>\n",
       "    .dataframe tbody tr th:only-of-type {\n",
       "        vertical-align: middle;\n",
       "    }\n",
       "\n",
       "    .dataframe tbody tr th {\n",
       "        vertical-align: top;\n",
       "    }\n",
       "\n",
       "    .dataframe thead th {\n",
       "        text-align: right;\n",
       "    }\n",
       "</style>\n",
       "<table border=\"1\" class=\"dataframe\">\n",
       "  <thead>\n",
       "    <tr style=\"text-align: right;\">\n",
       "      <th></th>\n",
       "      <th>book_data</th>\n",
       "      <th>book_data_clean</th>\n",
       "      <th>book_data_tokenized</th>\n",
       "      <th>book_data_tokenized_nlkt</th>\n",
       "      <th>book_data_nostop</th>\n",
       "    </tr>\n",
       "  </thead>\n",
       "  <tbody>\n",
       "    <tr>\n",
       "      <th>0</th>\n",
       "      <td>THE UNPARALLELED ADVENTURES OF ONE HANS PFAALL (*1)</td>\n",
       "      <td>THE UNPARALLELED ADVENTURES OF ONE HANS PFAALL 1</td>\n",
       "      <td>[the, unparalleled, adventures, of, one, hans, pfaall, 1]</td>\n",
       "      <td>[the, unparalleled, adventures, of, one, hans, pfaall, 1]</td>\n",
       "      <td>[unparalleled, adventures, one, hans, pfaall, 1]</td>\n",
       "    </tr>\n",
       "    <tr>\n",
       "      <th>2</th>\n",
       "      <td>BY late accounts from Rotterdam, that city seems to be in a high state</td>\n",
       "      <td>BY late accounts from Rotterdam that city seems to be in a high state</td>\n",
       "      <td>[by, late, accounts, from, rotterdam, that, city, seems, to, be, in, a, high, state]</td>\n",
       "      <td>[by, late, accounts, from, rotterdam, that, city, seems, to, be, in, a, high, state]</td>\n",
       "      <td>[late, accounts, rotterdam, city, seems, high, state]</td>\n",
       "    </tr>\n",
       "    <tr>\n",
       "      <th>3</th>\n",
       "      <td>of philosophical excitement. Indeed, phenomena have there occurred of</td>\n",
       "      <td>of philosophical excitement Indeed phenomena have there occurred of</td>\n",
       "      <td>[of, philosophical, excitement, indeed, phenomena, have, there, occurred, of]</td>\n",
       "      <td>[of, philosophical, excitement, indeed, phenomena, have, there, occurred, of]</td>\n",
       "      <td>[philosophical, excitement, indeed, phenomena, occurred]</td>\n",
       "    </tr>\n",
       "    <tr>\n",
       "      <th>4</th>\n",
       "      <td>a nature so completely unexpected--so entirely novel--so utterly at</td>\n",
       "      <td>a nature so completely unexpectedso entirely novelso utterly at</td>\n",
       "      <td>[a, nature, so, completely, unexpectedso, entirely, novelso, utterly, at]</td>\n",
       "      <td>[a, nature, so, completely, unexpectedso, entirely, novelso, utterly, at]</td>\n",
       "      <td>[nature, completely, unexpectedso, entirely, novelso, utterly]</td>\n",
       "    </tr>\n",
       "    <tr>\n",
       "      <th>5</th>\n",
       "      <td>variance with preconceived opinions--as to leave no doubt on my mind</td>\n",
       "      <td>variance with preconceived opinionsas to leave no doubt on my mind</td>\n",
       "      <td>[variance, with, preconceived, opinionsas, to, leave, no, doubt, on, my, mind]</td>\n",
       "      <td>[variance, with, preconceived, opinionsas, to, leave, no, doubt, on, my, mind]</td>\n",
       "      <td>[variance, preconceived, opinionsas, leave, doubt, mind]</td>\n",
       "    </tr>\n",
       "  </tbody>\n",
       "</table>\n",
       "</div>"
      ],
      "text/plain": [
       "                                                                book_data  \\\n",
       "0                     THE UNPARALLELED ADVENTURES OF ONE HANS PFAALL (*1)   \n",
       "2  BY late accounts from Rotterdam, that city seems to be in a high state   \n",
       "3   of philosophical excitement. Indeed, phenomena have there occurred of   \n",
       "4     a nature so completely unexpected--so entirely novel--so utterly at   \n",
       "5    variance with preconceived opinions--as to leave no doubt on my mind   \n",
       "\n",
       "                                                         book_data_clean  \\\n",
       "0                       THE UNPARALLELED ADVENTURES OF ONE HANS PFAALL 1   \n",
       "2  BY late accounts from Rotterdam that city seems to be in a high state   \n",
       "3    of philosophical excitement Indeed phenomena have there occurred of   \n",
       "4        a nature so completely unexpectedso entirely novelso utterly at   \n",
       "5     variance with preconceived opinionsas to leave no doubt on my mind   \n",
       "\n",
       "                                                                    book_data_tokenized  \\\n",
       "0                             [the, unparalleled, adventures, of, one, hans, pfaall, 1]   \n",
       "2  [by, late, accounts, from, rotterdam, that, city, seems, to, be, in, a, high, state]   \n",
       "3         [of, philosophical, excitement, indeed, phenomena, have, there, occurred, of]   \n",
       "4             [a, nature, so, completely, unexpectedso, entirely, novelso, utterly, at]   \n",
       "5        [variance, with, preconceived, opinionsas, to, leave, no, doubt, on, my, mind]   \n",
       "\n",
       "                                                               book_data_tokenized_nlkt  \\\n",
       "0                             [the, unparalleled, adventures, of, one, hans, pfaall, 1]   \n",
       "2  [by, late, accounts, from, rotterdam, that, city, seems, to, be, in, a, high, state]   \n",
       "3         [of, philosophical, excitement, indeed, phenomena, have, there, occurred, of]   \n",
       "4             [a, nature, so, completely, unexpectedso, entirely, novelso, utterly, at]   \n",
       "5        [variance, with, preconceived, opinionsas, to, leave, no, doubt, on, my, mind]   \n",
       "\n",
       "                                                 book_data_nostop  \n",
       "0                [unparalleled, adventures, one, hans, pfaall, 1]  \n",
       "2           [late, accounts, rotterdam, city, seems, high, state]  \n",
       "3        [philosophical, excitement, indeed, phenomena, occurred]  \n",
       "4  [nature, completely, unexpectedso, entirely, novelso, utterly]  \n",
       "5        [variance, preconceived, opinionsas, leave, doubt, mind]  "
      ]
     },
     "execution_count": 247,
     "metadata": {},
     "output_type": "execute_result"
    }
   ],
   "source": [
    "# Checking if Tokenized word is in Stopword \n",
    "def remove_stopwords(tokenized_list):\n",
    "    text = [word for word in tokenized_list if word not in stopword]\n",
    "    return text\n",
    "\n",
    "fullCorpus['book_data_nostop'] = fullCorpus['book_data_tokenized'].apply(lambda x: remove_stopwords(x))\n",
    "\n",
    "fullCorpus.head()"
   ]
  },
  {
   "cell_type": "markdown",
   "metadata": {},
   "source": [
    "### Stem text"
   ]
  },
  {
   "cell_type": "code",
   "execution_count": 248,
   "metadata": {},
   "outputs": [],
   "source": [
    "# Pass the final set nonstopword list to get stem text\n",
    "# Stem text are like running = run run = run  \n",
    "# (issue ) runner = run (which is not right but stem does it)\n",
    "# it helps in reducing the corpus size given we are able to stem our words correctly."
   ]
  },
  {
   "cell_type": "code",
   "execution_count": 249,
   "metadata": {},
   "outputs": [
    {
     "data": {
      "text/html": [
       "<div>\n",
       "<style scoped>\n",
       "    .dataframe tbody tr th:only-of-type {\n",
       "        vertical-align: middle;\n",
       "    }\n",
       "\n",
       "    .dataframe tbody tr th {\n",
       "        vertical-align: top;\n",
       "    }\n",
       "\n",
       "    .dataframe thead th {\n",
       "        text-align: right;\n",
       "    }\n",
       "</style>\n",
       "<table border=\"1\" class=\"dataframe\">\n",
       "  <thead>\n",
       "    <tr style=\"text-align: right;\">\n",
       "      <th></th>\n",
       "      <th>book_data</th>\n",
       "      <th>book_data_clean</th>\n",
       "      <th>book_data_tokenized</th>\n",
       "      <th>book_data_tokenized_nlkt</th>\n",
       "      <th>book_data_nostop</th>\n",
       "      <th>book_data_stemmed</th>\n",
       "    </tr>\n",
       "  </thead>\n",
       "  <tbody>\n",
       "    <tr>\n",
       "      <th>0</th>\n",
       "      <td>THE UNPARALLELED ADVENTURES OF ONE HANS PFAALL (*1)</td>\n",
       "      <td>THE UNPARALLELED ADVENTURES OF ONE HANS PFAALL 1</td>\n",
       "      <td>[the, unparalleled, adventures, of, one, hans, pfaall, 1]</td>\n",
       "      <td>[the, unparalleled, adventures, of, one, hans, pfaall, 1]</td>\n",
       "      <td>[unparalleled, adventures, one, hans, pfaall, 1]</td>\n",
       "      <td>[unparallel, adventur, one, han, pfaall, 1]</td>\n",
       "    </tr>\n",
       "    <tr>\n",
       "      <th>2</th>\n",
       "      <td>BY late accounts from Rotterdam, that city seems to be in a high state</td>\n",
       "      <td>BY late accounts from Rotterdam that city seems to be in a high state</td>\n",
       "      <td>[by, late, accounts, from, rotterdam, that, city, seems, to, be, in, a, high, state]</td>\n",
       "      <td>[by, late, accounts, from, rotterdam, that, city, seems, to, be, in, a, high, state]</td>\n",
       "      <td>[late, accounts, rotterdam, city, seems, high, state]</td>\n",
       "      <td>[late, account, rotterdam, citi, seem, high, state]</td>\n",
       "    </tr>\n",
       "    <tr>\n",
       "      <th>3</th>\n",
       "      <td>of philosophical excitement. Indeed, phenomena have there occurred of</td>\n",
       "      <td>of philosophical excitement Indeed phenomena have there occurred of</td>\n",
       "      <td>[of, philosophical, excitement, indeed, phenomena, have, there, occurred, of]</td>\n",
       "      <td>[of, philosophical, excitement, indeed, phenomena, have, there, occurred, of]</td>\n",
       "      <td>[philosophical, excitement, indeed, phenomena, occurred]</td>\n",
       "      <td>[philosoph, excit, inde, phenomena, occur]</td>\n",
       "    </tr>\n",
       "    <tr>\n",
       "      <th>4</th>\n",
       "      <td>a nature so completely unexpected--so entirely novel--so utterly at</td>\n",
       "      <td>a nature so completely unexpectedso entirely novelso utterly at</td>\n",
       "      <td>[a, nature, so, completely, unexpectedso, entirely, novelso, utterly, at]</td>\n",
       "      <td>[a, nature, so, completely, unexpectedso, entirely, novelso, utterly, at]</td>\n",
       "      <td>[nature, completely, unexpectedso, entirely, novelso, utterly]</td>\n",
       "      <td>[natur, complet, unexpectedso, entir, novelso, utterli]</td>\n",
       "    </tr>\n",
       "    <tr>\n",
       "      <th>5</th>\n",
       "      <td>variance with preconceived opinions--as to leave no doubt on my mind</td>\n",
       "      <td>variance with preconceived opinionsas to leave no doubt on my mind</td>\n",
       "      <td>[variance, with, preconceived, opinionsas, to, leave, no, doubt, on, my, mind]</td>\n",
       "      <td>[variance, with, preconceived, opinionsas, to, leave, no, doubt, on, my, mind]</td>\n",
       "      <td>[variance, preconceived, opinionsas, leave, doubt, mind]</td>\n",
       "      <td>[varianc, preconceiv, opinionsa, leav, doubt, mind]</td>\n",
       "    </tr>\n",
       "  </tbody>\n",
       "</table>\n",
       "</div>"
      ],
      "text/plain": [
       "                                                                book_data  \\\n",
       "0                     THE UNPARALLELED ADVENTURES OF ONE HANS PFAALL (*1)   \n",
       "2  BY late accounts from Rotterdam, that city seems to be in a high state   \n",
       "3   of philosophical excitement. Indeed, phenomena have there occurred of   \n",
       "4     a nature so completely unexpected--so entirely novel--so utterly at   \n",
       "5    variance with preconceived opinions--as to leave no doubt on my mind   \n",
       "\n",
       "                                                         book_data_clean  \\\n",
       "0                       THE UNPARALLELED ADVENTURES OF ONE HANS PFAALL 1   \n",
       "2  BY late accounts from Rotterdam that city seems to be in a high state   \n",
       "3    of philosophical excitement Indeed phenomena have there occurred of   \n",
       "4        a nature so completely unexpectedso entirely novelso utterly at   \n",
       "5     variance with preconceived opinionsas to leave no doubt on my mind   \n",
       "\n",
       "                                                                    book_data_tokenized  \\\n",
       "0                             [the, unparalleled, adventures, of, one, hans, pfaall, 1]   \n",
       "2  [by, late, accounts, from, rotterdam, that, city, seems, to, be, in, a, high, state]   \n",
       "3         [of, philosophical, excitement, indeed, phenomena, have, there, occurred, of]   \n",
       "4             [a, nature, so, completely, unexpectedso, entirely, novelso, utterly, at]   \n",
       "5        [variance, with, preconceived, opinionsas, to, leave, no, doubt, on, my, mind]   \n",
       "\n",
       "                                                               book_data_tokenized_nlkt  \\\n",
       "0                             [the, unparalleled, adventures, of, one, hans, pfaall, 1]   \n",
       "2  [by, late, accounts, from, rotterdam, that, city, seems, to, be, in, a, high, state]   \n",
       "3         [of, philosophical, excitement, indeed, phenomena, have, there, occurred, of]   \n",
       "4             [a, nature, so, completely, unexpectedso, entirely, novelso, utterly, at]   \n",
       "5        [variance, with, preconceived, opinionsas, to, leave, no, doubt, on, my, mind]   \n",
       "\n",
       "                                                 book_data_nostop  \\\n",
       "0                [unparalleled, adventures, one, hans, pfaall, 1]   \n",
       "2           [late, accounts, rotterdam, city, seems, high, state]   \n",
       "3        [philosophical, excitement, indeed, phenomena, occurred]   \n",
       "4  [nature, completely, unexpectedso, entirely, novelso, utterly]   \n",
       "5        [variance, preconceived, opinionsas, leave, doubt, mind]   \n",
       "\n",
       "                                         book_data_stemmed  \n",
       "0              [unparallel, adventur, one, han, pfaall, 1]  \n",
       "2      [late, account, rotterdam, citi, seem, high, state]  \n",
       "3               [philosoph, excit, inde, phenomena, occur]  \n",
       "4  [natur, complet, unexpectedso, entir, novelso, utterli]  \n",
       "5      [varianc, preconceiv, opinionsa, leav, doubt, mind]  "
      ]
     },
     "execution_count": 249,
     "metadata": {},
     "output_type": "execute_result"
    }
   ],
   "source": [
    "# ps is porterstemmer \n",
    "ps = nltk.PorterStemmer()\n",
    "def stemming(tokenized_text):\n",
    "    text = [ps.stem(word) for word in tokenized_text]\n",
    "    return text\n",
    "\n",
    "fullCorpus['book_data_stemmed'] = fullCorpus['book_data_nostop'].apply(lambda x: stemming(x))\n",
    "\n",
    "fullCorpus.head()"
   ]
  },
  {
   "cell_type": "code",
   "execution_count": 250,
   "metadata": {},
   "outputs": [
    {
     "name": "stdout",
     "output_type": "stream",
     "text": [
      "run\n",
      "run\n",
      "runner\n"
     ]
    }
   ],
   "source": [
    "print(ps.stem('run'))\n",
    "print(ps.stem('running'))\n",
    "print(ps.stem('runner'))"
   ]
  },
  {
   "cell_type": "markdown",
   "metadata": {},
   "source": [
    "### Lemmatizing \n",
    "Lemmatizing is using vocabulary analysis of words to remove inflectional endings and return to the dictionary form of a word. So again, type, typed, and typing would all be simplified down to type, because that's the root of the word. Each variation carries the same meaning just with slightly different tense. \n",
    "\n",
    "##### Is Lemmatizing like stemming ? \n",
    "> The objective of both methods is to reduce the corpus size but they are doing it in just slightly different ways. In pratice, Lemmatizing is more accurate but is very intense and heavy computation  whereas Stemming is light and fast. \n",
    "\n",
    "The goal of both is to condense derived words down into their base form, to reduce the corpus of words that the model is exposed to, and to explicitly correlate words with similar meanings. "
   ]
  },
  {
   "cell_type": "code",
   "execution_count": 251,
   "metadata": {},
   "outputs": [],
   "source": [
    "wn = nltk.WordNetLemmatizer()"
   ]
  },
  {
   "cell_type": "code",
   "execution_count": 252,
   "metadata": {},
   "outputs": [
    {
     "name": "stdout",
     "output_type": "stream",
     "text": [
      "mean\n",
      "mean\n",
      "mango\n",
      "mean\n",
      "children\n",
      "child\n"
     ]
    }
   ],
   "source": [
    "print(ps.stem('meanness'))\n",
    "print(ps.stem('meaning'))\n",
    "print(ps.stem('mangoes'))\n",
    "print(ps.stem('meaning'))\n",
    "print(ps.stem('children'))\n",
    "print(ps.stem('child'))"
   ]
  },
  {
   "cell_type": "code",
   "execution_count": 253,
   "metadata": {},
   "outputs": [
    {
     "name": "stdout",
     "output_type": "stream",
     "text": [
      "meanness\n",
      "meaning\n",
      "mango\n",
      "mango\n",
      "child\n",
      "child\n",
      "seems\n"
     ]
    }
   ],
   "source": [
    "print(wn.lemmatize('meanness'))\n",
    "print(wn.lemmatize('meaning' ))\n",
    "print(wn.lemmatize('mangoes'))\n",
    "print(wn.lemmatize('mango'))\n",
    "print(wn.lemmatize('children'))\n",
    "print(wn.lemmatize('child'))\n",
    "print(wn.lemmatize('seems'))"
   ]
  },
  {
   "cell_type": "code",
   "execution_count": 254,
   "metadata": {},
   "outputs": [
    {
     "data": {
      "text/html": [
       "<div>\n",
       "<style scoped>\n",
       "    .dataframe tbody tr th:only-of-type {\n",
       "        vertical-align: middle;\n",
       "    }\n",
       "\n",
       "    .dataframe tbody tr th {\n",
       "        vertical-align: top;\n",
       "    }\n",
       "\n",
       "    .dataframe thead th {\n",
       "        text-align: right;\n",
       "    }\n",
       "</style>\n",
       "<table border=\"1\" class=\"dataframe\">\n",
       "  <thead>\n",
       "    <tr style=\"text-align: right;\">\n",
       "      <th></th>\n",
       "      <th>book_data</th>\n",
       "      <th>book_data_clean</th>\n",
       "      <th>book_data_tokenized</th>\n",
       "      <th>book_data_tokenized_nlkt</th>\n",
       "      <th>book_data_nostop</th>\n",
       "      <th>book_data_stemmed</th>\n",
       "      <th>book_data_lemmatized</th>\n",
       "    </tr>\n",
       "  </thead>\n",
       "  <tbody>\n",
       "    <tr>\n",
       "      <th>0</th>\n",
       "      <td>THE UNPARALLELED ADVENTURES OF ONE HANS PFAALL (*1)</td>\n",
       "      <td>THE UNPARALLELED ADVENTURES OF ONE HANS PFAALL 1</td>\n",
       "      <td>[the, unparalleled, adventures, of, one, hans, pfaall, 1]</td>\n",
       "      <td>[the, unparalleled, adventures, of, one, hans, pfaall, 1]</td>\n",
       "      <td>[unparalleled, adventures, one, hans, pfaall, 1]</td>\n",
       "      <td>[unparallel, adventur, one, han, pfaall, 1]</td>\n",
       "      <td>[unparalleled, adventure, one, han, pfaall, 1]</td>\n",
       "    </tr>\n",
       "    <tr>\n",
       "      <th>2</th>\n",
       "      <td>BY late accounts from Rotterdam, that city seems to be in a high state</td>\n",
       "      <td>BY late accounts from Rotterdam that city seems to be in a high state</td>\n",
       "      <td>[by, late, accounts, from, rotterdam, that, city, seems, to, be, in, a, high, state]</td>\n",
       "      <td>[by, late, accounts, from, rotterdam, that, city, seems, to, be, in, a, high, state]</td>\n",
       "      <td>[late, accounts, rotterdam, city, seems, high, state]</td>\n",
       "      <td>[late, account, rotterdam, citi, seem, high, state]</td>\n",
       "      <td>[late, account, rotterdam, city, seems, high, state]</td>\n",
       "    </tr>\n",
       "    <tr>\n",
       "      <th>3</th>\n",
       "      <td>of philosophical excitement. Indeed, phenomena have there occurred of</td>\n",
       "      <td>of philosophical excitement Indeed phenomena have there occurred of</td>\n",
       "      <td>[of, philosophical, excitement, indeed, phenomena, have, there, occurred, of]</td>\n",
       "      <td>[of, philosophical, excitement, indeed, phenomena, have, there, occurred, of]</td>\n",
       "      <td>[philosophical, excitement, indeed, phenomena, occurred]</td>\n",
       "      <td>[philosoph, excit, inde, phenomena, occur]</td>\n",
       "      <td>[philosophical, excitement, indeed, phenomenon, occurred]</td>\n",
       "    </tr>\n",
       "    <tr>\n",
       "      <th>4</th>\n",
       "      <td>a nature so completely unexpected--so entirely novel--so utterly at</td>\n",
       "      <td>a nature so completely unexpectedso entirely novelso utterly at</td>\n",
       "      <td>[a, nature, so, completely, unexpectedso, entirely, novelso, utterly, at]</td>\n",
       "      <td>[a, nature, so, completely, unexpectedso, entirely, novelso, utterly, at]</td>\n",
       "      <td>[nature, completely, unexpectedso, entirely, novelso, utterly]</td>\n",
       "      <td>[natur, complet, unexpectedso, entir, novelso, utterli]</td>\n",
       "      <td>[nature, completely, unexpectedso, entirely, novelso, utterly]</td>\n",
       "    </tr>\n",
       "    <tr>\n",
       "      <th>5</th>\n",
       "      <td>variance with preconceived opinions--as to leave no doubt on my mind</td>\n",
       "      <td>variance with preconceived opinionsas to leave no doubt on my mind</td>\n",
       "      <td>[variance, with, preconceived, opinionsas, to, leave, no, doubt, on, my, mind]</td>\n",
       "      <td>[variance, with, preconceived, opinionsas, to, leave, no, doubt, on, my, mind]</td>\n",
       "      <td>[variance, preconceived, opinionsas, leave, doubt, mind]</td>\n",
       "      <td>[varianc, preconceiv, opinionsa, leav, doubt, mind]</td>\n",
       "      <td>[variance, preconceived, opinionsas, leave, doubt, mind]</td>\n",
       "    </tr>\n",
       "  </tbody>\n",
       "</table>\n",
       "</div>"
      ],
      "text/plain": [
       "                                                                book_data  \\\n",
       "0                     THE UNPARALLELED ADVENTURES OF ONE HANS PFAALL (*1)   \n",
       "2  BY late accounts from Rotterdam, that city seems to be in a high state   \n",
       "3   of philosophical excitement. Indeed, phenomena have there occurred of   \n",
       "4     a nature so completely unexpected--so entirely novel--so utterly at   \n",
       "5    variance with preconceived opinions--as to leave no doubt on my mind   \n",
       "\n",
       "                                                         book_data_clean  \\\n",
       "0                       THE UNPARALLELED ADVENTURES OF ONE HANS PFAALL 1   \n",
       "2  BY late accounts from Rotterdam that city seems to be in a high state   \n",
       "3    of philosophical excitement Indeed phenomena have there occurred of   \n",
       "4        a nature so completely unexpectedso entirely novelso utterly at   \n",
       "5     variance with preconceived opinionsas to leave no doubt on my mind   \n",
       "\n",
       "                                                                    book_data_tokenized  \\\n",
       "0                             [the, unparalleled, adventures, of, one, hans, pfaall, 1]   \n",
       "2  [by, late, accounts, from, rotterdam, that, city, seems, to, be, in, a, high, state]   \n",
       "3         [of, philosophical, excitement, indeed, phenomena, have, there, occurred, of]   \n",
       "4             [a, nature, so, completely, unexpectedso, entirely, novelso, utterly, at]   \n",
       "5        [variance, with, preconceived, opinionsas, to, leave, no, doubt, on, my, mind]   \n",
       "\n",
       "                                                               book_data_tokenized_nlkt  \\\n",
       "0                             [the, unparalleled, adventures, of, one, hans, pfaall, 1]   \n",
       "2  [by, late, accounts, from, rotterdam, that, city, seems, to, be, in, a, high, state]   \n",
       "3         [of, philosophical, excitement, indeed, phenomena, have, there, occurred, of]   \n",
       "4             [a, nature, so, completely, unexpectedso, entirely, novelso, utterly, at]   \n",
       "5        [variance, with, preconceived, opinionsas, to, leave, no, doubt, on, my, mind]   \n",
       "\n",
       "                                                 book_data_nostop  \\\n",
       "0                [unparalleled, adventures, one, hans, pfaall, 1]   \n",
       "2           [late, accounts, rotterdam, city, seems, high, state]   \n",
       "3        [philosophical, excitement, indeed, phenomena, occurred]   \n",
       "4  [nature, completely, unexpectedso, entirely, novelso, utterly]   \n",
       "5        [variance, preconceived, opinionsas, leave, doubt, mind]   \n",
       "\n",
       "                                         book_data_stemmed  \\\n",
       "0              [unparallel, adventur, one, han, pfaall, 1]   \n",
       "2      [late, account, rotterdam, citi, seem, high, state]   \n",
       "3               [philosoph, excit, inde, phenomena, occur]   \n",
       "4  [natur, complet, unexpectedso, entir, novelso, utterli]   \n",
       "5      [varianc, preconceiv, opinionsa, leav, doubt, mind]   \n",
       "\n",
       "                                             book_data_lemmatized  \n",
       "0                  [unparalleled, adventure, one, han, pfaall, 1]  \n",
       "2            [late, account, rotterdam, city, seems, high, state]  \n",
       "3       [philosophical, excitement, indeed, phenomenon, occurred]  \n",
       "4  [nature, completely, unexpectedso, entirely, novelso, utterly]  \n",
       "5        [variance, preconceived, opinionsas, leave, doubt, mind]  "
      ]
     },
     "execution_count": 254,
     "metadata": {},
     "output_type": "execute_result"
    }
   ],
   "source": [
    "def lemmatizing(tokenized_text):\n",
    "    text = [wn.lemmatize(word) for word in tokenized_text]\n",
    "    return text\n",
    "\n",
    "fullCorpus['book_data_lemmatized'] = fullCorpus['book_data_nostop'].apply(lambda x: lemmatizing(x))\n",
    "\n",
    "fullCorpus.head()"
   ]
  },
  {
   "cell_type": "code",
   "execution_count": 255,
   "metadata": {},
   "outputs": [],
   "source": [
    "# All Function at one place \n",
    "def clean_text(text):\n",
    "    text = \"\".join([word.lower() for word in text if word not in string.punctuation])\n",
    "    nonPunct = re.compile('.*[A-Za-z].*')\n",
    " #   test = [w for w in text if nonPunct.match(w)]\n",
    "    tokens = re.split('\\W+', text)\n",
    "    text = [ps.stem(word) for word in tokens if word not in stopword]\n",
    "    text = [word for word in text if nonPunct.match(word)]\n",
    "    return text"
   ]
  },
  {
   "cell_type": "code",
   "execution_count": 256,
   "metadata": {},
   "outputs": [
    {
     "name": "stdout",
     "output_type": "stream",
     "text": [
      "(7107, 6532)\n",
      "['11th', '12th', '13th', '14th', '15th', '16th', '17th', '18th', '19th']\n"
     ]
    }
   ],
   "source": [
    "from sklearn.feature_extraction.text import CountVectorizer\n",
    "\n",
    "#count_vect contains all of the values of the text after lower case, removing punctation, and stemming, removing stop words\n",
    "count_vect = CountVectorizer(analyzer=clean_text)\n",
    "#X_count contains the frequency matrix of each word\n",
    "X_counts = count_vect.fit_transform(fullCorpus['book_data'])\n",
    "\n",
    "print(X_counts.shape)  # How many rows are present and How many columns are present , i.e. How many unique word we have \n",
    "print(count_vect.get_feature_names()[1:10]) # All the Unique words "
   ]
  },
  {
   "cell_type": "markdown",
   "metadata": {},
   "source": [
    "##### 2. How many total unique words are in the corpus?  "
   ]
  },
  {
   "cell_type": "code",
   "execution_count": 257,
   "metadata": {},
   "outputs": [
    {
     "name": "stdout",
     "output_type": "stream",
     "text": [
      "After removing stop words and puncutation, there are 6532 unique words in the corpus.\n"
     ]
    }
   ],
   "source": [
    "uniq_words = set(count_vect.get_feature_names())\n",
    "print('After removing stop words and puncutation, there are ' + str(len(uniq_words)) + ' unique words in the corpus.')"
   ]
  },
  {
   "cell_type": "code",
   "execution_count": 258,
   "metadata": {},
   "outputs": [],
   "source": [
    "# Building the Document Terms Matrix with Column as Unique word and row number is the row in book. \n",
    "X_count_df= pd.DataFrame(X_counts.toarray())"
   ]
  },
  {
   "cell_type": "code",
   "execution_count": 259,
   "metadata": {},
   "outputs": [],
   "source": [
    "t= count_vect.fit_transform(fullCorpus['book_data']).toarray().ravel() "
   ]
  },
  {
   "cell_type": "code",
   "execution_count": 260,
   "metadata": {},
   "outputs": [],
   "source": [
    "#t1 = t / float(t.max())"
   ]
  },
  {
   "cell_type": "code",
   "execution_count": 261,
   "metadata": {},
   "outputs": [],
   "source": [
    "#print(t[1:20])\n",
    "#print(t1[1:20])"
   ]
  },
  {
   "cell_type": "code",
   "execution_count": 262,
   "metadata": {},
   "outputs": [
    {
     "data": {
      "text/html": [
       "<div>\n",
       "<style scoped>\n",
       "    .dataframe tbody tr th:only-of-type {\n",
       "        vertical-align: middle;\n",
       "    }\n",
       "\n",
       "    .dataframe tbody tr th {\n",
       "        vertical-align: top;\n",
       "    }\n",
       "\n",
       "    .dataframe thead th {\n",
       "        text-align: right;\n",
       "    }\n",
       "</style>\n",
       "<table border=\"1\" class=\"dataframe\">\n",
       "  <thead>\n",
       "    <tr style=\"text-align: right;\">\n",
       "      <th></th>\n",
       "      <th>0</th>\n",
       "      <th>1</th>\n",
       "      <th>2</th>\n",
       "      <th>3</th>\n",
       "      <th>4</th>\n",
       "      <th>5</th>\n",
       "      <th>6</th>\n",
       "      <th>7</th>\n",
       "      <th>8</th>\n",
       "      <th>9</th>\n",
       "      <th>...</th>\n",
       "      <th>6522</th>\n",
       "      <th>6523</th>\n",
       "      <th>6524</th>\n",
       "      <th>6525</th>\n",
       "      <th>6526</th>\n",
       "      <th>6527</th>\n",
       "      <th>6528</th>\n",
       "      <th>6529</th>\n",
       "      <th>6530</th>\n",
       "      <th>6531</th>\n",
       "    </tr>\n",
       "  </thead>\n",
       "  <tbody>\n",
       "    <tr>\n",
       "      <th>0</th>\n",
       "      <td>0</td>\n",
       "      <td>0</td>\n",
       "      <td>0</td>\n",
       "      <td>0</td>\n",
       "      <td>0</td>\n",
       "      <td>0</td>\n",
       "      <td>0</td>\n",
       "      <td>0</td>\n",
       "      <td>0</td>\n",
       "      <td>0</td>\n",
       "      <td>...</td>\n",
       "      <td>0</td>\n",
       "      <td>0</td>\n",
       "      <td>0</td>\n",
       "      <td>0</td>\n",
       "      <td>0</td>\n",
       "      <td>0</td>\n",
       "      <td>0</td>\n",
       "      <td>0</td>\n",
       "      <td>0</td>\n",
       "      <td>0</td>\n",
       "    </tr>\n",
       "    <tr>\n",
       "      <th>1</th>\n",
       "      <td>0</td>\n",
       "      <td>0</td>\n",
       "      <td>0</td>\n",
       "      <td>0</td>\n",
       "      <td>0</td>\n",
       "      <td>0</td>\n",
       "      <td>0</td>\n",
       "      <td>0</td>\n",
       "      <td>0</td>\n",
       "      <td>0</td>\n",
       "      <td>...</td>\n",
       "      <td>0</td>\n",
       "      <td>0</td>\n",
       "      <td>0</td>\n",
       "      <td>0</td>\n",
       "      <td>0</td>\n",
       "      <td>0</td>\n",
       "      <td>0</td>\n",
       "      <td>0</td>\n",
       "      <td>0</td>\n",
       "      <td>0</td>\n",
       "    </tr>\n",
       "    <tr>\n",
       "      <th>2</th>\n",
       "      <td>0</td>\n",
       "      <td>0</td>\n",
       "      <td>0</td>\n",
       "      <td>0</td>\n",
       "      <td>0</td>\n",
       "      <td>0</td>\n",
       "      <td>0</td>\n",
       "      <td>0</td>\n",
       "      <td>0</td>\n",
       "      <td>0</td>\n",
       "      <td>...</td>\n",
       "      <td>0</td>\n",
       "      <td>0</td>\n",
       "      <td>0</td>\n",
       "      <td>0</td>\n",
       "      <td>0</td>\n",
       "      <td>0</td>\n",
       "      <td>0</td>\n",
       "      <td>0</td>\n",
       "      <td>0</td>\n",
       "      <td>0</td>\n",
       "    </tr>\n",
       "    <tr>\n",
       "      <th>3</th>\n",
       "      <td>0</td>\n",
       "      <td>0</td>\n",
       "      <td>0</td>\n",
       "      <td>0</td>\n",
       "      <td>0</td>\n",
       "      <td>0</td>\n",
       "      <td>0</td>\n",
       "      <td>0</td>\n",
       "      <td>0</td>\n",
       "      <td>0</td>\n",
       "      <td>...</td>\n",
       "      <td>0</td>\n",
       "      <td>0</td>\n",
       "      <td>0</td>\n",
       "      <td>0</td>\n",
       "      <td>0</td>\n",
       "      <td>0</td>\n",
       "      <td>0</td>\n",
       "      <td>0</td>\n",
       "      <td>0</td>\n",
       "      <td>0</td>\n",
       "    </tr>\n",
       "    <tr>\n",
       "      <th>4</th>\n",
       "      <td>0</td>\n",
       "      <td>0</td>\n",
       "      <td>0</td>\n",
       "      <td>0</td>\n",
       "      <td>0</td>\n",
       "      <td>0</td>\n",
       "      <td>0</td>\n",
       "      <td>0</td>\n",
       "      <td>0</td>\n",
       "      <td>0</td>\n",
       "      <td>...</td>\n",
       "      <td>0</td>\n",
       "      <td>0</td>\n",
       "      <td>0</td>\n",
       "      <td>0</td>\n",
       "      <td>0</td>\n",
       "      <td>0</td>\n",
       "      <td>0</td>\n",
       "      <td>0</td>\n",
       "      <td>0</td>\n",
       "      <td>0</td>\n",
       "    </tr>\n",
       "  </tbody>\n",
       "</table>\n",
       "<p>5 rows × 6532 columns</p>\n",
       "</div>"
      ],
      "text/plain": [
       "   0     1     2     3     4     5     6     7     8     9     ...  6522  \\\n",
       "0     0     0     0     0     0     0     0     0     0     0  ...     0   \n",
       "1     0     0     0     0     0     0     0     0     0     0  ...     0   \n",
       "2     0     0     0     0     0     0     0     0     0     0  ...     0   \n",
       "3     0     0     0     0     0     0     0     0     0     0  ...     0   \n",
       "4     0     0     0     0     0     0     0     0     0     0  ...     0   \n",
       "\n",
       "   6523  6524  6525  6526  6527  6528  6529  6530  6531  \n",
       "0     0     0     0     0     0     0     0     0     0  \n",
       "1     0     0     0     0     0     0     0     0     0  \n",
       "2     0     0     0     0     0     0     0     0     0  \n",
       "3     0     0     0     0     0     0     0     0     0  \n",
       "4     0     0     0     0     0     0     0     0     0  \n",
       "\n",
       "[5 rows x 6532 columns]"
      ]
     },
     "execution_count": 262,
     "metadata": {},
     "output_type": "execute_result"
    }
   ],
   "source": [
    "#columns are numbers that represent unique words\n",
    "X_count_df.head()"
   ]
  },
  {
   "cell_type": "code",
   "execution_count": 263,
   "metadata": {},
   "outputs": [
    {
     "name": "stdout",
     "output_type": "stream",
     "text": [
      "['adjust', 'admir', 'admiss', 'admit', 'admitt', 'adolph', 'adopt', 'ador', 'adrift', 'aduanturi', 'advanc', 'advantag', 'advent', 'adventiti', 'adventur', 'advert', 'advertis', 'advertisementabout', 'advertnot', 'advic', 'advis', 'advou', 'aerial', 'aeronaut', 'aerost', 'afar', 'affair', 'affairat', 'affairbut', 'affect', 'affectedli', 'affection', 'affianc', 'affidavit', 'affin', 'affix', 'afford', 'affright', 'afloat', 'afraid', 'africa', 'african', 'aft', 'afternoon', 'afterward', 'age', 'agei', 'agenc', 'agent', 'aghast', 'agil', 'agit', 'ago', 'agog', 'agoni', 'agonywer', 'agre', 'agreeabl', 'agreement', 'agu', 'ah', 'ahi', 'ai', 'aid', 'aidesdecamp', 'ail', 'aim', 'ainsworth', 'aint', 'ainth', 'air', 'airrightli', 'airtight', 'airwa', 'ajar', 'akimbo', 'ala', 'alarm', 'alarmingli', 'albatrossat', 'alberto', 'ale', 'alecak', 'alexand', 'alexandr', 'alfonzo', 'alger', 'alien', 'alight', 'aliment', 'aliv', 'alla', 'allan', 'alland', 'allay', 'allbi', 'alley', 'allh', 'allif', 'allnebb']\n"
     ]
    },
    {
     "data": {
      "text/plain": [
       "6532"
      ]
     },
     "execution_count": 263,
     "metadata": {},
     "output_type": "execute_result"
    }
   ],
   "source": [
    "# identifying column names\n",
    "print(count_vect.get_feature_names()[100:200])\n",
    "len(count_vect.get_feature_names())"
   ]
  },
  {
   "cell_type": "code",
   "execution_count": 264,
   "metadata": {},
   "outputs": [
    {
     "data": {
      "text/html": [
       "<div>\n",
       "<style scoped>\n",
       "    .dataframe tbody tr th:only-of-type {\n",
       "        vertical-align: middle;\n",
       "    }\n",
       "\n",
       "    .dataframe tbody tr th {\n",
       "        vertical-align: top;\n",
       "    }\n",
       "\n",
       "    .dataframe thead th {\n",
       "        text-align: right;\n",
       "    }\n",
       "</style>\n",
       "<table border=\"1\" class=\"dataframe\">\n",
       "  <thead>\n",
       "    <tr style=\"text-align: right;\">\n",
       "      <th></th>\n",
       "      <th>10th</th>\n",
       "      <th>11th</th>\n",
       "      <th>12th</th>\n",
       "      <th>13th</th>\n",
       "      <th>14th</th>\n",
       "      <th>15th</th>\n",
       "      <th>16th</th>\n",
       "      <th>17th</th>\n",
       "      <th>18th</th>\n",
       "      <th>19th</th>\n",
       "      <th>...</th>\n",
       "      <th>zealou</th>\n",
       "      <th>zenith</th>\n",
       "      <th>zodiac</th>\n",
       "      <th>zone</th>\n",
       "      <th>zufal</th>\n",
       "      <th>zusammen</th>\n",
       "      <th>ærial</th>\n",
       "      <th>æronaut</th>\n",
       "      <th>ærostat</th>\n",
       "      <th>émeut</th>\n",
       "    </tr>\n",
       "  </thead>\n",
       "  <tbody>\n",
       "    <tr>\n",
       "      <th>0</th>\n",
       "      <td>0</td>\n",
       "      <td>0</td>\n",
       "      <td>0</td>\n",
       "      <td>0</td>\n",
       "      <td>0</td>\n",
       "      <td>0</td>\n",
       "      <td>0</td>\n",
       "      <td>0</td>\n",
       "      <td>0</td>\n",
       "      <td>0</td>\n",
       "      <td>...</td>\n",
       "      <td>0</td>\n",
       "      <td>0</td>\n",
       "      <td>0</td>\n",
       "      <td>0</td>\n",
       "      <td>0</td>\n",
       "      <td>0</td>\n",
       "      <td>0</td>\n",
       "      <td>0</td>\n",
       "      <td>0</td>\n",
       "      <td>0</td>\n",
       "    </tr>\n",
       "    <tr>\n",
       "      <th>1</th>\n",
       "      <td>0</td>\n",
       "      <td>0</td>\n",
       "      <td>0</td>\n",
       "      <td>0</td>\n",
       "      <td>0</td>\n",
       "      <td>0</td>\n",
       "      <td>0</td>\n",
       "      <td>0</td>\n",
       "      <td>0</td>\n",
       "      <td>0</td>\n",
       "      <td>...</td>\n",
       "      <td>0</td>\n",
       "      <td>0</td>\n",
       "      <td>0</td>\n",
       "      <td>0</td>\n",
       "      <td>0</td>\n",
       "      <td>0</td>\n",
       "      <td>0</td>\n",
       "      <td>0</td>\n",
       "      <td>0</td>\n",
       "      <td>0</td>\n",
       "    </tr>\n",
       "    <tr>\n",
       "      <th>2</th>\n",
       "      <td>0</td>\n",
       "      <td>0</td>\n",
       "      <td>0</td>\n",
       "      <td>0</td>\n",
       "      <td>0</td>\n",
       "      <td>0</td>\n",
       "      <td>0</td>\n",
       "      <td>0</td>\n",
       "      <td>0</td>\n",
       "      <td>0</td>\n",
       "      <td>...</td>\n",
       "      <td>0</td>\n",
       "      <td>0</td>\n",
       "      <td>0</td>\n",
       "      <td>0</td>\n",
       "      <td>0</td>\n",
       "      <td>0</td>\n",
       "      <td>0</td>\n",
       "      <td>0</td>\n",
       "      <td>0</td>\n",
       "      <td>0</td>\n",
       "    </tr>\n",
       "    <tr>\n",
       "      <th>3</th>\n",
       "      <td>0</td>\n",
       "      <td>0</td>\n",
       "      <td>0</td>\n",
       "      <td>0</td>\n",
       "      <td>0</td>\n",
       "      <td>0</td>\n",
       "      <td>0</td>\n",
       "      <td>0</td>\n",
       "      <td>0</td>\n",
       "      <td>0</td>\n",
       "      <td>...</td>\n",
       "      <td>0</td>\n",
       "      <td>0</td>\n",
       "      <td>0</td>\n",
       "      <td>0</td>\n",
       "      <td>0</td>\n",
       "      <td>0</td>\n",
       "      <td>0</td>\n",
       "      <td>0</td>\n",
       "      <td>0</td>\n",
       "      <td>0</td>\n",
       "    </tr>\n",
       "  </tbody>\n",
       "</table>\n",
       "<p>4 rows × 6532 columns</p>\n",
       "</div>"
      ],
      "text/plain": [
       "   10th  11th  12th  13th  14th  15th  16th  17th  18th  19th  ...  zealou  \\\n",
       "0     0     0     0     0     0     0     0     0     0     0  ...       0   \n",
       "1     0     0     0     0     0     0     0     0     0     0  ...       0   \n",
       "2     0     0     0     0     0     0     0     0     0     0  ...       0   \n",
       "3     0     0     0     0     0     0     0     0     0     0  ...       0   \n",
       "\n",
       "   zenith  zodiac  zone  zufal  zusammen  ærial  æronaut  ærostat  émeut  \n",
       "0       0       0     0      0         0      0        0        0      0  \n",
       "1       0       0     0      0         0      0        0        0      0  \n",
       "2       0       0     0      0         0      0        0        0      0  \n",
       "3       0       0     0      0         0      0        0        0      0  \n",
       "\n",
       "[4 rows x 6532 columns]"
      ]
     },
     "execution_count": 264,
     "metadata": {},
     "output_type": "execute_result"
    }
   ],
   "source": [
    "# Add columnname to Features / Terms \n",
    "X_count_df.columns = count_vect.get_feature_names()\n",
    "X_count_df.head(4)\n",
    "#row represents line in book\n",
    "#matrix counts number of occurances of word in that row"
   ]
  },
  {
   "cell_type": "code",
   "execution_count": 265,
   "metadata": {},
   "outputs": [
    {
     "data": {
      "text/html": [
       "<div>\n",
       "<style scoped>\n",
       "    .dataframe tbody tr th:only-of-type {\n",
       "        vertical-align: middle;\n",
       "    }\n",
       "\n",
       "    .dataframe tbody tr th {\n",
       "        vertical-align: top;\n",
       "    }\n",
       "\n",
       "    .dataframe thead th {\n",
       "        text-align: right;\n",
       "    }\n",
       "</style>\n",
       "<table border=\"1\" class=\"dataframe\">\n",
       "  <thead>\n",
       "    <tr style=\"text-align: right;\">\n",
       "      <th></th>\n",
       "      <th>Terms</th>\n",
       "      <th>Count</th>\n",
       "    </tr>\n",
       "  </thead>\n",
       "  <tbody>\n",
       "    <tr>\n",
       "      <th>0</th>\n",
       "      <td>10th</td>\n",
       "      <td>1</td>\n",
       "    </tr>\n",
       "    <tr>\n",
       "      <th>1</th>\n",
       "      <td>11th</td>\n",
       "      <td>1</td>\n",
       "    </tr>\n",
       "    <tr>\n",
       "      <th>2</th>\n",
       "      <td>12th</td>\n",
       "      <td>1</td>\n",
       "    </tr>\n",
       "    <tr>\n",
       "      <th>3</th>\n",
       "      <td>13th</td>\n",
       "      <td>1</td>\n",
       "    </tr>\n",
       "    <tr>\n",
       "      <th>4</th>\n",
       "      <td>14th</td>\n",
       "      <td>1</td>\n",
       "    </tr>\n",
       "  </tbody>\n",
       "</table>\n",
       "</div>"
      ],
      "text/plain": [
       "  Terms  Count\n",
       "0  10th      1\n",
       "1  11th      1\n",
       "2  12th      1\n",
       "3  13th      1\n",
       "4  14th      1"
      ]
     },
     "execution_count": 265,
     "metadata": {},
     "output_type": "execute_result"
    }
   ],
   "source": [
    "# print(count_vect.get_feature_names()[1:5])\n",
    "# print(X_counts.toarray()[1:5])\n",
    "# Get the Term frq in Dataframe \n",
    "term = count_vect.get_feature_names()\n",
    "count = X_counts.toarray().sum(axis=0)\n",
    "book_data_tfdf = pd.DataFrame({'Terms': term,'Count':count })\n",
    "book_data_tfdf = book_data_tfdf[book_data_tfdf.Terms!=\"\"]\n",
    "book_data_tfdf.head()"
   ]
  },
  {
   "cell_type": "code",
   "execution_count": 266,
   "metadata": {},
   "outputs": [],
   "source": [
    "# normalize count for each term by the maximum count \n",
    "#book_data_tfdf['Norm_Count'] = book_data_tfdf['Count']/book_data_tfdf['Count']/book_data_tfdf['Count'].max()\n",
    "\n",
    "# To calculate the Relative Frequency - frequency of word divided by total word count\n",
    "total_count = book_data_tfdf['Count'].sum()\n",
    "book_data_tfdf['Rel_Freq'] = book_data_tfdf['Count']/ total_count"
   ]
  },
  {
   "cell_type": "code",
   "execution_count": 267,
   "metadata": {},
   "outputs": [
    {
     "data": {
      "text/html": [
       "<div>\n",
       "<style scoped>\n",
       "    .dataframe tbody tr th:only-of-type {\n",
       "        vertical-align: middle;\n",
       "    }\n",
       "\n",
       "    .dataframe tbody tr th {\n",
       "        vertical-align: top;\n",
       "    }\n",
       "\n",
       "    .dataframe thead th {\n",
       "        text-align: right;\n",
       "    }\n",
       "</style>\n",
       "<table border=\"1\" class=\"dataframe\">\n",
       "  <thead>\n",
       "    <tr style=\"text-align: right;\">\n",
       "      <th></th>\n",
       "      <th>Terms</th>\n",
       "      <th>Count</th>\n",
       "      <th>Rel_Freq</th>\n",
       "    </tr>\n",
       "  </thead>\n",
       "  <tbody>\n",
       "    <tr>\n",
       "      <th>3987</th>\n",
       "      <td>one</td>\n",
       "      <td>264</td>\n",
       "      <td>0.006975</td>\n",
       "    </tr>\n",
       "    <tr>\n",
       "      <th>5822</th>\n",
       "      <td>time</td>\n",
       "      <td>159</td>\n",
       "      <td>0.004201</td>\n",
       "    </tr>\n",
       "    <tr>\n",
       "      <th>2306</th>\n",
       "      <td>found</td>\n",
       "      <td>155</td>\n",
       "      <td>0.004095</td>\n",
       "    </tr>\n",
       "    <tr>\n",
       "      <th>4986</th>\n",
       "      <td>say</td>\n",
       "      <td>124</td>\n",
       "      <td>0.003276</td>\n",
       "    </tr>\n",
       "    <tr>\n",
       "      <th>1954</th>\n",
       "      <td>even</td>\n",
       "      <td>115</td>\n",
       "      <td>0.003038</td>\n",
       "    </tr>\n",
       "    <tr>\n",
       "      <th>299</th>\n",
       "      <td>appear</td>\n",
       "      <td>114</td>\n",
       "      <td>0.003012</td>\n",
       "    </tr>\n",
       "    <tr>\n",
       "      <th>637</th>\n",
       "      <td>bodi</td>\n",
       "      <td>112</td>\n",
       "      <td>0.002959</td>\n",
       "    </tr>\n",
       "    <tr>\n",
       "      <th>2187</th>\n",
       "      <td>first</td>\n",
       "      <td>112</td>\n",
       "      <td>0.002959</td>\n",
       "    </tr>\n",
       "    <tr>\n",
       "      <th>1348</th>\n",
       "      <td>day</td>\n",
       "      <td>110</td>\n",
       "      <td>0.002906</td>\n",
       "    </tr>\n",
       "    <tr>\n",
       "      <th>5989</th>\n",
       "      <td>two</td>\n",
       "      <td>110</td>\n",
       "      <td>0.002906</td>\n",
       "    </tr>\n",
       "  </tbody>\n",
       "</table>\n",
       "</div>"
      ],
      "text/plain": [
       "       Terms  Count  Rel_Freq\n",
       "3987     one    264  0.006975\n",
       "5822    time    159  0.004201\n",
       "2306   found    155  0.004095\n",
       "4986     say    124  0.003276\n",
       "1954    even    115  0.003038\n",
       "299   appear    114  0.003012\n",
       "637     bodi    112  0.002959\n",
       "2187   first    112  0.002959\n",
       "1348     day    110  0.002906\n",
       "5989     two    110  0.002906"
      ]
     },
     "execution_count": 267,
     "metadata": {},
     "output_type": "execute_result"
    }
   ],
   "source": [
    "book_data_tfdf.sort_values(by=['Count'],ascending=False,inplace=True)\n",
    "book_data_tfdf.head(10)"
   ]
  },
  {
   "cell_type": "code",
   "execution_count": 268,
   "metadata": {
    "scrolled": true
   },
   "outputs": [],
   "source": [
    "# d = {Value: Count/total_count for Value in book_data_tfdf.Terms if (Value!='') and (bool(re.search('[A-Za-z]+', Value))==True) for Count in book_data_tfdf.Rel_Freq}\n",
    "d = {Value:Count for Value in book_data_tfdf.Terms for Count in book_data_tfdf.Rel_Freq }\n",
    "#building a dictionary where words are the key and the value is the related frequency"
   ]
  },
  {
   "cell_type": "code",
   "execution_count": 269,
   "metadata": {},
   "outputs": [],
   "source": [
    "#type(d)\n",
    "#sorted(d.values())"
   ]
  },
  {
   "cell_type": "code",
   "execution_count": 270,
   "metadata": {},
   "outputs": [
    {
     "data": {
      "image/png": "[encoded data removed]",
      "text/plain": [
       "<Figure size 576x576 with 1 Axes>"
      ]
     },
     "metadata": {
      "needs_background": "light"
     },
     "output_type": "display_data"
    }
   ],
   "source": [
    "# pd.DataFrame({'Terms': term,'Count':count })\n",
    "\n",
    "wordcloud = WordCloud(width = 800, height = 800, \n",
    "                background_color ='white', \n",
    "                stopwords = stopword, \n",
    "                min_font_size = 10).generate_from_frequencies(d)\n",
    "  \n",
    "# plot the WordCloud image                        \n",
    "plt.figure(figsize = (8, 8), facecolor = None) \n",
    "plt.imshow(wordcloud) \n",
    "plt.axis(\"off\") \n",
    "plt.tight_layout(pad = 0) \n",
    "  \n",
    "plt.show() "
   ]
  },
  {
   "cell_type": "markdown",
   "metadata": {},
   "source": [
    "The wordcloud above displays more frequency words in the corpus as being a larger size.  The words 'one,' 'time,' 'found,' and 'say' are very frequent."
   ]
  },
  {
   "cell_type": "code",
   "execution_count": 271,
   "metadata": {},
   "outputs": [
    {
     "data": {
      "text/html": [
       "<div>\n",
       "<style scoped>\n",
       "    .dataframe tbody tr th:only-of-type {\n",
       "        vertical-align: middle;\n",
       "    }\n",
       "\n",
       "    .dataframe tbody tr th {\n",
       "        vertical-align: top;\n",
       "    }\n",
       "\n",
       "    .dataframe thead th {\n",
       "        text-align: right;\n",
       "    }\n",
       "</style>\n",
       "<table border=\"1\" class=\"dataframe\">\n",
       "  <thead>\n",
       "    <tr style=\"text-align: right;\">\n",
       "      <th></th>\n",
       "      <th>Terms</th>\n",
       "      <th>Count</th>\n",
       "      <th>Rel_Freq</th>\n",
       "    </tr>\n",
       "  </thead>\n",
       "  <tbody>\n",
       "    <tr>\n",
       "      <th>3987</th>\n",
       "      <td>one</td>\n",
       "      <td>264</td>\n",
       "      <td>0.006975</td>\n",
       "    </tr>\n",
       "    <tr>\n",
       "      <th>5822</th>\n",
       "      <td>time</td>\n",
       "      <td>159</td>\n",
       "      <td>0.004201</td>\n",
       "    </tr>\n",
       "    <tr>\n",
       "      <th>2306</th>\n",
       "      <td>found</td>\n",
       "      <td>155</td>\n",
       "      <td>0.004095</td>\n",
       "    </tr>\n",
       "    <tr>\n",
       "      <th>4986</th>\n",
       "      <td>say</td>\n",
       "      <td>124</td>\n",
       "      <td>0.003276</td>\n",
       "    </tr>\n",
       "    <tr>\n",
       "      <th>1954</th>\n",
       "      <td>even</td>\n",
       "      <td>115</td>\n",
       "      <td>0.003038</td>\n",
       "    </tr>\n",
       "    <tr>\n",
       "      <th>299</th>\n",
       "      <td>appear</td>\n",
       "      <td>114</td>\n",
       "      <td>0.003012</td>\n",
       "    </tr>\n",
       "    <tr>\n",
       "      <th>637</th>\n",
       "      <td>bodi</td>\n",
       "      <td>112</td>\n",
       "      <td>0.002959</td>\n",
       "    </tr>\n",
       "    <tr>\n",
       "      <th>2187</th>\n",
       "      <td>first</td>\n",
       "      <td>112</td>\n",
       "      <td>0.002959</td>\n",
       "    </tr>\n",
       "    <tr>\n",
       "      <th>1348</th>\n",
       "      <td>day</td>\n",
       "      <td>110</td>\n",
       "      <td>0.002906</td>\n",
       "    </tr>\n",
       "    <tr>\n",
       "      <th>5989</th>\n",
       "      <td>two</td>\n",
       "      <td>110</td>\n",
       "      <td>0.002906</td>\n",
       "    </tr>\n",
       "  </tbody>\n",
       "</table>\n",
       "</div>"
      ],
      "text/plain": [
       "       Terms  Count  Rel_Freq\n",
       "3987     one    264  0.006975\n",
       "5822    time    159  0.004201\n",
       "2306   found    155  0.004095\n",
       "4986     say    124  0.003276\n",
       "1954    even    115  0.003038\n",
       "299   appear    114  0.003012\n",
       "637     bodi    112  0.002959\n",
       "2187   first    112  0.002959\n",
       "1348     day    110  0.002906\n",
       "5989     two    110  0.002906"
      ]
     },
     "execution_count": 271,
     "metadata": {},
     "output_type": "execute_result"
    }
   ],
   "source": [
    "most_words = book_data_tfdf.head(200)\n",
    "#most_words = most_words.groupby('Count')\n",
    "most_words.head(10)"
   ]
  },
  {
   "cell_type": "markdown",
   "metadata": {},
   "source": [
    "##### 4. Identify the 200 highest frequency words in this corpus. \n",
    "##### 5. Create a graph that shows the relative frequency of these 200 words. "
   ]
  },
  {
   "cell_type": "code",
   "execution_count": 272,
   "metadata": {},
   "outputs": [
    {
     "data": {
      "image/png": "[encoded data removed]",
      "text/plain": [
       "<Figure size 864x2664 with 1 Axes>"
      ]
     },
     "metadata": {
      "needs_background": "light"
     },
     "output_type": "display_data"
    }
   ],
   "source": [
    "#plot the top 200 words with the highest frequencies \n",
    "plt.xticks(rotation=90)\n",
    "\n",
    "plt.barh(range(len(most_words.Terms.tolist())),most_words.Count.tolist())\n",
    "plt.yticks(range(len(most_words.Terms.tolist())),most_words.Terms.tolist())\n",
    "\n",
    "plt.gca().invert_yaxis()\n",
    "fig = plt.gcf()\n",
    "fig.set_size_inches(12, 37, forward=True)\n",
    "plt.title(\"Top 200 Terms by Count\")\n",
    "\n",
    "plt.show()"
   ]
  },
  {
   "cell_type": "code",
   "execution_count": 273,
   "metadata": {},
   "outputs": [
    {
     "data": {
      "image/png": "[encoded data removed]",
      "text/plain": [
       "<Figure size 432x288 with 1 Axes>"
      ]
     },
     "metadata": {
      "needs_background": "light"
     },
     "output_type": "display_data"
    }
   ],
   "source": [
    "tokens = nltk.word_tokenize(raw)\n",
    "\n",
    "words = [w.lower() for w in tokens]\n",
    "words = [w.strip('_') for w in words]\n",
    "words = [w.strip('*') for w in words]\n",
    "nonPunct = re.compile('.*[A-Za-z].*')\n",
    "words = [w for w in words if nonPunct.match(w)]\n",
    "#remove stop words\n",
    "words = [word for word in words if word not in stopword]\n",
    "\n",
    "text = nltk.Text(words)\n",
    "\n",
    "text.dispersion_plot([\"one\", \"time\", \"balloon\", \"murder\", \"friend\",\"question\",\"eye\"])\n",
    "\n",
    "plt.show()"
   ]
  },
  {
   "cell_type": "markdown",
   "metadata": {},
   "source": [
    "The previous plot shows the locations of 5 of the 200 most frequent words in the corpus.  The words 'one' and 'time' are distributed almost uniformly throughout the corpus.  The word 'balloon' to is present largely at the beginning and end of the corpus.  Poe is known for writing frightening stories so it is not surprising that the word 'murder' would appear frequently.  The word 'friend' appears throughout the corpus as well."
   ]
  },
  {
   "cell_type": "code",
   "execution_count": 274,
   "metadata": {},
   "outputs": [
    {
     "data": {
      "text/plain": [
       "<matplotlib.axes._subplots.AxesSubplot at 0x27594234470>"
      ]
     },
     "execution_count": 274,
     "metadata": {},
     "output_type": "execute_result"
    },
    {
     "data": {
      "image/png": "[encoded data removed]",
      "text/plain": [
       "<Figure size 432x288 with 1 Axes>"
      ]
     },
     "metadata": {
      "needs_background": "light"
     },
     "output_type": "display_data"
    }
   ],
   "source": [
    "# ax = sn.boxplot(x=\"Terms\", y=\"Count\",data=book_data_tfdf, palette=\"Set3\")\n",
    "# plt.show()\n",
    "book_data_tfdf.boxplot(column=['Rel_Freq'], \n",
    "                       grid=False)"
   ]
  },
  {
   "cell_type": "markdown",
   "metadata": {},
   "source": [
    "50% of the words have a frequency less that 0.0005"
   ]
  },
  {
   "cell_type": "code",
   "execution_count": 275,
   "metadata": {},
   "outputs": [
    {
     "name": "stdout",
     "output_type": "stream",
     "text": [
      "The total number of words is 37848 and the total number of unique words is 6532\n"
     ]
    }
   ],
   "source": [
    "Total_word = len(book_data_tfdf.Terms)\n",
    "print('The total number of words is ' + str(total_count) + ' and the total number of unique words is ' + str(len(uniq_words)))"
   ]
  },
  {
   "cell_type": "code",
   "execution_count": 276,
   "metadata": {},
   "outputs": [
    {
     "data": {
      "text/plain": [
       "(3266.0, 18924.0)"
      ]
     },
     "execution_count": 276,
     "metadata": {},
     "output_type": "execute_result"
    }
   ],
   "source": [
    "half_total_word= Total_word/2\n",
    "half_total_count= total_count/2\n",
    "half_total_word, half_total_count"
   ]
  },
  {
   "cell_type": "code",
   "execution_count": 277,
   "metadata": {},
   "outputs": [],
   "source": [
    "#count back the most frequent words until reach 18,924, which is half of the total word count\n",
    "book_data_tfdf['CountBack'] = book_data_tfdf['Count']"
   ]
  },
  {
   "cell_type": "code",
   "execution_count": 278,
   "metadata": {},
   "outputs": [],
   "source": [
    "# .book_data_tfdf.iloc[0]['CountBack']\n",
    "# book_data_tfdf.Count.values[0] +  + book_data_tfdf.Count.values[1]  "
   ]
  },
  {
   "cell_type": "code",
   "execution_count": 279,
   "metadata": {},
   "outputs": [],
   "source": [
    "# Finding Count of all the words by adding pervious cell\n",
    "for i in range(1, len(book_data_tfdf.Terms)):\n",
    "    book_data_tfdf.CountBack.values[i] = book_data_tfdf.CountBack.values[i] + book_data_tfdf.CountBack.values[i-1]\n",
    "\n",
    "#book_data_tfdf.head(50)\n",
    "\n",
    "# book_data_tfdf[book_data_tfdf.Terms=='time'].Count"
   ]
  },
  {
   "cell_type": "code",
   "execution_count": 280,
   "metadata": {},
   "outputs": [
    {
     "name": "stdout",
     "output_type": "stream",
     "text": [
      "18924.0 word found in 483 terms of the whole corpus\n"
     ]
    },
    {
     "data": {
      "text/html": [
       "<div>\n",
       "<style scoped>\n",
       "    .dataframe tbody tr th:only-of-type {\n",
       "        vertical-align: middle;\n",
       "    }\n",
       "\n",
       "    .dataframe tbody tr th {\n",
       "        vertical-align: top;\n",
       "    }\n",
       "\n",
       "    .dataframe thead th {\n",
       "        text-align: right;\n",
       "    }\n",
       "</style>\n",
       "<table border=\"1\" class=\"dataframe\">\n",
       "  <thead>\n",
       "    <tr style=\"text-align: right;\">\n",
       "      <th></th>\n",
       "      <th>Terms</th>\n",
       "      <th>Count</th>\n",
       "      <th>Rel_Freq</th>\n",
       "      <th>CountBack</th>\n",
       "    </tr>\n",
       "  </thead>\n",
       "  <tbody>\n",
       "    <tr>\n",
       "      <th>2704</th>\n",
       "      <td>hesit</td>\n",
       "      <td>19</td>\n",
       "      <td>0.000502</td>\n",
       "      <td>18900</td>\n",
       "    </tr>\n",
       "    <tr>\n",
       "      <th>3716</th>\n",
       "      <td>mother</td>\n",
       "      <td>19</td>\n",
       "      <td>0.000502</td>\n",
       "      <td>18919</td>\n",
       "    </tr>\n",
       "    <tr>\n",
       "      <th>4025</th>\n",
       "      <td>other</td>\n",
       "      <td>19</td>\n",
       "      <td>0.000502</td>\n",
       "      <td>18938</td>\n",
       "    </tr>\n",
       "    <tr>\n",
       "      <th>4086</th>\n",
       "      <td>pain</td>\n",
       "      <td>19</td>\n",
       "      <td>0.000502</td>\n",
       "      <td>18957</td>\n",
       "    </tr>\n",
       "  </tbody>\n",
       "</table>\n",
       "</div>"
      ],
      "text/plain": [
       "       Terms  Count  Rel_Freq  CountBack\n",
       "2704   hesit     19  0.000502      18900\n",
       "3716  mother     19  0.000502      18919\n",
       "4025   other     19  0.000502      18938\n",
       "4086    pain     19  0.000502      18957"
      ]
     },
     "execution_count": 280,
     "metadata": {},
     "output_type": "execute_result"
    }
   ],
   "source": [
    "half_term = book_data_tfdf.Terms[book_data_tfdf.CountBack <=half_total_count]\n",
    "print('{} word found in {} terms of the whole corpus'.format(half_total_count,len(half_term)+1))\n",
    "\n",
    "book_data_tfdf[480:484]"
   ]
  },
  {
   "cell_type": "markdown",
   "metadata": {},
   "source": [
    "##### 3. Taking the most common words, how many unique words represent half of the total words in the corpus? \n",
    "#####  483 unique words represent half of the total words in the corpus"
   ]
  },
  {
   "cell_type": "code",
   "execution_count": 283,
   "metadata": {},
   "outputs": [
    {
     "name": "stdout",
     "output_type": "stream",
     "text": [
      "      Terms  Count  Rel_Freq  CountBack      zipf\n",
      "3987    one    264  0.006975        264  1.000000\n",
      "5822   time    159  0.004201        423  0.602273\n",
      "2306  found    155  0.004095        578  0.587121\n",
      "4986    say    124  0.003276        702  0.469697\n",
      "1954   even    115  0.003038        817  0.435606\n"
     ]
    },
    {
     "data": {
      "image/png": "[encoded data removed]",
      "text/plain": [
       "<Figure size 432x288 with 1 Axes>"
      ]
     },
     "metadata": {
      "needs_background": "light"
     },
     "output_type": "display_data"
    }
   ],
   "source": [
    "#Zipf's Law\n",
    "book_data_tfdf['zipf']=book_data_tfdf['Count']/264\n",
    "print(book_data_tfdf.head(5))\n",
    "x_vals = list(range(1, len(book_data_tfdf)+1))\n",
    "zipf = pd.DataFrame(x_vals)\n",
    "zipf.columns = ['num']\n",
    "zipf['zipf'] = 1/zipf['num']\n",
    "book_data_tfdf['rank'] = x_vals\n",
    "\n",
    "\n",
    "\n",
    "plt.scatter(x_vals, book_data_tfdf['zipf'], s=2, color='r', label=\"corpus\")\n",
    "plt.scatter(zipf['num'], zipf['zipf'], s=2, color='b', label=\"Zipf's Law\")\n",
    "plt.legend(loc='upper center', shadow=True, ncol=2)\n",
    "plt.title (\"Zipf's Law\")\n",
    "plt.show(block=True)"
   ]
  },
  {
   "cell_type": "code",
   "execution_count": 284,
   "metadata": {},
   "outputs": [
    {
     "data": {
      "image/png": "[encoded data removed]",
      "text/plain": [
       "<Figure size 432x288 with 1 Axes>"
      ]
     },
     "metadata": {
      "needs_background": "light"
     },
     "output_type": "display_data"
    }
   ],
   "source": [
    "\n",
    "plt.scatter(book_data_tfdf['rank'], book_data_tfdf['Count'] ,s=2, color='r', label=\"Freq\")\n",
    "plt.xscale('log')\n",
    "plt.yscale('log')\n",
    "plt.scatter(book_data_tfdf['rank'], book_data_tfdf['Count']*book_data_tfdf['rank'], s=2, color='b', label=\"Zipf's Law\")\n",
    "plt.legend(loc='upper center', shadow=True, ncol=2)\n",
    "plt.title (\"Zipf's Law\")\n",
    "plt.show(block=True)"
   ]
  },
  {
   "cell_type": "code",
   "execution_count": 285,
   "metadata": {},
   "outputs": [
    {
     "data": {
      "text/html": [
       "<div>\n",
       "<style scoped>\n",
       "    .dataframe tbody tr th:only-of-type {\n",
       "        vertical-align: middle;\n",
       "    }\n",
       "\n",
       "    .dataframe tbody tr th {\n",
       "        vertical-align: top;\n",
       "    }\n",
       "\n",
       "    .dataframe thead th {\n",
       "        text-align: right;\n",
       "    }\n",
       "</style>\n",
       "<table border=\"1\" class=\"dataframe\">\n",
       "  <thead>\n",
       "    <tr style=\"text-align: right;\">\n",
       "      <th></th>\n",
       "      <th>Terms</th>\n",
       "      <th>Count</th>\n",
       "      <th>Rel_Freq</th>\n",
       "      <th>CountBack</th>\n",
       "      <th>zipf</th>\n",
       "      <th>rank</th>\n",
       "    </tr>\n",
       "  </thead>\n",
       "  <tbody>\n",
       "    <tr>\n",
       "      <th>3987</th>\n",
       "      <td>one</td>\n",
       "      <td>264</td>\n",
       "      <td>0.006975</td>\n",
       "      <td>264</td>\n",
       "      <td>1.000000</td>\n",
       "      <td>1</td>\n",
       "    </tr>\n",
       "    <tr>\n",
       "      <th>5822</th>\n",
       "      <td>time</td>\n",
       "      <td>159</td>\n",
       "      <td>0.004201</td>\n",
       "      <td>423</td>\n",
       "      <td>0.602273</td>\n",
       "      <td>2</td>\n",
       "    </tr>\n",
       "    <tr>\n",
       "      <th>2306</th>\n",
       "      <td>found</td>\n",
       "      <td>155</td>\n",
       "      <td>0.004095</td>\n",
       "      <td>578</td>\n",
       "      <td>0.587121</td>\n",
       "      <td>3</td>\n",
       "    </tr>\n",
       "    <tr>\n",
       "      <th>4986</th>\n",
       "      <td>say</td>\n",
       "      <td>124</td>\n",
       "      <td>0.003276</td>\n",
       "      <td>702</td>\n",
       "      <td>0.469697</td>\n",
       "      <td>4</td>\n",
       "    </tr>\n",
       "    <tr>\n",
       "      <th>1954</th>\n",
       "      <td>even</td>\n",
       "      <td>115</td>\n",
       "      <td>0.003038</td>\n",
       "      <td>817</td>\n",
       "      <td>0.435606</td>\n",
       "      <td>5</td>\n",
       "    </tr>\n",
       "  </tbody>\n",
       "</table>\n",
       "</div>"
      ],
      "text/plain": [
       "      Terms  Count  Rel_Freq  CountBack      zipf  rank\n",
       "3987    one    264  0.006975        264  1.000000     1\n",
       "5822   time    159  0.004201        423  0.602273     2\n",
       "2306  found    155  0.004095        578  0.587121     3\n",
       "4986    say    124  0.003276        702  0.469697     4\n",
       "1954   even    115  0.003038        817  0.435606     5"
      ]
     },
     "execution_count": 285,
     "metadata": {},
     "output_type": "execute_result"
    }
   ],
   "source": [
    "\n",
    "book_data_tfdf.head()\n"
   ]
  },
  {
   "cell_type": "markdown",
   "metadata": {},
   "source": [
    "##### 6. Does the observed relative frequency of these words follow Zipf’s law?  Explain. \n",
    "Zipf's law states that the frequency of the most common word will occur twice as often as the second most common word, three times as often as the third most common word, and so on.  The plot shown in blue is the inverse relationship: y = 1/x, which Zipf's law states.  The plot shown in red is the number of counts of each unique word in the corpus relative to the word that appears most frequently.  The plot in red follows the general trend of Zipf's law, but does not exactly equal that relationship.  The drop in the frequency values in the corpus is more gradual than Zipf's law states."
   ]
  },
  {
   "cell_type": "markdown",
   "metadata": {},
   "source": [
    "#### <i>7. In what ways do you think the frequency of the words in this corpus differ from “all words in all corpora.”<i>"
   ]
  },
  {
   "cell_type": "markdown",
   "metadata": {},
   "source": [
    "We noted lots of uncommon or very unfamiliar terms in the Term Frequency, as compared to all word in the real corpus. Few major steps that have impacted the frequency or words spelling are :\n",
    "\n",
    "+ <u>Stopwords</u>: As part of our data cleaning process we dropped most of the known English stopwords and few numbers which we felt are more generic and don't give much info about the content. For example word 'The', 'for' etc. This would reduce the most frequent words to some very specifics sets of words which are not stopwords.\n",
    "\n",
    "+ <u>Stemming</u>: Stemming is another text cleaning method opted during our data cleanup, which tries to reduce the word to its original stem part, whcih may work well with some but may not work with few othe terms like \"meanness\" and \"meaning\" they both have stem word as \"mean\". But its faster and if accuracy is not a major factor this can be a good starting point.\n",
    " \n",
    "+ <u>Lemmatizing</u>: We also tried lemmatizing our terms, this the process is more dictionary originated and needs lots of process time depending on data. But the result is more accurate and it looks for words in corpus and word is not found then that word would be retained as it without stemming or losing its actual meaning.\n",
    "\n",
    "\n",
    "These data cleaning technique reduces the words to some of the most generic forms which can be later used to build a model on.\n"
   ]
  },
  {
   "cell_type": "code",
   "execution_count": 286,
   "metadata": {},
   "outputs": [
    {
     "name": "stdout",
     "output_type": "stream",
     "text": [
      "['time' 'found' 'say' 'even' 'appear' 'bodi' 'first' 'day' 'two' 'thu'\n",
      " 'de' 'made' 'littl' 'mean' 'howev' 'without' 'well' 'must' 'balloon'\n",
      " 'said' 'three' 'evid' 'may' 'point' 'let' 'suppos' 'might' 'far' 'word'\n",
      " 'murder' 'make' 'seem' 'whole' 'observ' 'natur' 'mari' 'head' 'eye'\n",
      " 'person' 'noth' 'earth' 'feet' 'see' 'although' 'yet' 'still' 'l' 'left'\n",
      " 'immedi' 'look' 'place' 'corps' 'voic' 'gener' 'possibl' 'appar' 'mind'\n",
      " 'mr' 'within' 'thought' 'moment' 'fact' 'mere' 'long' 'everi' 'period'\n",
      " 'way' 'question' 'water' 'hand' 'inde' 'length' 'part' 'take' 'manner'\n",
      " 'man' 'moon' 'shall' 'matter' 'reason' 'seen' 'attent' 'like' 'car'\n",
      " 'doubt' 'cours' 'hour' 'find' 'madam' 'direct' 'less' 'night' 'jupit'\n",
      " 'idea' 'minut' 'call' 'suffici' 'continu' 'light' 'surfac' 'regard'\n",
      " 'dark' 'case' 'soon' 'mani' 'know' 'present' 'circumst' 'never' 'nearli'\n",
      " 'imagin' 'proceed' 'least' 'also' 'pass' 'form' 'open' 'thing' 'paper'\n",
      " 'difficulti' 'sure' 'charact' 'morn' 'atmospher' 'air' 'le' 'power'\n",
      " 'give' 'death' 'legrand' 'perhap' 'object' 'old' 'four' 'entir' 'distanc'\n",
      " 'taken' 'turn' 'discov' 'examin' 'believ' 'end' 'purpos' 'attempt'\n",
      " 'remain' 'larg' 'known' 'reach' 'five' 'becam' 'back' 'thousand' 'good'\n",
      " 'view' 'state' 'sever' 'therefor' 'hous' 'escap' 'degre' 'portion'\n",
      " 'posit' 'design' 'rue' 'home' 'year' 'go' 'saw' 'subject' 'dupin' 'think'\n",
      " 'return' 'heard' 'becom' 'full' 'respect' 'hold' 'done' 'come' 'went'\n",
      " 'around' 'close' 'beyond' 'remark' 'consequ' 'fell' 'room' 'latter'\n",
      " 'friend' 'probabl' 'river' 'perceiv' 'articl' 'account' 'sea' 'new'\n",
      " 'half' 'small' 'forc']\n"
     ]
    }
   ],
   "source": [
    "print(book_data_tfdf.Terms[1:200].values)"
   ]
  },
  {
   "cell_type": "code",
   "execution_count": null,
   "metadata": {},
   "outputs": [],
   "source": []
  }
 ],
 "metadata": {
  "kernelspec": {
   "display_name": "Python 3",
   "language": "python",
   "name": "python3"
  },
  "language_info": {
   "codemirror_mode": {
    "name": "ipython",
    "version": 3
   },
   "file_extension": ".py",
   "mimetype": "text/x-python",
   "name": "python",
   "nbconvert_exporter": "python",
   "pygments_lexer": "ipython3",
   "version": "3.7.3"
  }
 },
 "nbformat": 4,
 "nbformat_minor": 2
}
