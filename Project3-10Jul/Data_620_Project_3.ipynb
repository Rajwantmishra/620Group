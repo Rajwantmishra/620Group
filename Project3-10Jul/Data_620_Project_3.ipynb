{
 "cells": [
  {
   "cell_type": "markdown",
   "metadata": {},
   "source": [
    "Assignment Detail:\n",
    "\n",
    "For this project, please work with the entire class as one collaborative group! Your project should be submitted (as a Jupyter Notebook via GitHub) by end of the due date. The group should present their code and findings in our meetup. The ability to be an effective member of a virtual team is highly valued in the data science job market.\n",
    "\n",
    "Using any of the three classifiers described in chapter 6 of Natural Language Processing with Python, and any features you can think of, build the best name gender classifier you can.\n",
    "Begin by splitting the Names Corpus into three subsets: 500 words for the test set, 500 words for the devtest set, and the remaining 6900 words for the training set. Then, starting with the example name gender classifier, make incremental improvements. Use the dev-test set to check your progress. Once you are satisfied with your classifier, check its final performance on the test set. \n",
    "\n",
    "How does the performance on the test set compare to the performance on the dev-test set? Is this what you'd expect?\n",
    "\n",
    "Source: Natural Language Processing with Python, exercise 6.10.2."
   ]
  },
  {
   "cell_type": "markdown",
   "metadata": {},
   "source": [
    "\n",
    "Building data set: Using nltk function we have build gender data set called \"Gender_names\" here. \n",
    "    "
   ]
  },
  {
   "cell_type": "code",
   "execution_count": 1,
   "metadata": {},
   "outputs": [
    {
     "name": "stderr",
     "output_type": "stream",
     "text": [
      "[nltk_data] Downloading package names to\n",
      "[nltk_data]     C:\\Users\\sql_ent_svc\\AppData\\Roaming\\nltk_data...\n",
      "[nltk_data]   Package names is already up-to-date!\n"
     ]
    },
    {
     "data": {
      "text/plain": [
       "True"
      ]
     },
     "execution_count": 1,
     "metadata": {},
     "output_type": "execute_result"
    }
   ],
   "source": [
    "import nltk\n",
    "nltk.download('names')"
   ]
  },
  {
   "cell_type": "code",
   "execution_count": 2,
   "metadata": {},
   "outputs": [],
   "source": [
    "from nltk.corpus import names\n",
    "import random\n",
    "from nltk.classify import apply_features\n",
    "\n",
    "#Building the Gender_names data set\n",
    "Gender_names = ([(name, 'male') for name in names.words('male.txt')] +\n",
    "[(name, 'female') for name in names.words('female.txt')])\n",
    "random.shuffle(Gender_names)"
   ]
  },
  {
   "cell_type": "code",
   "execution_count": 3,
   "metadata": {},
   "outputs": [
    {
     "data": {
      "text/plain": [
       "[('Harmon', 'male'),\n",
       " ('Rozina', 'female'),\n",
       " ('Miles', 'male'),\n",
       " ('Berk', 'male'),\n",
       " ('Mitra', 'female'),\n",
       " ('Berte', 'female'),\n",
       " ('Hiro', 'male'),\n",
       " ('Giovanni', 'male'),\n",
       " ('Hildagarde', 'female'),\n",
       " ('Clem', 'male')]"
      ]
     },
     "execution_count": 3,
     "metadata": {},
     "output_type": "execute_result"
    }
   ],
   "source": [
    "Gender_names[0:10] #show the names with gender. "
   ]
  },
  {
   "cell_type": "markdown",
   "metadata": {},
   "source": [
    "Gender Identification:\n",
    "Male and female names have distinct characteristics such as names ending in a, e, and i are likely to be female, while names ending in k, o, r, s, and t are likely to be male. We have build a classifier to model these differences more precisely. We will look for the last letter of a given name. (Source: NLP book page 222-223) "
   ]
  },
  {
   "cell_type": "code",
   "execution_count": 4,
   "metadata": {},
   "outputs": [],
   "source": [
    "def gender_features(word):\n",
    "    return {'last_letter': word[-1]}"
   ]
  },
  {
   "cell_type": "code",
   "execution_count": 5,
   "metadata": {
    "scrolled": true
   },
   "outputs": [
    {
     "data": {
      "text/plain": [
       "{'last_letter': 'e'}"
      ]
     },
     "execution_count": 5,
     "metadata": {},
     "output_type": "execute_result"
    }
   ],
   "source": [
    "gender_features('Justine')"
   ]
  },
  {
   "cell_type": "markdown",
   "metadata": {},
   "source": [
    "Next, we have used the feature extractor to process the Gender_names data, and divide the resulting list of feature sets into a training set and a test set."
   ]
  },
  {
   "cell_type": "code",
   "execution_count": 6,
   "metadata": {},
   "outputs": [],
   "source": [
    "featuresets = [(gender_features(n), g) for (n,g) in Gender_names]\n",
    "train_set, test_set = featuresets[500:], featuresets[:500]\n",
    "classifier = nltk.NaiveBayesClassifier.train(train_set)"
   ]
  },
  {
   "cell_type": "code",
   "execution_count": 7,
   "metadata": {},
   "outputs": [
    {
     "data": {
      "text/plain": [
       "({'last_letter': 's'}, 'male')"
      ]
     },
     "execution_count": 7,
     "metadata": {},
     "output_type": "execute_result"
    }
   ],
   "source": [
    "featuresets[2]"
   ]
  },
  {
   "cell_type": "code",
   "execution_count": 9,
   "metadata": {},
   "outputs": [
    {
     "name": "stdout",
     "output_type": "stream",
     "text": [
      "male\n",
      "female\n"
     ]
    }
   ],
   "source": [
    "print (classifier.classify(gender_features('Romeo'))) #male\n",
    "print (classifier.classify(gender_features('Trinity'))) #female"
   ]
  },
  {
   "cell_type": "code",
   "execution_count": 10,
   "metadata": {},
   "outputs": [
    {
     "name": "stdout",
     "output_type": "stream",
     "text": [
      "0.758\n"
     ]
    }
   ],
   "source": [
    "print (nltk.classify.accuracy(classifier, test_set))"
   ]
  },
  {
   "cell_type": "code",
   "execution_count": 11,
   "metadata": {},
   "outputs": [
    {
     "name": "stdout",
     "output_type": "stream",
     "text": [
      "Most Informative Features\n",
      "             last_letter = 'a'            female : male   =     35.9 : 1.0\n",
      "             last_letter = 'k'              male : female =     32.3 : 1.0\n",
      "             last_letter = 'f'              male : female =     14.6 : 1.0\n",
      "             last_letter = 'p'              male : female =     11.9 : 1.0\n",
      "             last_letter = 'd'              male : female =     10.2 : 1.0\n"
     ]
    }
   ],
   "source": [
    "classifier.show_most_informative_features(5)"
   ]
  },
  {
   "cell_type": "markdown",
   "metadata": {},
   "source": [
    "Since we are working with large corpora, we will use  use the function\n",
    "nltk.classify.apply_features which does not store all the feature sets in memory."
   ]
  },
  {
   "cell_type": "code",
   "execution_count": 12,
   "metadata": {},
   "outputs": [],
   "source": [
    "train_set = apply_features(gender_features, Gender_names[500:])\n",
    "test_set = apply_features(gender_features, Gender_names[:500])"
   ]
  },
  {
   "cell_type": "markdown",
   "metadata": {},
   "source": [
    "Choosing the Right Features:\n",
    "Selecting relevant features and deciding how to encode them are very important to build a  good model. "
   ]
  },
  {
   "cell_type": "code",
   "execution_count": 13,
   "metadata": {},
   "outputs": [],
   "source": [
    "def gender_features2(name):\n",
    "    features = {}\n",
    "    features[\"firstletter\"] = name[0].lower()\n",
    "    features[\"lastletter\"] = name[-1].lower()\n",
    "    for letter in 'abcdefghijklmnopqrstuvwxyz':\n",
    "        features[\"count(%s)\" % letter] = name.lower().count(letter)\n",
    "        features[\"has(%s)\" % letter] = (letter in name.lower())\n",
    "    return features"
   ]
  },
  {
   "cell_type": "code",
   "execution_count": 14,
   "metadata": {},
   "outputs": [
    {
     "data": {
      "text/plain": [
       "{'firstletter': 'j',\n",
       " 'lastletter': 'n',\n",
       " 'count(a)': 0,\n",
       " 'has(a)': False,\n",
       " 'count(b)': 0,\n",
       " 'has(b)': False,\n",
       " 'count(c)': 0,\n",
       " 'has(c)': False,\n",
       " 'count(d)': 0,\n",
       " 'has(d)': False,\n",
       " 'count(e)': 0,\n",
       " 'has(e)': False,\n",
       " 'count(f)': 0,\n",
       " 'has(f)': False,\n",
       " 'count(g)': 0,\n",
       " 'has(g)': False,\n",
       " 'count(h)': 1,\n",
       " 'has(h)': True,\n",
       " 'count(i)': 0,\n",
       " 'has(i)': False,\n",
       " 'count(j)': 1,\n",
       " 'has(j)': True,\n",
       " 'count(k)': 0,\n",
       " 'has(k)': False,\n",
       " 'count(l)': 0,\n",
       " 'has(l)': False,\n",
       " 'count(m)': 0,\n",
       " 'has(m)': False,\n",
       " 'count(n)': 1,\n",
       " 'has(n)': True,\n",
       " 'count(o)': 1,\n",
       " 'has(o)': True,\n",
       " 'count(p)': 0,\n",
       " 'has(p)': False,\n",
       " 'count(q)': 0,\n",
       " 'has(q)': False,\n",
       " 'count(r)': 0,\n",
       " 'has(r)': False,\n",
       " 'count(s)': 0,\n",
       " 'has(s)': False,\n",
       " 'count(t)': 0,\n",
       " 'has(t)': False,\n",
       " 'count(u)': 0,\n",
       " 'has(u)': False,\n",
       " 'count(v)': 0,\n",
       " 'has(v)': False,\n",
       " 'count(w)': 0,\n",
       " 'has(w)': False,\n",
       " 'count(x)': 0,\n",
       " 'has(x)': False,\n",
       " 'count(y)': 0,\n",
       " 'has(y)': False,\n",
       " 'count(z)': 0,\n",
       " 'has(z)': False}"
      ]
     },
     "execution_count": 14,
     "metadata": {},
     "output_type": "execute_result"
    }
   ],
   "source": [
    "gender_features2('John')"
   ]
  },
  {
   "cell_type": "markdown",
   "metadata": {},
   "source": [
    "Accuracy of naive Bayes classifier using the feature extractor: "
   ]
  },
  {
   "cell_type": "code",
   "execution_count": 15,
   "metadata": {},
   "outputs": [
    {
     "name": "stdout",
     "output_type": "stream",
     "text": [
      "0.77\n"
     ]
    }
   ],
   "source": [
    "featuresets = [(gender_features2(n), g) for (n,g) in Gender_names]\n",
    "train_set, test_set = featuresets[500:], featuresets[:500]\n",
    "classifier = nltk.NaiveBayesClassifier.train(train_set)\n",
    "print (nltk.classify.accuracy(classifier, test_set))"
   ]
  },
  {
   "cell_type": "markdown",
   "metadata": {},
   "source": [
    "Above result shows that the accuracy of classifier to count letters is about 2% more\n",
    "than the accuracy of a classifier that only pays attention to the final letter of each name."
   ]
  },
  {
   "cell_type": "markdown",
   "metadata": {},
   "source": [
    "\n",
    "Error analysis: First, we select a development set, containing the\n",
    "corpus data for creating the model. This development set is then subdivided into the\n",
    "training set and the dev-test set.\n"
   ]
  },
  {
   "cell_type": "code",
   "execution_count": 16,
   "metadata": {},
   "outputs": [],
   "source": [
    "train_names = Gender_names[1500:]\n",
    "devtest_names = Gender_names[500:1500]\n",
    "test_names = Gender_names[:500]"
   ]
  },
  {
   "cell_type": "markdown",
   "metadata": {},
   "source": [
    "We have divided the corpus into appropriate datasets. Then we have built a model using the training\n",
    "set, and then run it on the dev-test set."
   ]
  },
  {
   "cell_type": "code",
   "execution_count": 17,
   "metadata": {},
   "outputs": [
    {
     "name": "stdout",
     "output_type": "stream",
     "text": [
      "0.748\n"
     ]
    }
   ],
   "source": [
    "train_set = [(gender_features(n), g) for (n,g) in train_names]\n",
    "devtest_set = [(gender_features(n), g) for (n,g) in devtest_names]\n",
    "test_set = [(gender_features(n), g) for (n,g) in test_names]\n",
    "classifier = nltk.NaiveBayesClassifier.train(train_set)\n",
    "print (nltk.classify.accuracy(classifier, devtest_set))"
   ]
  },
  {
   "cell_type": "markdown",
   "metadata": {},
   "source": [
    "Using the dev-test set, we can generate a list of the errors that the classifier makes when\n",
    "predicting name genders:"
   ]
  },
  {
   "cell_type": "code",
   "execution_count": 18,
   "metadata": {},
   "outputs": [],
   "source": [
    "errors = []\n",
    "for (name, tag) in devtest_names:\n",
    "    guess = classifier.classify(gender_features(name))\n",
    "    if guess != tag:\n",
    "        errors.append( (tag, guess, name) )"
   ]
  },
  {
   "cell_type": "markdown",
   "metadata": {},
   "source": [
    "The names classifier that we have built generates about 100 errors on the dev-test corpus as follows:"
   ]
  },
  {
   "cell_type": "code",
   "execution_count": 19,
   "metadata": {},
   "outputs": [
    {
     "name": "stdout",
     "output_type": "stream",
     "text": [
      "correct=female   guess=male     name=Adrien                        \n",
      "correct=female   guess=male     name=Alis                          \n",
      "correct=female   guess=male     name=Ann                           \n",
      "correct=female   guess=male     name=Ardys                         \n",
      "correct=female   guess=male     name=Aryn                          \n",
      "correct=female   guess=male     name=Ashleigh                      \n",
      "correct=female   guess=male     name=Astrid                        \n",
      "correct=female   guess=male     name=Ayn                           \n",
      "correct=female   guess=male     name=Beilul                        \n",
      "correct=female   guess=male     name=Bel                           \n",
      "correct=female   guess=male     name=Bert                          \n",
      "correct=female   guess=male     name=Beryl                         \n",
      "correct=female   guess=male     name=Beth                          \n",
      "correct=female   guess=male     name=Beulah                        \n",
      "correct=female   guess=male     name=Bridget                       \n",
      "correct=female   guess=male     name=Calypso                       \n",
      "correct=female   guess=male     name=Carlyn                        \n",
      "correct=female   guess=male     name=Carmen                        \n",
      "correct=female   guess=male     name=Caro                          \n",
      "correct=female   guess=male     name=Carroll                       \n",
      "correct=female   guess=male     name=Charil                        \n",
      "correct=female   guess=male     name=Charis                        \n",
      "correct=female   guess=male     name=Cherin                        \n",
      "correct=female   guess=male     name=Chris                         \n",
      "correct=female   guess=male     name=Christabel                    \n",
      "correct=female   guess=male     name=Claribel                      \n",
      "correct=female   guess=male     name=Clem                          \n",
      "correct=female   guess=male     name=Cleo                          \n",
      "correct=female   guess=male     name=Coral                         \n",
      "correct=female   guess=male     name=Coreen                        \n",
      "correct=female   guess=male     name=Cybil                         \n",
      "correct=female   guess=male     name=Darb                          \n",
      "correct=female   guess=male     name=Darryl                        \n",
      "correct=female   guess=male     name=Daryl                         \n",
      "correct=female   guess=male     name=Dawn                          \n",
      "correct=female   guess=male     name=Devan                         \n",
      "correct=female   guess=male     name=Devon                         \n",
      "correct=female   guess=male     name=Dian                          \n",
      "correct=female   guess=male     name=Dion                          \n",
      "correct=female   guess=male     name=Doralyn                       \n",
      "correct=female   guess=male     name=Dot                           \n",
      "correct=female   guess=male     name=Dynah                         \n",
      "correct=female   guess=male     name=Eadith                        \n",
      "correct=female   guess=male     name=Eileen                        \n",
      "correct=female   guess=male     name=Ellyn                         \n",
      "correct=female   guess=male     name=Ellynn                        \n",
      "correct=female   guess=male     name=Elspeth                       \n",
      "correct=female   guess=male     name=Emlynn                        \n",
      "correct=female   guess=male     name=Emmalynn                      \n",
      "correct=female   guess=male     name=Esther                        \n",
      "correct=female   guess=male     name=Farrah                        \n",
      "correct=female   guess=male     name=Fiann                         \n",
      "correct=female   guess=male     name=Fran                          \n",
      "correct=female   guess=male     name=Frances                       \n",
      "correct=female   guess=male     name=Gates                         \n",
      "correct=female   guess=male     name=Gennifer                      \n",
      "correct=female   guess=male     name=Gertrudis                     \n",
      "correct=female   guess=male     name=Gill                          \n",
      "correct=female   guess=male     name=Ginger                        \n",
      "correct=female   guess=male     name=Glynis                        \n",
      "correct=female   guess=male     name=Gretel                        \n",
      "correct=female   guess=male     name=Havivah                       \n",
      "correct=female   guess=male     name=Hazel                         \n",
      "correct=female   guess=male     name=Helyn                         \n",
      "correct=female   guess=male     name=Hyacinth                      \n",
      "correct=female   guess=male     name=Inez                          \n",
      "correct=female   guess=male     name=Jaleh                         \n",
      "correct=female   guess=male     name=Jan                           \n",
      "correct=female   guess=male     name=Jemimah                       \n",
      "correct=female   guess=male     name=Jess                          \n",
      "correct=female   guess=male     name=Jessalyn                      \n",
      "correct=female   guess=male     name=Jill                          \n",
      "correct=female   guess=male     name=JoAnn                         \n",
      "correct=female   guess=male     name=Jolyn                         \n",
      "correct=female   guess=male     name=Justin                        \n",
      "correct=female   guess=male     name=Karel                         \n",
      "correct=female   guess=male     name=Karylin                       \n",
      "correct=female   guess=male     name=Kass                          \n",
      "correct=female   guess=male     name=Katleen                       \n",
      "correct=female   guess=male     name=Kevyn                         \n",
      "correct=female   guess=male     name=Kip                           \n",
      "correct=female   guess=male     name=Kristal                       \n",
      "correct=female   guess=male     name=Kristyn                       \n",
      "correct=female   guess=male     name=Laurel                        \n",
      "correct=female   guess=male     name=Leeann                        \n",
      "correct=female   guess=male     name=Leiah                         \n",
      "correct=female   guess=male     name=Leilah                        \n",
      "correct=female   guess=male     name=Leorah                        \n",
      "correct=female   guess=male     name=Lilian                        \n",
      "correct=female   guess=male     name=Lilias                        \n",
      "correct=female   guess=male     name=Lillian                       \n",
      "correct=female   guess=male     name=Linell                        \n",
      "correct=female   guess=male     name=Linn                          \n",
      "correct=female   guess=male     name=Lizabeth                      \n",
      "correct=female   guess=male     name=Lois                          \n",
      "correct=female   guess=male     name=Lorain                        \n",
      "correct=female   guess=male     name=Lou                           \n",
      "correct=female   guess=male     name=Lynnett                       \n",
      "correct=female   guess=male     name=Mair                          \n",
      "correct=female   guess=male     name=Maribeth                      \n",
      "correct=female   guess=male     name=Marillin                      \n",
      "correct=female   guess=male     name=Marj                          \n",
      "correct=female   guess=male     name=Maureen                       \n",
      "correct=female   guess=male     name=Megan                         \n",
      "correct=female   guess=male     name=Megen                         \n",
      "correct=female   guess=male     name=Meghann                       \n",
      "correct=female   guess=male     name=Mehetabel                     \n",
      "correct=female   guess=male     name=Merrill                       \n",
      "correct=female   guess=male     name=Mildred                       \n",
      "correct=female   guess=male     name=Min                           \n",
      "correct=female   guess=male     name=Nariko                        \n",
      "correct=female   guess=male     name=Nell                          \n",
      "correct=female   guess=male     name=Nil                           \n",
      "correct=female   guess=male     name=Ninon                         \n",
      "correct=female   guess=male     name=Norah                         \n",
      "correct=female   guess=male     name=Norean                        \n",
      "correct=female   guess=male     name=Noreen                        \n",
      "correct=female   guess=male     name=Pat                           \n",
      "correct=female   guess=male     name=Pet                           \n",
      "correct=female   guess=male     name=Phil                          \n",
      "correct=female   guess=male     name=Piper                         \n",
      "correct=female   guess=male     name=Pru                           \n",
      "correct=female   guess=male     name=Raven                         \n",
      "correct=female   guess=male     name=Raynell                       \n",
      "correct=female   guess=male     name=Rhianon                       \n",
      "correct=female   guess=male     name=Robbin                        \n",
      "correct=female   guess=male     name=Rosamond                      \n",
      "correct=female   guess=male     name=Shawn                         \n",
      "correct=female   guess=male     name=Sheelagh                      \n",
      "correct=female   guess=male     name=Shir                          \n",
      "correct=female   guess=male     name=Shirah                        \n",
      "correct=female   guess=male     name=Shirleen                      \n",
      "correct=female   guess=male     name=Sileas                        \n",
      "correct=female   guess=male     name=Sinead                        \n",
      "correct=female   guess=male     name=Susan                         \n",
      "correct=female   guess=male     name=Tamarah                       \n",
      "correct=female   guess=male     name=Tarah                         \n",
      "correct=female   guess=male     name=Terri-Jo                      \n",
      "correct=female   guess=male     name=Violet                        \n",
      "correct=female   guess=male     name=Viviyan                       \n",
      "correct=female   guess=male     name=Vivyan                        \n",
      "correct=female   guess=male     name=Willyt                        \n",
      "correct=female   guess=male     name=Winonah                       \n",
      "correct=male     guess=female   name=Alexei                        \n",
      "correct=male     guess=female   name=Ambrose                       \n",
      "correct=male     guess=female   name=Arie                          \n",
      "correct=male     guess=female   name=Arvie                         \n",
      "correct=male     guess=female   name=Beale                         \n",
      "correct=male     guess=female   name=Bela                          \n",
      "correct=male     guess=female   name=Benjie                        \n",
      "correct=male     guess=female   name=Blare                         \n",
      "correct=male     guess=female   name=Brady                         \n",
      "correct=male     guess=female   name=Broddie                       \n",
      "correct=male     guess=female   name=Bryce                         \n",
      "correct=male     guess=female   name=Carey                         \n",
      "correct=male     guess=female   name=Cary                          \n",
      "correct=male     guess=female   name=Casey                         \n",
      "correct=male     guess=female   name=Chance                        \n",
      "correct=male     guess=female   name=Chancey                       \n",
      "correct=male     guess=female   name=Clarke                        \n",
      "correct=male     guess=female   name=Claude                        \n",
      "correct=male     guess=female   name=Clive                         \n",
      "correct=male     guess=female   name=Cody                          \n",
      "correct=male     guess=female   name=Dannie                        \n",
      "correct=male     guess=female   name=Dave                          \n",
      "correct=male     guess=female   name=Dennie                        \n",
      "correct=male     guess=female   name=Donnie                        \n",
      "correct=male     guess=female   name=Donny                         \n",
      "correct=male     guess=female   name=Dory                          \n",
      "correct=male     guess=female   name=Emmery                        \n",
      "correct=male     guess=female   name=Farley                        \n",
      "correct=male     guess=female   name=Felice                        \n",
      "correct=male     guess=female   name=Frankie                       \n",
      "correct=male     guess=female   name=Freddy                        \n",
      "correct=male     guess=female   name=Gabe                          \n",
      "correct=male     guess=female   name=Garvy                         \n",
      "correct=male     guess=female   name=Gere                          \n",
      "correct=male     guess=female   name=Godfree                       \n",
      "correct=male     guess=female   name=Gordie                        \n",
      "correct=male     guess=female   name=Grace                         \n",
      "correct=male     guess=female   name=Gustave                       \n",
      "correct=male     guess=female   name=Hale                          \n",
      "correct=male     guess=female   name=Hartley                       \n",
      "correct=male     guess=female   name=Hasty                         \n",
      "correct=male     guess=female   name=Henrie                        \n",
      "correct=male     guess=female   name=Hervey                        \n",
      "correct=male     guess=female   name=Hewe                          \n",
      "correct=male     guess=female   name=Hy                            \n",
      "correct=male     guess=female   name=Hymie                         \n",
      "correct=male     guess=female   name=Ikey                          \n",
      "correct=male     guess=female   name=Jefferey                      \n",
      "correct=male     guess=female   name=Jefry                         \n",
      "correct=male     guess=female   name=Jodi                          \n",
      "correct=male     guess=female   name=Joe                           \n",
      "correct=male     guess=female   name=Judy                          \n",
      "correct=male     guess=female   name=Julie                         \n",
      "correct=male     guess=female   name=Kane                          \n",
      "correct=male     guess=female   name=Lane                          \n",
      "correct=male     guess=female   name=Lawerence                     \n",
      "correct=male     guess=female   name=Lesley                        \n",
      "correct=male     guess=female   name=Maurice                       \n",
      "correct=male     guess=female   name=Michele                       \n",
      "correct=male     guess=female   name=Mika                          \n",
      "correct=male     guess=female   name=Moise                         \n",
      "correct=male     guess=female   name=Moishe                        \n",
      "correct=male     guess=female   name=Myke                          \n",
      "correct=male     guess=female   name=Neale                         \n",
      "correct=male     guess=female   name=Noble                         \n",
      "correct=male     guess=female   name=Paddie                        \n",
      "correct=male     guess=female   name=Page                          \n",
      "correct=male     guess=female   name=Parry                         \n",
      "correct=male     guess=female   name=Petey                         \n",
      "correct=male     guess=female   name=Phillipe                      \n",
      "correct=male     guess=female   name=Rabi                          \n",
      "correct=male     guess=female   name=Rawley                        \n",
      "correct=male     guess=female   name=Rikki                         \n",
      "correct=male     guess=female   name=Riley                         \n",
      "correct=male     guess=female   name=Rodge                         \n",
      "correct=male     guess=female   name=Rodrique                      \n",
      "correct=male     guess=female   name=Roice                         \n",
      "correct=male     guess=female   name=Roni                          \n",
      "correct=male     guess=female   name=Rudie                         \n",
      "correct=male     guess=female   name=Rudy                          \n",
      "correct=male     guess=female   name=Salvatore                     \n",
      "correct=male     guess=female   name=Scottie                       \n",
      "correct=male     guess=female   name=Shayne                        \n",
      "correct=male     guess=female   name=Shea                          \n",
      "correct=male     guess=female   name=Sheffy                        \n",
      "correct=male     guess=female   name=Siddhartha                    \n",
      "correct=male     guess=female   name=Siffre                        \n",
      "correct=male     guess=female   name=Sinclare                      \n",
      "correct=male     guess=female   name=Stearne                       \n",
      "correct=male     guess=female   name=Steve                         \n",
      "correct=male     guess=female   name=Terrance                      \n",
      "correct=male     guess=female   name=Toddy                         \n",
      "correct=male     guess=female   name=Torrance                      \n",
      "correct=male     guess=female   name=Torrence                      \n",
      "correct=male     guess=female   name=Tracy                         \n",
      "correct=male     guess=female   name=Tray                          \n",
      "correct=male     guess=female   name=Tymothy                       \n",
      "correct=male     guess=female   name=Vale                          \n",
      "correct=male     guess=female   name=Vince                         \n",
      "correct=male     guess=female   name=Waverley                      \n",
      "correct=male     guess=female   name=Wayne                         \n",
      "correct=male     guess=female   name=Wesley                        \n",
      "correct=male     guess=female   name=Winnie                        \n",
      "correct=male     guess=female   name=Woody                         \n",
      "correct=male     guess=female   name=Yance                         \n",
      "correct=male     guess=female   name=Zacherie                      \n",
      "correct=male     guess=female   name=Zary                          \n",
      "correct=male     guess=female   name=Zebedee                       \n",
      "correct=male     guess=female   name=Zippy                         \n"
     ]
    }
   ],
   "source": [
    "for (tag, guess, name) in sorted(errors): # doctest: +ELLIPSIS +NORMALIZE_WHITESPACE\n",
    "    print ('correct=%-8s guess=%-8s name=%-30s' % (tag, guess, name))"
   ]
  },
  {
   "cell_type": "markdown",
   "metadata": {},
   "source": [
    "Now, we will adjust our feature extractor to include features for two-letter suffixes:"
   ]
  },
  {
   "cell_type": "code",
   "execution_count": 20,
   "metadata": {},
   "outputs": [],
   "source": [
    "def gender_features(word):\n",
    "    return {'suffix1': word[-1:], 'suffix2': word[-2:]}"
   ]
  },
  {
   "cell_type": "code",
   "execution_count": 21,
   "metadata": {},
   "outputs": [
    {
     "name": "stdout",
     "output_type": "stream",
     "text": [
      "0.77\n"
     ]
    }
   ],
   "source": [
    "train_set = [(gender_features(n), g) for (n,g) in train_names]\n",
    "devtest_set = [(gender_features(n), g) for (n,g) in devtest_names]\n",
    "classifier = nltk.NaiveBayesClassifier.train(train_set)\n",
    "print (nltk.classify.accuracy(classifier, devtest_set))"
   ]
  },
  {
   "cell_type": "markdown",
   "metadata": {},
   "source": [
    "Rebuilding the classifier with the new feature extractor, we see that the performance\n",
    "on the dev-test dataset improves by almost two percentage points from 74.8% to 77.0%)"
   ]
  },
  {
   "cell_type": "markdown",
   "metadata": {},
   "source": [
    "I have created another features here which utilizes the first and last letter. It also looks for the prefix and suffix, or first and last two or three letters, depending on the name's length of a name and looks for whether or not any of the consonant clusters are present."
   ]
  },
  {
   "cell_type": "code",
   "execution_count": 31,
   "metadata": {},
   "outputs": [],
   "source": [
    "def class_gender_features4(name):\n",
    "    features = {}\n",
    "    temp_name = name\n",
    "    cons_clusters = [\"bl\", \"br\", \"ch\", \"cl\", \"cr\", \"dr\", \"fl\", \"fr\", \"gl\", \"gr\", \"pl\", \"pr\", \"sc\", \"sh\", \"sk\", \"sl\", \"sm\", \"sn\", \"sp\", \"st\", \"sw\", \"th\", \"tr\", \"tw\", \"wh\", \"wr\", \"sch\", \"scr\", \"shr\", \"sph\", \"spl\", \"spr\", \"squ\", \"str\", \"thr\"]\n",
    "    features[\"firstletter\"] = name[0].lower() \n",
    "    features[\"lastletter\"] = name[-1].lower() \n",
    "    features[\"prefix\"] = name[:3].lower() if len(name) > 4 else name[:2].lower() \n",
    "    features[\"suffix\"] = name[-3:].lower() if len(name) > 4 else name[-2:].lower()\n",
    "    clusters = []\n",
    "    for cluster in cons_clusters[::-1]:\n",
    "        if cluster in temp_name:\n",
    "            temp_name = temp_name.replace(cluster, \"\")\n",
    "            clusters.append(cluster)\n",
    "    features[\"consonant_clusters_1\"] = clusters[0] if len(clusters) > 0 else None\n",
    "    features[\"consonant_clusters_2\"] = clusters[1] if len(clusters) > 1 else None\n",
    "    features[\"consonant_clusters_3\"] = clusters[2] if len(clusters) > 2 else None\n",
    "    return features"
   ]
  },
  {
   "cell_type": "markdown",
   "metadata": {},
   "source": [
    "Testing accuracy:\n",
    "We will test the accuracy of of both gender features of finding the gender by last name and counting the letters of names here. To do this, we will run each function 100 times."
   ]
  },
  {
   "cell_type": "code",
   "execution_count": 23,
   "metadata": {},
   "outputs": [],
   "source": [
    "import pandas as pd"
   ]
  },
  {
   "cell_type": "code",
   "execution_count": 27,
   "metadata": {},
   "outputs": [],
   "source": [
    "def accuracy(number_of_runs, function_to_use):\n",
    "    acc_df = {\n",
    "        \"classifier\": [],\n",
    "        \"train_set_accuracy\": [],\n",
    "        \"test_set_accuracy\": [],\n",
    "        \"devtest_set_accuracy\": [],\n",
    "        \"devtest_errors\": []\n",
    "    }\n",
    "    for i in range(number_of_runs):\n",
    "        random.shuffle(Gender_names)\n",
    "        acc_train_names = Gender_names[1000:]\n",
    "        acc_devtest_names = Gender_names[500:1000]\n",
    "        acc_test_names = Gender_names[:500]\n",
    "        acc_train_set = [(function_to_use(n), g) for (n,g) in acc_train_names]\n",
    "        acc_devtest_set = [(function_to_use(n), g) for (n,g) in acc_devtest_names]\n",
    "        acc_test_set = [(function_to_use(n), g) for (n,g) in acc_test_names]\n",
    "        acc_classifier = nltk.NaiveBayesClassifier.train(acc_train_set)\n",
    "        acc_df[\"classifier\"].append(acc_classifier)\n",
    "        acc_df[\"train_set_accuracy\"].append(nltk.classify.accuracy(acc_classifier, acc_train_set))\n",
    "        acc_df[\"test_set_accuracy\"].append(nltk.classify.accuracy(acc_classifier, acc_test_set))\n",
    "        acc_df[\"devtest_set_accuracy\"].append(nltk.classify.accuracy(acc_classifier, acc_devtest_set))\n",
    "        acc_errors = []\n",
    "        for (name, tag) in acc_devtest_names:\n",
    "            acc_guess = acc_classifier.classify(function_to_use(name))\n",
    "            if acc_guess != tag:\n",
    "                acc_errors.append( (tag, acc_guess, name) )\n",
    "        acc_df[\"devtest_errors\"].append(acc_errors)\n",
    "    acc_df = pd.DataFrame.from_dict(acc_df)\n",
    "    return(acc_df)"
   ]
  },
  {
   "cell_type": "code",
   "execution_count": 28,
   "metadata": {},
   "outputs": [
    {
     "data": {
      "text/html": [
       "<div>\n",
       "<style scoped>\n",
       "    .dataframe tbody tr th:only-of-type {\n",
       "        vertical-align: middle;\n",
       "    }\n",
       "\n",
       "    .dataframe tbody tr th {\n",
       "        vertical-align: top;\n",
       "    }\n",
       "\n",
       "    .dataframe thead th {\n",
       "        text-align: right;\n",
       "    }\n",
       "</style>\n",
       "<table border=\"1\" class=\"dataframe\">\n",
       "  <thead>\n",
       "    <tr style=\"text-align: right;\">\n",
       "      <th></th>\n",
       "      <th>train_set_accuracy</th>\n",
       "      <th>test_set_accuracy</th>\n",
       "      <th>devtest_set_accuracy</th>\n",
       "    </tr>\n",
       "  </thead>\n",
       "  <tbody>\n",
       "    <tr>\n",
       "      <th>count</th>\n",
       "      <td>100.000000</td>\n",
       "      <td>100.000000</td>\n",
       "      <td>100.000000</td>\n",
       "    </tr>\n",
       "    <tr>\n",
       "      <th>mean</th>\n",
       "      <td>0.789293</td>\n",
       "      <td>0.781720</td>\n",
       "      <td>0.781060</td>\n",
       "    </tr>\n",
       "    <tr>\n",
       "      <th>std</th>\n",
       "      <td>0.001951</td>\n",
       "      <td>0.014845</td>\n",
       "      <td>0.019954</td>\n",
       "    </tr>\n",
       "    <tr>\n",
       "      <th>min</th>\n",
       "      <td>0.785138</td>\n",
       "      <td>0.744000</td>\n",
       "      <td>0.732000</td>\n",
       "    </tr>\n",
       "    <tr>\n",
       "      <th>25%</th>\n",
       "      <td>0.787874</td>\n",
       "      <td>0.772000</td>\n",
       "      <td>0.768000</td>\n",
       "    </tr>\n",
       "    <tr>\n",
       "      <th>50%</th>\n",
       "      <td>0.789315</td>\n",
       "      <td>0.782000</td>\n",
       "      <td>0.780000</td>\n",
       "    </tr>\n",
       "    <tr>\n",
       "      <th>75%</th>\n",
       "      <td>0.790323</td>\n",
       "      <td>0.790000</td>\n",
       "      <td>0.796000</td>\n",
       "    </tr>\n",
       "    <tr>\n",
       "      <th>max</th>\n",
       "      <td>0.794067</td>\n",
       "      <td>0.816000</td>\n",
       "      <td>0.830000</td>\n",
       "    </tr>\n",
       "  </tbody>\n",
       "</table>\n",
       "</div>"
      ],
      "text/plain": [
       "       train_set_accuracy  test_set_accuracy  devtest_set_accuracy\n",
       "count          100.000000         100.000000            100.000000\n",
       "mean             0.789293           0.781720              0.781060\n",
       "std              0.001951           0.014845              0.019954\n",
       "min              0.785138           0.744000              0.732000\n",
       "25%              0.787874           0.772000              0.768000\n",
       "50%              0.789315           0.782000              0.780000\n",
       "75%              0.790323           0.790000              0.796000\n",
       "max              0.794067           0.816000              0.830000"
      ]
     },
     "execution_count": 28,
     "metadata": {},
     "output_type": "execute_result"
    }
   ],
   "source": [
    "Accuracy_df_1 = accuracy(100, gender_features)\n",
    "Accuracy_df_1.describe()"
   ]
  },
  {
   "cell_type": "markdown",
   "metadata": {},
   "source": [
    "The accuracy of the first features shows that the average (mean) accuracy accross the test_set are between 78.1% and 78.9%. The mean accuracy of train_set is more than the accuracy of devtest_set. "
   ]
  },
  {
   "cell_type": "code",
   "execution_count": 29,
   "metadata": {},
   "outputs": [
    {
     "data": {
      "text/html": [
       "<div>\n",
       "<style scoped>\n",
       "    .dataframe tbody tr th:only-of-type {\n",
       "        vertical-align: middle;\n",
       "    }\n",
       "\n",
       "    .dataframe tbody tr th {\n",
       "        vertical-align: top;\n",
       "    }\n",
       "\n",
       "    .dataframe thead th {\n",
       "        text-align: right;\n",
       "    }\n",
       "</style>\n",
       "<table border=\"1\" class=\"dataframe\">\n",
       "  <thead>\n",
       "    <tr style=\"text-align: right;\">\n",
       "      <th></th>\n",
       "      <th>train_set_accuracy</th>\n",
       "      <th>test_set_accuracy</th>\n",
       "      <th>devtest_set_accuracy</th>\n",
       "    </tr>\n",
       "  </thead>\n",
       "  <tbody>\n",
       "    <tr>\n",
       "      <th>count</th>\n",
       "      <td>100.000000</td>\n",
       "      <td>100.000000</td>\n",
       "      <td>100.00000</td>\n",
       "    </tr>\n",
       "    <tr>\n",
       "      <th>mean</th>\n",
       "      <td>0.778713</td>\n",
       "      <td>0.771860</td>\n",
       "      <td>0.77356</td>\n",
       "    </tr>\n",
       "    <tr>\n",
       "      <th>std</th>\n",
       "      <td>0.001699</td>\n",
       "      <td>0.018326</td>\n",
       "      <td>0.01807</td>\n",
       "    </tr>\n",
       "    <tr>\n",
       "      <th>min</th>\n",
       "      <td>0.775202</td>\n",
       "      <td>0.716000</td>\n",
       "      <td>0.72600</td>\n",
       "    </tr>\n",
       "    <tr>\n",
       "      <th>25%</th>\n",
       "      <td>0.777470</td>\n",
       "      <td>0.759500</td>\n",
       "      <td>0.76150</td>\n",
       "    </tr>\n",
       "    <tr>\n",
       "      <th>50%</th>\n",
       "      <td>0.778658</td>\n",
       "      <td>0.774000</td>\n",
       "      <td>0.77400</td>\n",
       "    </tr>\n",
       "    <tr>\n",
       "      <th>75%</th>\n",
       "      <td>0.780098</td>\n",
       "      <td>0.784000</td>\n",
       "      <td>0.78400</td>\n",
       "    </tr>\n",
       "    <tr>\n",
       "      <th>max</th>\n",
       "      <td>0.783698</td>\n",
       "      <td>0.818000</td>\n",
       "      <td>0.81600</td>\n",
       "    </tr>\n",
       "  </tbody>\n",
       "</table>\n",
       "</div>"
      ],
      "text/plain": [
       "       train_set_accuracy  test_set_accuracy  devtest_set_accuracy\n",
       "count          100.000000         100.000000             100.00000\n",
       "mean             0.778713           0.771860               0.77356\n",
       "std              0.001699           0.018326               0.01807\n",
       "min              0.775202           0.716000               0.72600\n",
       "25%              0.777470           0.759500               0.76150\n",
       "50%              0.778658           0.774000               0.77400\n",
       "75%              0.780098           0.784000               0.78400\n",
       "max              0.783698           0.818000               0.81600"
      ]
     },
     "execution_count": 29,
     "metadata": {},
     "output_type": "execute_result"
    }
   ],
   "source": [
    "Accuracy_df_2 = accuracy(100, gender_features2)\n",
    "Accuracy_df_2.describe()"
   ]
  },
  {
   "cell_type": "markdown",
   "metadata": {},
   "source": [
    "The accuracy of the second features shows that the average (mean) accuracy across the test_set are between 77.3% and 77.9%. The mean accuracy of train_set is more than the accuracy of devtest_set."
   ]
  },
  {
   "cell_type": "code",
   "execution_count": 32,
   "metadata": {},
   "outputs": [
    {
     "data": {
      "text/html": [
       "<div>\n",
       "<style scoped>\n",
       "    .dataframe tbody tr th:only-of-type {\n",
       "        vertical-align: middle;\n",
       "    }\n",
       "\n",
       "    .dataframe tbody tr th {\n",
       "        vertical-align: top;\n",
       "    }\n",
       "\n",
       "    .dataframe thead th {\n",
       "        text-align: right;\n",
       "    }\n",
       "</style>\n",
       "<table border=\"1\" class=\"dataframe\">\n",
       "  <thead>\n",
       "    <tr style=\"text-align: right;\">\n",
       "      <th></th>\n",
       "      <th>train_set_accuracy</th>\n",
       "      <th>test_set_accuracy</th>\n",
       "      <th>devtest_set_accuracy</th>\n",
       "    </tr>\n",
       "  </thead>\n",
       "  <tbody>\n",
       "    <tr>\n",
       "      <th>count</th>\n",
       "      <td>100.000000</td>\n",
       "      <td>100.000000</td>\n",
       "      <td>100.000000</td>\n",
       "    </tr>\n",
       "    <tr>\n",
       "      <th>mean</th>\n",
       "      <td>0.883635</td>\n",
       "      <td>0.834340</td>\n",
       "      <td>0.833020</td>\n",
       "    </tr>\n",
       "    <tr>\n",
       "      <th>std</th>\n",
       "      <td>0.001748</td>\n",
       "      <td>0.016208</td>\n",
       "      <td>0.016638</td>\n",
       "    </tr>\n",
       "    <tr>\n",
       "      <th>min</th>\n",
       "      <td>0.878744</td>\n",
       "      <td>0.792000</td>\n",
       "      <td>0.790000</td>\n",
       "    </tr>\n",
       "    <tr>\n",
       "      <th>25%</th>\n",
       "      <td>0.882488</td>\n",
       "      <td>0.824000</td>\n",
       "      <td>0.824000</td>\n",
       "    </tr>\n",
       "    <tr>\n",
       "      <th>50%</th>\n",
       "      <td>0.883641</td>\n",
       "      <td>0.834000</td>\n",
       "      <td>0.834000</td>\n",
       "    </tr>\n",
       "    <tr>\n",
       "      <th>75%</th>\n",
       "      <td>0.884937</td>\n",
       "      <td>0.845000</td>\n",
       "      <td>0.844000</td>\n",
       "    </tr>\n",
       "    <tr>\n",
       "      <th>max</th>\n",
       "      <td>0.887529</td>\n",
       "      <td>0.868000</td>\n",
       "      <td>0.876000</td>\n",
       "    </tr>\n",
       "  </tbody>\n",
       "</table>\n",
       "</div>"
      ],
      "text/plain": [
       "       train_set_accuracy  test_set_accuracy  devtest_set_accuracy\n",
       "count          100.000000         100.000000            100.000000\n",
       "mean             0.883635           0.834340              0.833020\n",
       "std              0.001748           0.016208              0.016638\n",
       "min              0.878744           0.792000              0.790000\n",
       "25%              0.882488           0.824000              0.824000\n",
       "50%              0.883641           0.834000              0.834000\n",
       "75%              0.884937           0.845000              0.844000\n",
       "max              0.887529           0.868000              0.876000"
      ]
     },
     "execution_count": 32,
     "metadata": {},
     "output_type": "execute_result"
    }
   ],
   "source": [
    "class_df_3 = accuracy(100, class_gender_features4)\n",
    "class_df_3.describe()"
   ]
  },
  {
   "cell_type": "markdown",
   "metadata": {},
   "source": [
    "The accuracy of the third features, looking for prefix and suffix in the names, shows that the average (mean) accuracy across the test_set are between 83.3% and 88.4%. The mean accuracy of train_set is more than the accuracy of devtest_set and test accuracy."
   ]
  },
  {
   "cell_type": "code",
   "execution_count": null,
   "metadata": {},
   "outputs": [],
   "source": []
  }
 ],
 "metadata": {
  "kernelspec": {
   "display_name": "Python 3",
   "language": "python",
   "name": "python3"
  },
  "language_info": {
   "codemirror_mode": {
    "name": "ipython",
    "version": 3
   },
   "file_extension": ".py",
   "mimetype": "text/x-python",
   "name": "python",
   "nbconvert_exporter": "python",
   "pygments_lexer": "ipython3",
   "version": "3.7.3"
  }
 },
 "nbformat": 4,
 "nbformat_minor": 2
}
