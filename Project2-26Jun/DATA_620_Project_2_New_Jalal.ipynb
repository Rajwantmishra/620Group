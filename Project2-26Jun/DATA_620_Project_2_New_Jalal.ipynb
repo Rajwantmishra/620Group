{
 "cells": [
  {
   "cell_type": "markdown",
   "metadata": {},
   "source": [
    "# DATA_620:Project_2"
   ]
  },
  {
   "cell_type": "raw",
   "metadata": {},
   "source": [
    "GROUP3: Md. Jalal Uddin, Rajwant Mishra, Sarah Wigodsky, Brian Liles"
   ]
  },
  {
   "cell_type": "markdown",
   "metadata": {},
   "source": [
    "YouTube Presentation: \n"
   ]
  },
  {
   "cell_type": "raw",
   "metadata": {},
   "source": [
    "Assignment Details:\n",
    "1) Identify a large 2-node network dataset—you can start with a dataset in a repository. Your data should meet the criteria that it consists of ties between and not within two (or more) distinct groups.\n",
    "\n",
    "2) Reduce the size of the network using a method such as the island method described in chapter 4 of social network analysis.\n",
    "\n",
    "3) What can you infer about each of the distinct groups?"
   ]
  },
  {
   "cell_type": "markdown",
   "metadata": {},
   "source": [
    "\n",
    "Data Source: NASA Astrophysics Data System (https://ui.adsabs.harvard.edu/)\n",
    "\n",
    "NASA Astrophysics Data has the affiliations between authors and their journals. This data set is a large 2-node network data set which has the information of Journal name and Author name of publication. For example, there are two or more journal for one publications. The primary objective of this project is to use clustering techniques such as the island method. With the help of the method we will to try to find small sub-networks/subgroups of important authors that are frequently collaborating together. We will also see which journals stand out as main points for these types of collaborations.\n"
   ]
  },
  {
   "cell_type": "raw",
   "metadata": {},
   "source": [
    "\n",
    "For this project, we have first imported some libraries. We imported networkx, networkx's bipartite, matplotlib's pyplot for graphing, and Numpy's for mathematical calculations and figures. Then we have created the data using on.environment as below:\n"
   ]
  },
  {
   "cell_type": "code",
   "execution_count": 71,
   "metadata": {},
   "outputs": [],
   "source": [
    "import networkx as nx\n",
    "import os\n",
    "import ads as ads \n",
    "import matplotlib.pyplot as plt\n",
    "import pandas as pd\n",
    "import numpy as np\n",
    "from networkx.algorithms import bipartite as bi\n",
    "import math\n",
    "\n",
    "plt.figure(figsize = (17,8))\n",
    "%matplotlib inline"
   ]
  },
  {
   "cell_type": "raw",
   "metadata": {},
   "source": [
    "\n",
    "Building the data set from Astrophysics data system:\n"
   ]
  },
  {
   "cell_type": "code",
   "execution_count": 82,
   "metadata": {},
   "outputs": [],
   "source": [
    "os.environ[\"ADS_DEV_KEY\"] = \"kNUoTurJ5TXV9hsw9KQN1k8wH4U0D7Oy0CJoOvyw\""
   ]
  },
  {
   "cell_type": "code",
   "execution_count": 83,
   "metadata": {},
   "outputs": [],
   "source": [
    "ads.config.token = 'ADS_DEV_KEY'"
   ]
  },
  {
   "cell_type": "code",
   "execution_count": 84,
   "metadata": {},
   "outputs": [],
   "source": [
    "#Searching for papers which are most rated: I have searched here for those journal which have given most stars.\n",
    "papers1 = list(ads.SearchQuery(q= \"stars\", sort=\"citation_count\", max_pages=1 ))"
   ]
  },
  {
   "cell_type": "code",
   "execution_count": 85,
   "metadata": {},
   "outputs": [],
   "source": [
    "# To find the name of the author.\n",
    "a = []\n",
    "for i in papers1:\n",
    "    authors1 = i.author\n",
    "    a.append(authors1)\n",
    "author_names = a"
   ]
  },
  {
   "cell_type": "code",
   "execution_count": 86,
   "metadata": {},
   "outputs": [
    {
     "name": "stderr",
     "output_type": "stream",
     "text": [
      "C:\\ProgramData\\Anaconda3\\lib\\site-packages\\ads\\utils.py:31: UserWarning: You are lazy loading attributes via 'pub', and so are making multiple calls to the API. This will impact your overall rate limits.\n",
      "  UserWarning,\n"
     ]
    }
   ],
   "source": [
    "# And, then finding the journals of the authors\n",
    "j = []\n",
    "for i in papers1:\n",
    "    journals1 = i.pub\n",
    "    j.append(journals1)\n",
    "journals = j"
   ]
  },
  {
   "cell_type": "code",
   "execution_count": 87,
   "metadata": {},
   "outputs": [],
   "source": [
    "# Now, creating a data frame of author and the journal\n",
    "df = pd.DataFrame({'Author_Names' : author_names,\n",
    " 'Journal':journals\n",
    "  })"
   ]
  },
  {
   "cell_type": "code",
   "execution_count": 88,
   "metadata": {},
   "outputs": [
    {
     "data": {
      "text/html": [
       "<div>\n",
       "<style scoped>\n",
       "    .dataframe tbody tr th:only-of-type {\n",
       "        vertical-align: middle;\n",
       "    }\n",
       "\n",
       "    .dataframe tbody tr th {\n",
       "        vertical-align: top;\n",
       "    }\n",
       "\n",
       "    .dataframe thead th {\n",
       "        text-align: right;\n",
       "    }\n",
       "</style>\n",
       "<table border=\"1\" class=\"dataframe\">\n",
       "  <thead>\n",
       "    <tr style=\"text-align: right;\">\n",
       "      <th></th>\n",
       "      <th>Journal</th>\n",
       "      <th>Author_Name</th>\n",
       "    </tr>\n",
       "  </thead>\n",
       "  <tbody>\n",
       "    <tr>\n",
       "      <th>0</th>\n",
       "      <td>Nature Materials</td>\n",
       "      <td>Geim, A. K.</td>\n",
       "    </tr>\n",
       "    <tr>\n",
       "      <th>0</th>\n",
       "      <td>Nature Materials</td>\n",
       "      <td>Novoselov, K. S.</td>\n",
       "    </tr>\n",
       "    <tr>\n",
       "      <th>1</th>\n",
       "      <td>Astronomy and Astrophysics</td>\n",
       "      <td>Shakura, N. I.</td>\n",
       "    </tr>\n",
       "    <tr>\n",
       "      <th>1</th>\n",
       "      <td>Astronomy and Astrophysics</td>\n",
       "      <td>Sunyaev, R. A.</td>\n",
       "    </tr>\n",
       "    <tr>\n",
       "      <th>2</th>\n",
       "      <td>The Astrophysical Journal Supplement Series</td>\n",
       "      <td>Spergel, D. N.</td>\n",
       "    </tr>\n",
       "  </tbody>\n",
       "</table>\n",
       "</div>"
      ],
      "text/plain": [
       "                                       Journal       Author_Name\n",
       "0                             Nature Materials       Geim, A. K.\n",
       "0                             Nature Materials  Novoselov, K. S.\n",
       "1                   Astronomy and Astrophysics    Shakura, N. I.\n",
       "1                   Astronomy and Astrophysics    Sunyaev, R. A.\n",
       "2  The Astrophysical Journal Supplement Series    Spergel, D. N."
      ]
     },
     "execution_count": 88,
     "metadata": {},
     "output_type": "execute_result"
    }
   ],
   "source": [
    "# Expanding the data frame (df) with melt\n",
    "s1 = df.apply(lambda x: pd.Series(x['Author_Names']),axis=1).stack().reset_index(level=1, drop=True)\n",
    "s1.name = 'Author_Name'\n",
    "df_m = df.drop('Author_Names', axis=1).join(s1)\n",
    "df_m.head()"
   ]
  },
  {
   "cell_type": "markdown",
   "metadata": {},
   "source": [
    "Creating Nodes and Edge for author and the journal from the df_m data set:"
   ]
  },
  {
   "cell_type": "code",
   "execution_count": 72,
   "metadata": {},
   "outputs": [],
   "source": [
    "#read in nodes\n",
    "nodes = pd.read_csv(\"C:/Users/sql_ent_svc/Desktop/DATA_620(Web_Analytics)/Project_2/Nodes.csv\", encoding='latin-1')"
   ]
  },
  {
   "cell_type": "code",
   "execution_count": 73,
   "metadata": {},
   "outputs": [
    {
     "data": {
      "text/html": [
       "<div>\n",
       "<style scoped>\n",
       "    .dataframe tbody tr th:only-of-type {\n",
       "        vertical-align: middle;\n",
       "    }\n",
       "\n",
       "    .dataframe tbody tr th {\n",
       "        vertical-align: top;\n",
       "    }\n",
       "\n",
       "    .dataframe thead th {\n",
       "        text-align: right;\n",
       "    }\n",
       "</style>\n",
       "<table border=\"1\" class=\"dataframe\">\n",
       "  <thead>\n",
       "    <tr style=\"text-align: right;\">\n",
       "      <th></th>\n",
       "      <th>Author_Name</th>\n",
       "    </tr>\n",
       "  </thead>\n",
       "  <tbody>\n",
       "    <tr>\n",
       "      <th>0</th>\n",
       "      <td>Geim, A. K.</td>\n",
       "    </tr>\n",
       "    <tr>\n",
       "      <th>1</th>\n",
       "      <td>Novoselov, K. S.</td>\n",
       "    </tr>\n",
       "    <tr>\n",
       "      <th>2</th>\n",
       "      <td>Shakura, N. I.</td>\n",
       "    </tr>\n",
       "    <tr>\n",
       "      <th>3</th>\n",
       "      <td>Sunyaev, R. A.</td>\n",
       "    </tr>\n",
       "    <tr>\n",
       "      <th>4</th>\n",
       "      <td>Spergel, D. N.</td>\n",
       "    </tr>\n",
       "  </tbody>\n",
       "</table>\n",
       "</div>"
      ],
      "text/plain": [
       "        Author_Name\n",
       "0       Geim, A. K.\n",
       "1  Novoselov, K. S.\n",
       "2    Shakura, N. I.\n",
       "3    Sunyaev, R. A.\n",
       "4    Spergel, D. N."
      ]
     },
     "execution_count": 73,
     "metadata": {},
     "output_type": "execute_result"
    }
   ],
   "source": [
    "nodes.head(5)"
   ]
  },
  {
   "cell_type": "code",
   "execution_count": 74,
   "metadata": {},
   "outputs": [],
   "source": [
    "#read in the edge data\n",
    "edges = pd.read_csv(\"C:/Users/sql_ent_svc/Desktop/DATA_620(Web_Analytics)/Project_2/Edges.csv\", encoding='latin-1')"
   ]
  },
  {
   "cell_type": "code",
   "execution_count": 75,
   "metadata": {},
   "outputs": [
    {
     "data": {
      "text/html": [
       "<div>\n",
       "<style scoped>\n",
       "    .dataframe tbody tr th:only-of-type {\n",
       "        vertical-align: middle;\n",
       "    }\n",
       "\n",
       "    .dataframe tbody tr th {\n",
       "        vertical-align: top;\n",
       "    }\n",
       "\n",
       "    .dataframe thead th {\n",
       "        text-align: right;\n",
       "    }\n",
       "</style>\n",
       "<table border=\"1\" class=\"dataframe\">\n",
       "  <thead>\n",
       "    <tr style=\"text-align: right;\">\n",
       "      <th></th>\n",
       "      <th>Journal</th>\n",
       "      <th>Author_Name</th>\n",
       "    </tr>\n",
       "  </thead>\n",
       "  <tbody>\n",
       "    <tr>\n",
       "      <th>0</th>\n",
       "      <td>Nature Materials</td>\n",
       "      <td>Geim, A. K.</td>\n",
       "    </tr>\n",
       "    <tr>\n",
       "      <th>1</th>\n",
       "      <td>Nature Materials</td>\n",
       "      <td>Novoselov, K. S.</td>\n",
       "    </tr>\n",
       "    <tr>\n",
       "      <th>2</th>\n",
       "      <td>Astronomy and Astrophysics</td>\n",
       "      <td>Shakura, N. I.</td>\n",
       "    </tr>\n",
       "    <tr>\n",
       "      <th>3</th>\n",
       "      <td>Astronomy and Astrophysics</td>\n",
       "      <td>Sunyaev, R. A.</td>\n",
       "    </tr>\n",
       "    <tr>\n",
       "      <th>4</th>\n",
       "      <td>The Astrophysical Journal Supplement Series</td>\n",
       "      <td>Spergel, D. N.</td>\n",
       "    </tr>\n",
       "  </tbody>\n",
       "</table>\n",
       "</div>"
      ],
      "text/plain": [
       "                                       Journal       Author_Name\n",
       "0                             Nature Materials       Geim, A. K.\n",
       "1                             Nature Materials  Novoselov, K. S.\n",
       "2                   Astronomy and Astrophysics    Shakura, N. I.\n",
       "3                   Astronomy and Astrophysics    Sunyaev, R. A.\n",
       "4  The Astrophysical Journal Supplement Series    Spergel, D. N."
      ]
     },
     "execution_count": 75,
     "metadata": {},
     "output_type": "execute_result"
    }
   ],
   "source": [
    "edges.head(5)"
   ]
  },
  {
   "cell_type": "code",
   "execution_count": 88,
   "metadata": {},
   "outputs": [],
   "source": [
    "#make graph\n",
    "g = nx.Graph(name = \"NASA_DATA\")"
   ]
  },
  {
   "cell_type": "code",
   "execution_count": 89,
   "metadata": {},
   "outputs": [],
   "source": [
    "node_values = list(nodes.Author_Name.values)"
   ]
  },
  {
   "cell_type": "code",
   "execution_count": 90,
   "metadata": {},
   "outputs": [],
   "source": [
    "g.add_nodes_from(node_values)"
   ]
  },
  {
   "cell_type": "code",
   "execution_count": 91,
   "metadata": {},
   "outputs": [],
   "source": [
    "subset = edges[['Author_Name','Journal',]]\n",
    "edges_tuples = [tuple(x) for x in subset.values]"
   ]
  },
  {
   "cell_type": "code",
   "execution_count": 92,
   "metadata": {},
   "outputs": [],
   "source": [
    "g.add_edges_from(edges_tuples)"
   ]
  },
  {
   "cell_type": "code",
   "execution_count": 93,
   "metadata": {},
   "outputs": [
    {
     "data": {
      "image/png": "[encoded data removed]",
      "text/plain": [
       "<Figure size 432x288 with 1 Axes>"
      ]
     },
     "metadata": {},
     "output_type": "display_data"
    }
   ],
   "source": [
    "nx.draw_spring(g, with_labels = False)"
   ]
  },
  {
   "cell_type": "markdown",
   "metadata": {},
   "source": [
    "We can see from the graph above that the NASA Astrophysics Data has the affiliations between authors and their journals. The big red circle represent in the middle that this journal has written by many authors. There are other journal sorrouding by the big red one. But, we can not infer any connection between them from above picture.    \n"
   ]
  },
  {
   "cell_type": "code",
   "execution_count": 36,
   "metadata": {},
   "outputs": [
    {
     "name": "stdout",
     "output_type": "stream",
     "text": [
      "Name: Org\n",
      "Type: Graph\n",
      "Number of nodes: 1678\n",
      "Number of edges: 1694\n",
      "Average degree:   2.0191\n"
     ]
    }
   ],
   "source": [
    "print (nx.info(g))\n",
    "#print  (\"Diameter: \" + str(nx.diameter(g)))"
   ]
  },
  {
   "cell_type": "markdown",
   "metadata": {},
   "source": [
    "The graph has 1678 nodes with 1694 edges (which makes sense since it consists of a Author write many journal for publication). There is a low degree as most Author only have 2 Journal."
   ]
  },
  {
   "cell_type": "code",
   "execution_count": 95,
   "metadata": {},
   "outputs": [
    {
     "ename": "NameError",
     "evalue": "name 'journal' is not defined",
     "output_type": "error",
     "traceback": [
      "\u001b[1;31m---------------------------------------------------------------------------\u001b[0m",
      "\u001b[1;31mNameError\u001b[0m                                 Traceback (most recent call last)",
      "\u001b[1;32m<ipython-input-95-fdc668356498>\u001b[0m in \u001b[0;36m<module>\u001b[1;34m\u001b[0m\n\u001b[0;32m      1\u001b[0m \u001b[0mlabel_map\u001b[0m \u001b[1;33m=\u001b[0m \u001b[1;33m{\u001b[0m\u001b[1;33m}\u001b[0m\u001b[1;33m\u001b[0m\u001b[1;33m\u001b[0m\u001b[0m\n\u001b[1;32m----> 2\u001b[1;33m \u001b[1;32mfor\u001b[0m \u001b[0mjournal\u001b[0m \u001b[1;32min\u001b[0m \u001b[0mjournal\u001b[0m\u001b[1;33m:\u001b[0m\u001b[1;33m\u001b[0m\u001b[1;33m\u001b[0m\u001b[0m\n\u001b[0m\u001b[0;32m      3\u001b[0m     \u001b[0mlabel_map\u001b[0m\u001b[1;33m[\u001b[0m\u001b[0mjournal\u001b[0m\u001b[1;33m]\u001b[0m \u001b[1;33m=\u001b[0m \u001b[0mjournal\u001b[0m\u001b[1;33m\u001b[0m\u001b[1;33m\u001b[0m\u001b[0m\n\u001b[0;32m      4\u001b[0m \u001b[1;32mfor\u001b[0m \u001b[0mAuthor_Name\u001b[0m \u001b[1;32min\u001b[0m \u001b[0mAuthor_Name\u001b[0m\u001b[1;33m:\u001b[0m\u001b[1;33m\u001b[0m\u001b[1;33m\u001b[0m\u001b[0m\n\u001b[0;32m      5\u001b[0m     \u001b[0mAuthor_Name\u001b[0m\u001b[1;33m[\u001b[0m\u001b[0mAuthor_Name\u001b[0m\u001b[1;33m.\u001b[0m\u001b[0mindex\u001b[0m\u001b[1;33m(\u001b[0m\u001b[0mAuthor_Name\u001b[0m\u001b[1;33m)\u001b[0m\u001b[1;33m]\u001b[0m \u001b[1;33m=\u001b[0m \u001b[0mAuthor_Name\u001b[0m\u001b[1;33m.\u001b[0m\u001b[0mreplace\u001b[0m\u001b[1;33m(\u001b[0m\u001b[1;34m\" \"\u001b[0m\u001b[1;33m,\u001b[0m \u001b[1;34m\"\\n\"\u001b[0m\u001b[1;33m)\u001b[0m\u001b[1;33m\u001b[0m\u001b[1;33m\u001b[0m\u001b[0m\n",
      "\u001b[1;31mNameError\u001b[0m: name 'journal' is not defined"
     ]
    }
   ],
   "source": [
    "label_map = {}\n",
    "for journal in journal:\n",
    "    label_map[edges.journal] = journal\n",
    "for Author_Name in Author_Name:\n",
    "    Author_Name[Author_Name.index(Author_Name)] = Author_Name.replace(\" \", \"\\n\")\n",
    "    label_map[Author_Name] = Author_Name.replace(\" \", \"\\n\")\n",
    "G = nx.relabel_nodes(G, label_map)"
   ]
  },
  {
   "cell_type": "code",
   "execution_count": null,
   "metadata": {},
   "outputs": [],
   "source": [
    "# Now, I am drawing the plot, with its nodes and edges.\n",
    "plt.figure(figsize=(10,10))\n",
    "pos = nx.spring_layout(g,k=0.55,iterations=80)\n",
    "pos_labels = {}\n",
    "keys = pos.keys()\n",
    "for key in keys:\n",
    "    x, y = pos[key]\n",
    "    pos_labels[key] = (x, y)\n",
    "nx.draw_networkx_labels(g, pos_labels, font_color='Blue', font_size=10)\n",
    "nx.draw_networkx_edges(g, pos, edge_color=\"Gray\", alpha=0.4)\n",
    "nx.draw_networkx_nodes(g, pos, node_color=[color_map[G.node[node]['category']] for node in G], node_size=300)\n",
    "plt.axis(\"off\")\n",
    "plt.show()"
   ]
  },
  {
   "cell_type": "code",
   "execution_count": null,
   "metadata": {},
   "outputs": [],
   "source": []
  },
  {
   "cell_type": "markdown",
   "metadata": {},
   "source": [
    "# Degree of Centrality"
   ]
  },
  {
   "cell_type": "code",
   "execution_count": 42,
   "metadata": {},
   "outputs": [],
   "source": [
    "degree = nx.degree(g)\n",
    "degree = dict(list(degree))"
   ]
  },
  {
   "cell_type": "code",
   "execution_count": 43,
   "metadata": {},
   "outputs": [
    {
     "name": "stdout",
     "output_type": "stream",
     "text": [
      "1\n",
      "1307\n"
     ]
    }
   ],
   "source": [
    "print (min(degree.values())) #min = 1\n",
    "print (max(degree.values() )) #max = 1307"
   ]
  },
  {
   "cell_type": "code",
   "execution_count": 54,
   "metadata": {},
   "outputs": [],
   "source": [
    "sort_degree = sorted(degree.items(), key = lambda k_v: (k_v[0], k_v[1]))"
   ]
  },
  {
   "cell_type": "code",
   "execution_count": 56,
   "metadata": {},
   "outputs": [
    {
     "data": {
      "text/plain": [
       "[('A Wiley-Interscience Publication', 3),\n",
       " ('Abazajian, Kevork N.', 1),\n",
       " ('Abbott, B. P.', 1),\n",
       " ('Abbott, R.', 1),\n",
       " ('Abbott, T. D.', 1),\n",
       " ('Abernathy, M. R.', 1),\n",
       " ('Acernese, F.', 1),\n",
       " ('Ackley, K.', 1),\n",
       " ('Adams, C.', 1),\n",
       " ('Adams, Fred C.', 1),\n",
       " ('Adams, T.', 1),\n",
       " ('Addesso, P.', 1),\n",
       " ('Adelman-McCarthy, Jennifer K.', 1),\n",
       " ('Adhikari, R. X.', 1),\n",
       " ('Adya, V. B.', 1),\n",
       " ('Affeldt, C.', 1),\n",
       " ('Afrough, M.', 1),\n",
       " ('Agarwal, B.', 1),\n",
       " ('Agathos, M.', 1),\n",
       " ('Agatsuma, K.', 1)]"
      ]
     },
     "execution_count": 56,
     "metadata": {},
     "output_type": "execute_result"
    }
   ],
   "source": [
    "sort_degree[0:20]"
   ]
  },
  {
   "cell_type": "code",
   "execution_count": 61,
   "metadata": {},
   "outputs": [
    {
     "data": {
      "text/plain": [
       "[('A Wiley-Interscience Publication', 0.0017889087656529517),\n",
       " ('Abazajian, Kevork N.', 0.0717350931686232),\n",
       " ('Abbott, B. P.', 0.389833092233434),\n",
       " ('Abbott, R.', 0.389833092233434),\n",
       " ('Abbott, T. D.', 0.389833092233434),\n",
       " ('Abernathy, M. R.', 0.389833092233434),\n",
       " ('Acernese, F.', 0.389833092233434),\n",
       " ('Ackley, K.', 0.389833092233434),\n",
       " ('Adams, C.', 0.389833092233434),\n",
       " ('Adams, Fred C.', 0.03345418498119086)]"
      ]
     },
     "execution_count": 61,
     "metadata": {},
     "output_type": "execute_result"
    }
   ],
   "source": [
    "#closeness\n",
    "closeness = nx.closeness_centrality(g)\n",
    "sorted(closeness.items(), key = lambda k_v: (k_v[0], k_v[1]))[0:10]"
   ]
  },
  {
   "cell_type": "code",
   "execution_count": 60,
   "metadata": {},
   "outputs": [
    {
     "data": {
      "text/plain": [
       "[('A Wiley-Interscience Publication', 2.1347359971992265e-06),\n",
       " ('Abazajian, Kevork N.', 0.0),\n",
       " ('Abbott, B. P.', 0.0),\n",
       " ('Abbott, R.', 0.0),\n",
       " ('Abbott, T. D.', 0.0),\n",
       " ('Abernathy, M. R.', 0.0),\n",
       " ('Acernese, F.', 0.0),\n",
       " ('Ackley, K.', 0.0),\n",
       " ('Adams, C.', 0.0),\n",
       " ('Adams, Fred C.', 0.0)]"
      ]
     },
     "execution_count": 60,
     "metadata": {},
     "output_type": "execute_result"
    }
   ],
   "source": [
    "#betweenness\n",
    "betweenness = nx.betweenness_centrality(g)\n",
    "sorted(betweenness.items(), key = lambda k_v: (k_v[0], k_v[1]))[0:10]"
   ]
  },
  {
   "cell_type": "code",
   "execution_count": 68,
   "metadata": {},
   "outputs": [
    {
     "data": {
      "text/plain": [
       "[('A Wiley-Interscience Publication', 0.0011431455857709933),\n",
       " ('Abazajian, Kevork N.', 0.00031447697536724823),\n",
       " ('Abbott, B. P.', 0.00032255787563655416),\n",
       " ('Abbott, R.', 0.00032255787563655416),\n",
       " ('Abbott, T. D.', 0.00032255787563655416)]"
      ]
     },
     "execution_count": 68,
     "metadata": {},
     "output_type": "execute_result"
    }
   ],
   "source": [
    "#pagerank\n",
    "pagerank = nx.pagerank(g)\n",
    "sorted(pagerank.items(), key = lambda k_v: (k_v[0], k_v[1]))[0:5]"
   ]
  },
  {
   "cell_type": "code",
   "execution_count": null,
   "metadata": {},
   "outputs": [],
   "source": []
  },
  {
   "cell_type": "code",
   "execution_count": null,
   "metadata": {},
   "outputs": [],
   "source": []
  },
  {
   "cell_type": "code",
   "execution_count": null,
   "metadata": {},
   "outputs": [],
   "source": []
  },
  {
   "cell_type": "code",
   "execution_count": null,
   "metadata": {},
   "outputs": [],
   "source": []
  },
  {
   "cell_type": "code",
   "execution_count": 55,
   "metadata": {},
   "outputs": [],
   "source": [
    "author_nodes = pd.DataFrame(df_m.Author_Name.unique(),columns=['Author_Name'])\n",
    "author_nodes['node_type'] = 'Author_Name'\n",
    "journal_nodes = pd.DataFrame(df_m.Journal.unique(), columns=['Journal'])\n",
    "journal_nodes['node_type'] = 'Journal'"
   ]
  },
  {
   "cell_type": "code",
   "execution_count": 56,
   "metadata": {},
   "outputs": [],
   "source": [
    "# Building the graph from the node sets and edges\n",
    "\n",
    "a_nodes = list(author_nodes['Author_Name'])\n",
    "j_nodes = list(journal_nodes['Journal'])\n",
    "edge_bunch = [tuple(i) for i in df_m.values]\n",
    "\n",
    "g = nx.Graph()\n",
    "g.add_nodes_from(a_nodes,node_type='Author_Name', bipartite=0)\n",
    "g.add_nodes_from(j_nodes,node_type='Journal', bipartite=1)\n",
    "g.add_edges_from(edge_bunch)"
   ]
  },
  {
   "cell_type": "code",
   "execution_count": 57,
   "metadata": {},
   "outputs": [],
   "source": [
    "# find the largest most connected graph - 200 as cut-off \n",
    "big_subg = [i for i in nx.connected_component_subgraphs(g) if len(i) > 200]\n",
    "# Largest:\n",
    "sg_largest = big_subg[0] # largest connected subgraph"
   ]
  },
  {
   "cell_type": "code",
   "execution_count": 58,
   "metadata": {},
   "outputs": [],
   "source": [
    "# weighted_projections can be applied to this subgraph to separate the two components\n",
    "Journals,Author_Names = bi.sets(sg_largest) "
   ]
  },
  {
   "cell_type": "markdown",
   "metadata": {},
   "source": [
    "# Island Method"
   ]
  },
  {
   "cell_type": "markdown",
   "metadata": {},
   "source": [
    "\n",
    "Now, I will use the Island method to find more information about our data.  \n"
   ]
  },
  {
   "cell_type": "code",
   "execution_count": 59,
   "metadata": {},
   "outputs": [],
   "source": [
    "j_proj_sg_largest = bi.weighted_projected_graph(sg_largest, Journals) #Creating the subgroup of the Journal"
   ]
  },
  {
   "cell_type": "code",
   "execution_count": 60,
   "metadata": {},
   "outputs": [],
   "source": [
    "a_proj_sg_largest = bi.weighted_projected_graph(sg_largest, Author_Names) #Creating the subgroup of the Author"
   ]
  },
  {
   "cell_type": "raw",
   "metadata": {},
   "source": [
    "Now, I will use the Island method to distinct the subgroup. "
   ]
  },
  {
   "cell_type": "code",
   "execution_count": 61,
   "metadata": {},
   "outputs": [],
   "source": [
    "# Use the Island Method \n",
    "j = j_proj_sg_largest.edges(data=True) \n",
    "a = a_proj_sg_largest.edges(data=True)"
   ]
  },
  {
   "cell_type": "code",
   "execution_count": 62,
   "metadata": {},
   "outputs": [],
   "source": [
    "# With a min threshold of edge weight = 1, find the nodes with strong relationships within the sub-graphs. \n",
    "# tidy (SNAS Ch. 4) function similar to the one presented in Social Network Analysis Chapter 4. \n",
    "def tidy(g, weight):\n",
    "    g_temp = nx.Graph()\n",
    "    edge_bunch2 = [i for i in g.edges(data=True) if i[2]['weight'] > weight]    \n",
    "    g_temp.add_edges_from(edge_bunch2)\n",
    "    return g_temp"
   ]
  },
  {
   "cell_type": "code",
   "execution_count": 63,
   "metadata": {},
   "outputs": [],
   "source": [
    "a_sg_island =  tidy(a_proj_sg_largest, 1)\n",
    "j_sg_island = tidy(j_proj_sg_largest,1)"
   ]
  },
  {
   "cell_type": "markdown",
   "metadata": {},
   "source": [
    "\n",
    "Degree of centrality of both the island clusters:\n"
   ]
  },
  {
   "cell_type": "code",
   "execution_count": 64,
   "metadata": {},
   "outputs": [
    {
     "data": {
      "text/html": [
       "<div>\n",
       "<style scoped>\n",
       "    .dataframe tbody tr th:only-of-type {\n",
       "        vertical-align: middle;\n",
       "    }\n",
       "\n",
       "    .dataframe tbody tr th {\n",
       "        vertical-align: top;\n",
       "    }\n",
       "\n",
       "    .dataframe thead th {\n",
       "        text-align: right;\n",
       "    }\n",
       "</style>\n",
       "<table border=\"1\" class=\"dataframe\">\n",
       "  <thead>\n",
       "    <tr style=\"text-align: right;\">\n",
       "      <th></th>\n",
       "      <th>0</th>\n",
       "    </tr>\n",
       "  </thead>\n",
       "  <tbody>\n",
       "    <tr>\n",
       "      <th>The Astrophysical Journal</th>\n",
       "      <td>1.000000</td>\n",
       "    </tr>\n",
       "    <tr>\n",
       "      <th>Monthly Notices of the Royal Astronomical Society</th>\n",
       "      <td>0.666667</td>\n",
       "    </tr>\n",
       "    <tr>\n",
       "      <th>The Astrophysical Journal Supplement Series</th>\n",
       "      <td>0.666667</td>\n",
       "    </tr>\n",
       "    <tr>\n",
       "      <th>The Astronomical Journal</th>\n",
       "      <td>0.333333</td>\n",
       "    </tr>\n",
       "  </tbody>\n",
       "</table>\n",
       "</div>"
      ],
      "text/plain": [
       "                                                          0\n",
       "The Astrophysical Journal                          1.000000\n",
       "Monthly Notices of the Royal Astronomical Society  0.666667\n",
       "The Astrophysical Journal Supplement Series        0.666667\n",
       "The Astronomical Journal                           0.333333"
      ]
     },
     "execution_count": 64,
     "metadata": {},
     "output_type": "execute_result"
    }
   ],
   "source": [
    "\n",
    "# degree centrality of both island clusters\n",
    "a_degree = nx.degree_centrality(a_sg_island)\n",
    "j_degree = nx.degree_centrality(j_sg_island)\n",
    "pd.DataFrame.from_dict(a_degree,orient='index').sort_values(0,ascending=False).head()\n"
   ]
  },
  {
   "cell_type": "code",
   "execution_count": 65,
   "metadata": {},
   "outputs": [
    {
     "data": {
      "text/html": [
       "<div>\n",
       "<style scoped>\n",
       "    .dataframe tbody tr th:only-of-type {\n",
       "        vertical-align: middle;\n",
       "    }\n",
       "\n",
       "    .dataframe tbody tr th {\n",
       "        vertical-align: top;\n",
       "    }\n",
       "\n",
       "    .dataframe thead th {\n",
       "        text-align: right;\n",
       "    }\n",
       "</style>\n",
       "<table border=\"1\" class=\"dataframe\">\n",
       "  <thead>\n",
       "    <tr style=\"text-align: right;\">\n",
       "      <th></th>\n",
       "      <th>0</th>\n",
       "    </tr>\n",
       "  </thead>\n",
       "  <tbody>\n",
       "    <tr>\n",
       "      <th>Heckman, Timothy M.</th>\n",
       "      <td>0.56</td>\n",
       "    </tr>\n",
       "    <tr>\n",
       "      <th>Brinchmann, Jarle</th>\n",
       "      <td>0.56</td>\n",
       "    </tr>\n",
       "    <tr>\n",
       "      <th>White, Simon D. M.</th>\n",
       "      <td>0.56</td>\n",
       "    </tr>\n",
       "    <tr>\n",
       "      <th>Fukugita, Masataka</th>\n",
       "      <td>0.56</td>\n",
       "    </tr>\n",
       "    <tr>\n",
       "      <th>Bender, Ralf</th>\n",
       "      <td>0.40</td>\n",
       "    </tr>\n",
       "  </tbody>\n",
       "</table>\n",
       "</div>"
      ],
      "text/plain": [
       "                        0\n",
       "Heckman, Timothy M.  0.56\n",
       "Brinchmann, Jarle    0.56\n",
       "White, Simon D. M.   0.56\n",
       "Fukugita, Masataka   0.56\n",
       "Bender, Ralf         0.40"
      ]
     },
     "execution_count": 65,
     "metadata": {},
     "output_type": "execute_result"
    }
   ],
   "source": [
    "\n",
    "pd.DataFrame.from_dict(j_degree,orient='index').sort_values(0,ascending=False).head()\n"
   ]
  },
  {
   "cell_type": "markdown",
   "metadata": {},
   "source": [
    "\n",
    "Examining the connected Subgraphs:\n"
   ]
  },
  {
   "cell_type": "code",
   "execution_count": 66,
   "metadata": {},
   "outputs": [],
   "source": [
    "j_connected = [i for i in nx.connected_component_subgraphs(j_proj_sg_largest) if len(i) > 1]\n",
    "a_connected = [i for i in nx.connected_component_subgraphs(a_proj_sg_largest) if len(i) > 1]"
   ]
  },
  {
   "cell_type": "code",
   "execution_count": 67,
   "metadata": {},
   "outputs": [],
   "source": [
    "# combining the graphs \n",
    "def merge_graph(connected_g):\n",
    "    g = nx.Graph()\n",
    "    for h in connected_g:\n",
    "        g = nx.compose(g,h)\n",
    "    return g\n",
    "\n",
    "a_islands = merge_graph(a_connected)\n",
    "j_islands = merge_graph(j_connected)"
   ]
  },
  {
   "cell_type": "markdown",
   "metadata": {},
   "source": [
    "\n",
    "Drawing the graph of the Author subgroup:\n",
    "    "
   ]
  },
  {
   "cell_type": "code",
   "execution_count": 68,
   "metadata": {},
   "outputs": [
    {
     "name": "stderr",
     "output_type": "stream",
     "text": [
      "C:\\ProgramData\\Anaconda3\\lib\\site-packages\\networkx\\drawing\\nx_pylab.py:611: MatplotlibDeprecationWarning: isinstance(..., numbers.Number)\n",
      "  if cb.is_numlike(alpha):\n"
     ]
    },
    {
     "data": {
      "image/png": "[encoded data removed]",
      "text/plain": [
       "<Figure size 432x288 with 1 Axes>"
      ]
     },
     "metadata": {},
     "output_type": "display_data"
    }
   ],
   "source": [
    "nx.draw(a_islands)"
   ]
  },
  {
   "cell_type": "markdown",
   "metadata": {},
   "source": [
    "\n",
    "Drawing the graph of the Journal subgroup:\n",
    "    "
   ]
  },
  {
   "cell_type": "code",
   "execution_count": 70,
   "metadata": {},
   "outputs": [
    {
     "data": {
      "image/png": "[encoded data removed]",
      "text/plain": [
       "<Figure size 432x288 with 1 Axes>"
      ]
     },
     "metadata": {},
     "output_type": "display_data"
    }
   ],
   "source": [
    "nx.draw(j_islands)\n",
    "pos=nx.circular_layout(j_islands)"
   ]
  },
  {
   "cell_type": "markdown",
   "metadata": {},
   "source": [
    "Conclusion:\n",
    "From the journal island graph we can see that there are few author cluster together with same journal. \n"
   ]
  }
 ],
 "metadata": {
  "kernelspec": {
   "display_name": "Python 3",
   "language": "python",
   "name": "python3"
  },
  "language_info": {
   "codemirror_mode": {
    "name": "ipython",
    "version": 3
   },
   "file_extension": ".py",
   "mimetype": "text/x-python",
   "name": "python",
   "nbconvert_exporter": "python",
   "pygments_lexer": "ipython3",
   "version": "3.7.3"
  }
 },
 "nbformat": 4,
 "nbformat_minor": 2
}
